{
  "nbformat": 4,
  "nbformat_minor": 0,
  "metadata": {
    "colab": {
      "provenance": [],
      "authorship_tag": "ABX9TyOeAXBgWKWBH44/tghcUFuY",
      "include_colab_link": true
    },
    "kernelspec": {
      "name": "python3",
      "display_name": "Python 3"
    },
    "language_info": {
      "name": "python"
    }
  },
  "cells": [
    {
      "cell_type": "markdown",
      "metadata": {
        "id": "view-in-github",
        "colab_type": "text"
      },
      "source": [
        "<a href=\"https://colab.research.google.com/github/natashanuto/CEE2/blob/main/trabalho_parte1.ipynb\" target=\"_parent\"><img src=\"https://colab.research.google.com/assets/colab-badge.svg\" alt=\"Open In Colab\"/></a>"
      ]
    },
    {
      "cell_type": "markdown",
      "source": [
        "# Trabalho Final: Parte 1\n",
        "##### Nome: Natasha Nuto\n",
        "##### Matrícula: 232014852"
      ],
      "metadata": {
        "id": "5JwowjGyr5F1"
      }
    },
    {
      "cell_type": "markdown",
      "source": [
        "Exercício 1"
      ],
      "metadata": {
        "id": "YEUhzQ_gPdU_"
      }
    },
    {
      "cell_type": "code",
      "source": [
        "import requests\n",
        "import pandas as pd\n",
        "\n",
        "\n",
        "data_inicial = \"01/09/2023\"\n",
        "data_final = \"01/10/2023\"\n",
        "url = f\"https://api.bcb.gov.br/dados/serie/bcdata.sgs.11/dados?formato=json&dataInicial={data_inicial}&dataFinal={data_final}\"\n",
        "\n",
        "response = requests.get(url)\n",
        "\n",
        "if response.status_code == 200:\n",
        "  taxa = response.json()\n",
        "\n",
        "  df = pd.DataFrame(taxa)\n",
        "\n",
        "else:\n",
        "  print(\"Erro ao acessar API do Banco Central.\")\n"
      ],
      "metadata": {
        "id": "ig76XYogGKOa"
      },
      "execution_count": null,
      "outputs": []
    },
    {
      "cell_type": "markdown",
      "source": [
        "Exercício 2"
      ],
      "metadata": {
        "id": "NDvp5ntXPn6Q"
      }
    },
    {
      "cell_type": "code",
      "source": [
        "df[\"SELIC Diária (%)\"] = df[\"valor\"]\n",
        "df[\"valor\"] = pd.to_numeric(df[\"valor\"]) / 100\n",
        "df[\"SELIC Anual (%)\"] = round(((1 + df[\"valor\"])**252 - 1) * 100, 2)"
      ],
      "metadata": {
        "id": "-uMCr5TQPnR5"
      },
      "execution_count": null,
      "outputs": []
    },
    {
      "cell_type": "markdown",
      "source": [
        "Exercício 3"
      ],
      "metadata": {
        "id": "arA88VLRPtIh"
      }
    },
    {
      "cell_type": "code",
      "source": [
        "import pandas as pd\n",
        "\n",
        "df[\"SELIC Acumulada (%)\"] = round((((1 + df[\"valor\"]).cumprod()) - 1) * 100, 6)"
      ],
      "metadata": {
        "id": "0k_GRrLlPury"
      },
      "execution_count": null,
      "outputs": []
    },
    {
      "cell_type": "markdown",
      "source": [
        "Exercício 4"
      ],
      "metadata": {
        "id": "Hoph1HZxP1DS"
      }
    },
    {
      "cell_type": "markdown",
      "source": [
        "| Datas      |   | SELIC Diária (%) | SELIC Anual (%) | SELIC Acumulada (%) |\n",
        "|------------|---|------------------|-----------------|---------------------|\n",
        "| 01/09/2023 |   | 0.049037         | 13.15           | 0.049037            |\n",
        "| 04/09/2023 |   | 0.049037         | 13.15           | 0.098098            |\n",
        "| 05/09/2023 |   | 0.049037         | 13.15           | 0.147183            |\n",
        "| 06/09/2023 |   | 0.049037         | 13.15           | 0.196292            |\n",
        "| 08/09/2023 |   | 0.049037         | 13.15           | 0.245426            |\n",
        "| 11/09/2023 |   | 0.049037         | 13.15           | 0.294583            |\n",
        "| 12/09/2023 |   | 0.049037         | 13.15           | 0.343764            |\n",
        "| 13/09/2023 |   | 0.049037         | 13.15           | 0.392970            |\n",
        "| 14/09/2023 |   | 0.049037         | 13.15           | 0.442200            |\n",
        "| 15/09/2023 |   | 0.049037         | 13.15           | 0.491453            |\n",
        "| 18/09/2023 |   | 0.049037         | 13.15           | 0.540731            |\n",
        "| 19/09/2023 |   | 0.049037         | 13.15           | 0.590034            |\n",
        "| 20/09/2023 |   | 0.049037         | 13.15           | 0.639360            |\n",
        "| 21/09/2023 |   | 0.047279         | 12.65           | 0.686941            |\n",
        "| 22/09/2023 |   | 0.047279         | 12.65           | 0.734545            |\n",
        "| 25/09/2023 |   | 0.047279         | 12.65           | 0.782171            |\n",
        "| 26/09/2023 |   | 0.047279         | 12.65           | 0.829820            |\n",
        "| 27/09/2023 |   | 0.047279         | 12.65           | 0.877491            |\n",
        "| 28/09/2023 |   | 0.047279         | 12.65           | 0.925185            |\n",
        "| 29/09/2023 |   | 0.047279         | 12.65           | 0.972902            |"
      ],
      "metadata": {
        "id": "i1g7lE6_M5FV"
      }
    },
    {
      "cell_type": "markdown",
      "source": [
        "\\begin{array}{|c|c|c|c|}\n",
        "\\hline\n",
        "\\textbf{Datas} & \\textbf{SELIC Diária (%)} & \\textbf{SELIC Anual (%)} & \\textbf{SELIC Acumulada (%)} \\\\ \\hline\n",
        "01/09/2023 & 0.049037 & 13.15 & 0.049037 \\\\\n",
        "04/09/2023 & 0.049037 & 13.15 & 0.098098 \\\\\n",
        "05/09/2023 & 0.049037 & 13.15 & 0.147183 \\\\\n",
        "06/09/2023 & 0.049037 & 13.15 & 0.196292 \\\\\n",
        "08/09/2023 & 0.049037 & 13.15 & 0.245426 \\\\\n",
        "11/09/2023 & 0.049037 & 13.15 & 0.294583 \\\\\n",
        "12/09/2023 & 0.049037 & 13.15 & 0.343764 \\\\\n",
        "13/09/2023 & 0.049037 & 13.15 & 0.392970 \\\\\n",
        "14/09/2023 & 0.049037 & 13.15 & 0.442200 \\\\\n",
        "15/09/2023 & 0.049037 & 13.15 & 0.491453 \\\\\n",
        "18/09/2023 & 0.049037 & 13.15 & 0.540731 \\\\\n",
        "19/09/2023 & 0.049037 & 13.15 & 0.590034 \\\\\n",
        "20/09/2023 & 0.049037 & 13.15 & 0.639360 \\\\\n",
        "21/09/2023 & 0.047279 & 12.65 & 0.686941 \\\\\n",
        "22/09/2023 & 0.047279 & 12.65 & 0.734545 \\\\\n",
        "25/09/2023 & 0.047279 & 12.65 & 0.782171 \\\\\n",
        "26/09/2023 & 0.047279 & 12.65 & 0.829820 \\\\\n",
        "27/09/2023 & 0.047279 & 12.65 & 0.877491 \\\\\n",
        "28/09/2023 & 0.047279 & 12.65 & 0.925185 \\\\\n",
        "29/09/2023 & 0.047279 & 12.65 & 0.972902 \\\\\n",
        "\\hline\n",
        "\\end{array}"
      ],
      "metadata": {
        "id": "BuCIh951NDgG"
      }
    },
    {
      "cell_type": "markdown",
      "source": [
        "Exercício 5"
      ],
      "metadata": {
        "id": "G5-oTy0QP4Sr"
      }
    },
    {
      "cell_type": "markdown",
      "source": [
        "Exercício 6"
      ],
      "metadata": {
        "id": "x4QlswzZP51T"
      }
    },
    {
      "cell_type": "code",
      "source": [
        "maior = df[df[\"SELIC Anual (%)\"] == max(df[\"SELIC Anual (%)\"])]\n",
        "menor = df[df[\"SELIC Anual (%)\"] == min(df[\"SELIC Anual (%)\"])]\n",
        "\n",
        "\n",
        "print(\"O período com a maior taxa de juros anual foi entre \" + maior[\"data\"].iloc[0] + \" e \" + maior[\"data\"].iloc[-1] + \", no qual a taxa foi de \" + str(max(df[\"SELIC Anual (%)\"])) + \"%.\")\n",
        "print(\"O período com a menor taxa de juros anual foi entre \" + menor[\"data\"].iloc[0] + \" e \" + menor[\"data\"].iloc[-1] + \", no qual a taxa foi de \" + str(min(df[\"SELIC Anual (%)\"])) + \"%.\")"
      ],
      "metadata": {
        "colab": {
          "base_uri": "https://localhost:8080/"
        },
        "id": "jsUd5HdGPX3H",
        "outputId": "8f3c761a-8917-4d5a-c773-2657a00cdec8"
      },
      "execution_count": null,
      "outputs": [
        {
          "output_type": "stream",
          "name": "stdout",
          "text": [
            "O período com a maior taxa de juros anual foi entre 01/09/2023 e 20/09/2023, no qual a taxa foi de 13.15%.\n",
            "O período com a menor taxa de juros anual foi entre 21/09/2023 e 29/09/2023, no qual a taxa foi de 12.65%.\n"
          ]
        }
      ]
    }
  ]
}