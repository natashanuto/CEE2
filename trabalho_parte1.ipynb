{
  "nbformat": 4,
  "nbformat_minor": 0,
  "metadata": {
    "colab": {
      "provenance": [],
      "authorship_tag": "ABX9TyNwC/k5AEJ+Ip1LqmeaFQxa",
      "include_colab_link": true
    },
    "kernelspec": {
      "name": "python3",
      "display_name": "Python 3"
    },
    "language_info": {
      "name": "python"
    }
  },
  "cells": [
    {
      "cell_type": "markdown",
      "metadata": {
        "id": "view-in-github",
        "colab_type": "text"
      },
      "source": [
        "<a href=\"https://colab.research.google.com/github/natashanuto/CEE2/blob/main/trabalho_parte1.ipynb\" target=\"_parent\"><img src=\"https://colab.research.google.com/assets/colab-badge.svg\" alt=\"Open In Colab\"/></a>"
      ]
    },
    {
      "cell_type": "markdown",
      "source": [
        "# Trabalho Final: Parte 1\n",
        "##### Nome: Natasha Nuto\n",
        "##### Matrícula: 232014852"
      ],
      "metadata": {
        "id": "5JwowjGyr5F1"
      }
    },
    {
      "cell_type": "code",
      "source": [
        "import requests\n",
        "import pandas as pd\n",
        "\n",
        "data_inicial = \"12/04/2023\"\n",
        "data_final = \"12/05/2023\"\n",
        "url = f\"https://api.bcb.gov.br/dados/serie/bcdata.sgs.11/dados?formato=json&dataInicial={data_inicial}&dataFinal={data_final}\"\n",
        "\n",
        "response = requests.get(url)\n",
        "\n",
        "if response.status_code == 200:\n",
        "  taxa = response.json()\n",
        "\n",
        "  df = pd.DataFrame(taxa)\n",
        "  display(df)\n",
        "\n",
        "else:\n",
        "  print(\"Erro ao acessar API do Banco Central.\")\n",
        "\n",
        "\n",
        "print(df.dtypes)\n",
        "df['valor'] = pd.to_numeric(df['valor'])\n",
        "\n",
        "df[\"Taxa Anual\"] = ((1 + df[\"valor\"])**252) - 1\n",
        "print(df)\n",
        "\n",
        "\n"
      ],
      "metadata": {
        "colab": {
          "base_uri": "https://localhost:8080/",
          "height": 815
        },
        "id": "1Q3LPVj6sNTp",
        "outputId": "771e6712-a50c-4812-db04-5617913881bb"
      },
      "execution_count": 18,
      "outputs": [
        {
          "output_type": "display_data",
          "data": {
            "text/plain": [
              "[{'data': '12/04/2023', 'valor': '0.050788'},\n",
              " {'data': '13/04/2023', 'valor': '0.050788'},\n",
              " {'data': '14/04/2023', 'valor': '0.050788'},\n",
              " {'data': '17/04/2023', 'valor': '0.050788'},\n",
              " {'data': '18/04/2023', 'valor': '0.050788'},\n",
              " {'data': '19/04/2023', 'valor': '0.050788'},\n",
              " {'data': '20/04/2023', 'valor': '0.050788'},\n",
              " {'data': '24/04/2023', 'valor': '0.050788'},\n",
              " {'data': '25/04/2023', 'valor': '0.050788'},\n",
              " {'data': '26/04/2023', 'valor': '0.050788'},\n",
              " {'data': '27/04/2023', 'valor': '0.050788'},\n",
              " {'data': '28/04/2023', 'valor': '0.050788'},\n",
              " {'data': '02/05/2023', 'valor': '0.050788'},\n",
              " {'data': '03/05/2023', 'valor': '0.050788'},\n",
              " {'data': '04/05/2023', 'valor': '0.050788'},\n",
              " {'data': '05/05/2023', 'valor': '0.050788'},\n",
              " {'data': '08/05/2023', 'valor': '0.050788'},\n",
              " {'data': '09/05/2023', 'valor': '0.050788'},\n",
              " {'data': '10/05/2023', 'valor': '0.050788'},\n",
              " {'data': '11/05/2023', 'valor': '0.050788'},\n",
              " {'data': '12/05/2023', 'valor': '0.050788'}]"
            ]
          },
          "metadata": {}
        },
        {
          "output_type": "stream",
          "name": "stdout",
          "text": [
            "data     object\n",
            "valor    object\n",
            "dtype: object\n",
            "          data     valor     Taxa Anual\n",
            "0   12/04/2023  0.050788  264122.068259\n",
            "1   13/04/2023  0.050788  264122.068259\n",
            "2   14/04/2023  0.050788  264122.068259\n",
            "3   17/04/2023  0.050788  264122.068259\n",
            "4   18/04/2023  0.050788  264122.068259\n",
            "5   19/04/2023  0.050788  264122.068259\n",
            "6   20/04/2023  0.050788  264122.068259\n",
            "7   24/04/2023  0.050788  264122.068259\n",
            "8   25/04/2023  0.050788  264122.068259\n",
            "9   26/04/2023  0.050788  264122.068259\n",
            "10  27/04/2023  0.050788  264122.068259\n",
            "11  28/04/2023  0.050788  264122.068259\n",
            "12  02/05/2023  0.050788  264122.068259\n",
            "13  03/05/2023  0.050788  264122.068259\n",
            "14  04/05/2023  0.050788  264122.068259\n",
            "15  05/05/2023  0.050788  264122.068259\n",
            "16  08/05/2023  0.050788  264122.068259\n",
            "17  09/05/2023  0.050788  264122.068259\n",
            "18  10/05/2023  0.050788  264122.068259\n",
            "19  11/05/2023  0.050788  264122.068259\n",
            "20  12/05/2023  0.050788  264122.068259\n"
          ]
        }
      ]
    },
    {
      "cell_type": "markdown",
      "source": [
        "| Data       | Taxa Diária |\n",
        "|------------|----------|\n",
        "| 12/04/2023 | 0.050788 |\n",
        "| 13/04/2023 | 0.050788 |\n",
        "| 14/04/2023 | 0.050788 |\n",
        "| 17/04/2023 | 0.050788 |\n",
        "| 18/04/2023 | 0.050788 |\n",
        "| 19/04/2023 | 0.050788 |\n",
        "| 20/04/2023 | 0.050788 |\n",
        "| 24/04/2023 | 0.050788 |\n",
        "| 25/04/2023 | 0.050788 |\n",
        "| 26/04/2023 | 0.050788 |\n",
        "| 27/04/2023 | 0.050788 |\n",
        "| 28/04/2023 | 0.050788 |\n",
        "| 02/05/2023 | 0.050788 |\n",
        "| 03/05/2023 | 0.050788 |\n",
        "| 04/05/2023 | 0.050788 |\n",
        "| 05/05/2023 | 0.050788 |\n",
        "| 08/05/2023 | 0.050788 |\n",
        "| 09/05/2023 | 0.050788 |\n",
        "| 10/05/2023 | 0.050788 |\n",
        "| 11/05/2023 | 0.050788 |\n",
        "| 12/05/2023 | 0.050788 |"
      ],
      "metadata": {
        "id": "DDbcKEvKys-Z"
      }
    }
  ]
}