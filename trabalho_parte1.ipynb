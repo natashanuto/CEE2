{
  "nbformat": 4,
  "nbformat_minor": 0,
  "metadata": {
    "colab": {
      "provenance": [],
      "authorship_tag": "ABX9TyNmzFiYCY62lPCA0kISGwT3",
      "include_colab_link": true
    },
    "kernelspec": {
      "name": "python3",
      "display_name": "Python 3"
    },
    "language_info": {
      "name": "python"
    }
  },
  "cells": [
    {
      "cell_type": "markdown",
      "metadata": {
        "id": "view-in-github",
        "colab_type": "text"
      },
      "source": [
        "<a href=\"https://colab.research.google.com/github/natashanuto/CEE2/blob/main/trabalho_parte1.ipynb\" target=\"_parent\"><img src=\"https://colab.research.google.com/assets/colab-badge.svg\" alt=\"Open In Colab\"/></a>"
      ]
    },
    {
      "cell_type": "markdown",
      "source": [
        "# Trabalho Final: Parte 1\n",
        "##### Nome: Natasha Nuto\n",
        "##### Matrícula: 232014852"
      ],
      "metadata": {
        "id": "5JwowjGyr5F1"
      }
    },
    {
      "cell_type": "markdown",
      "source": [
        "Exercício 1"
      ],
      "metadata": {
        "id": "YEUhzQ_gPdU_"
      }
    },
    {
      "cell_type": "code",
      "source": [
        "import requests\n",
        "import pandas as pd\n",
        "\n",
        "\n",
        "data_inicial = \"01/09/2023\"\n",
        "data_final = \"01/10/2023\"\n",
        "url = f\"https://api.bcb.gov.br/dados/serie/bcdata.sgs.11/dados?formato=json&dataInicial={data_inicial}&dataFinal={data_final}\"\n",
        "\n",
        "response = requests.get(url)\n",
        "\n",
        "if response.status_code == 200:\n",
        "  taxa = response.json()\n",
        "\n",
        "  df = pd.DataFrame(taxa)\n",
        "\n",
        "else:\n",
        "  print(\"Erro ao acessar API do Banco Central.\")\n"
      ],
      "metadata": {
        "id": "ig76XYogGKOa"
      },
      "execution_count": null,
      "outputs": []
    },
    {
      "cell_type": "markdown",
      "source": [
        "Exercício 2"
      ],
      "metadata": {
        "id": "NDvp5ntXPn6Q"
      }
    },
    {
      "cell_type": "code",
      "source": [
        "df[\"SELIC Diária (%)\"] = df[\"valor\"]\n",
        "df[\"valor\"] = pd.to_numeric(df[\"valor\"]) / 100\n",
        "df[\"SELIC Anual (%)\"] = round(((1 + df[\"valor\"])**252 - 1) * 100, 2)"
      ],
      "metadata": {
        "id": "-uMCr5TQPnR5"
      },
      "execution_count": null,
      "outputs": []
    },
    {
      "cell_type": "markdown",
      "source": [
        "Exercício 3"
      ],
      "metadata": {
        "id": "arA88VLRPtIh"
      }
    },
    {
      "cell_type": "code",
      "source": [
        "import pandas as pd\n",
        "\n",
        "df[\"SELIC Acumulada (%)\"] = round((((1 + df[\"valor\"]).cumprod()) - 1) * 100, 6)"
      ],
      "metadata": {
        "id": "0k_GRrLlPury",
        "colab": {
          "base_uri": "https://localhost:8080/"
        },
        "outputId": "f0e25d19-8769-4e13-9897-1aba421eb34a"
      },
      "execution_count": null,
      "outputs": [
        {
          "output_type": "stream",
          "name": "stdout",
          "text": [
            "          data     valor SELIC Diária (%)  SELIC Anual (%)  \\\n",
            "0   01/09/2023  0.000490         0.049037            13.15   \n",
            "1   04/09/2023  0.000490         0.049037            13.15   \n",
            "2   05/09/2023  0.000490         0.049037            13.15   \n",
            "3   06/09/2023  0.000490         0.049037            13.15   \n",
            "4   08/09/2023  0.000490         0.049037            13.15   \n",
            "5   11/09/2023  0.000490         0.049037            13.15   \n",
            "6   12/09/2023  0.000490         0.049037            13.15   \n",
            "7   13/09/2023  0.000490         0.049037            13.15   \n",
            "8   14/09/2023  0.000490         0.049037            13.15   \n",
            "9   15/09/2023  0.000490         0.049037            13.15   \n",
            "10  18/09/2023  0.000490         0.049037            13.15   \n",
            "11  19/09/2023  0.000490         0.049037            13.15   \n",
            "12  20/09/2023  0.000490         0.049037            13.15   \n",
            "13  21/09/2023  0.000473         0.047279            12.65   \n",
            "14  22/09/2023  0.000473         0.047279            12.65   \n",
            "15  25/09/2023  0.000473         0.047279            12.65   \n",
            "16  26/09/2023  0.000473         0.047279            12.65   \n",
            "17  27/09/2023  0.000473         0.047279            12.65   \n",
            "18  28/09/2023  0.000473         0.047279            12.65   \n",
            "19  29/09/2023  0.000473         0.047279            12.65   \n",
            "\n",
            "    SELIC Acumulada (%)  \n",
            "0              0.049037  \n",
            "1              0.098098  \n",
            "2              0.147183  \n",
            "3              0.196292  \n",
            "4              0.245426  \n",
            "5              0.294583  \n",
            "6              0.343764  \n",
            "7              0.392970  \n",
            "8              0.442200  \n",
            "9              0.491453  \n",
            "10             0.540731  \n",
            "11             0.590034  \n",
            "12             0.639360  \n",
            "13             0.686941  \n",
            "14             0.734545  \n",
            "15             0.782171  \n",
            "16             0.829820  \n",
            "17             0.877491  \n",
            "18             0.925185  \n",
            "19             0.972902  \n"
          ]
        }
      ]
    },
    {
      "cell_type": "markdown",
      "source": [
        "Exercício 4"
      ],
      "metadata": {
        "id": "Hoph1HZxP1DS"
      }
    },
    {
      "cell_type": "markdown",
      "source": [
        "| Datas      |   | SELIC Diária (%) | SELIC Anual (%) | SELIC Acumulada (%) |\n",
        "|------------|---|------------------|-----------------|---------------------|\n",
        "| 01/09/2023 |   | 0.049037         | 13.15           | 0.049037            |\n",
        "| 04/09/2023 |   | 0.049037         | 13.15           | 0.098098            |\n",
        "| 05/09/2023 |   | 0.049037         | 13.15           | 0.147183            |\n",
        "| 06/09/2023 |   | 0.049037         | 13.15           | 0.196292            |\n",
        "| 08/09/2023 |   | 0.049037         | 13.15           | 0.245426            |\n",
        "| 11/09/2023 |   | 0.049037         | 13.15           | 0.294583            |\n",
        "| 12/09/2023 |   | 0.049037         | 13.15           | 0.343764            |\n",
        "| 13/09/2023 |   | 0.049037         | 13.15           | 0.392970            |\n",
        "| 14/09/2023 |   | 0.049037         | 13.15           | 0.442200            |\n",
        "| 15/09/2023 |   | 0.049037         | 13.15           | 0.491453            |\n",
        "| 18/09/2023 |   | 0.049037         | 13.15           | 0.540731            |\n",
        "| 19/09/2023 |   | 0.049037         | 13.15           | 0.590034            |\n",
        "| 20/09/2023 |   | 0.049037         | 13.15           | 0.639360            |\n",
        "| 21/09/2023 |   | 0.047279         | 12.65           | 0.686941            |\n",
        "| 22/09/2023 |   | 0.047279         | 12.65           | 0.734545            |\n",
        "| 25/09/2023 |   | 0.047279         | 12.65           | 0.782171            |\n",
        "| 26/09/2023 |   | 0.047279         | 12.65           | 0.829820            |\n",
        "| 27/09/2023 |   | 0.047279         | 12.65           | 0.877491            |\n",
        "| 28/09/2023 |   | 0.047279         | 12.65           | 0.925185            |\n",
        "| 29/09/2023 |   | 0.047279         | 12.65           | 0.972902            |"
      ],
      "metadata": {
        "id": "i1g7lE6_M5FV"
      }
    },
    {
      "cell_type": "markdown",
      "source": [
        "\\begin{array}{|c|c|c|c|}\n",
        "\\hline\n",
        "\\textbf{Datas} & \\textbf{SELIC Diária (%)} & \\textbf{SELIC Anual (%)} & \\textbf{SELIC Acumulada (%)} \\\\ \\hline\n",
        "01/09/2023 & 0.049037 & 13.15 & 0.049037 \\\\\n",
        "04/09/2023 & 0.049037 & 13.15 & 0.098098 \\\\\n",
        "05/09/2023 & 0.049037 & 13.15 & 0.147183 \\\\\n",
        "06/09/2023 & 0.049037 & 13.15 & 0.196292 \\\\\n",
        "08/09/2023 & 0.049037 & 13.15 & 0.245426 \\\\\n",
        "11/09/2023 & 0.049037 & 13.15 & 0.294583 \\\\\n",
        "12/09/2023 & 0.049037 & 13.15 & 0.343764 \\\\\n",
        "13/09/2023 & 0.049037 & 13.15 & 0.392970 \\\\\n",
        "14/09/2023 & 0.049037 & 13.15 & 0.442200 \\\\\n",
        "15/09/2023 & 0.049037 & 13.15 & 0.491453 \\\\\n",
        "18/09/2023 & 0.049037 & 13.15 & 0.540731 \\\\\n",
        "19/09/2023 & 0.049037 & 13.15 & 0.590034 \\\\\n",
        "20/09/2023 & 0.049037 & 13.15 & 0.639360 \\\\\n",
        "21/09/2023 & 0.047279 & 12.65 & 0.686941 \\\\\n",
        "22/09/2023 & 0.047279 & 12.65 & 0.734545 \\\\\n",
        "25/09/2023 & 0.047279 & 12.65 & 0.782171 \\\\\n",
        "26/09/2023 & 0.047279 & 12.65 & 0.829820 \\\\\n",
        "27/09/2023 & 0.047279 & 12.65 & 0.877491 \\\\\n",
        "28/09/2023 & 0.047279 & 12.65 & 0.925185 \\\\\n",
        "29/09/2023 & 0.047279 & 12.65 & 0.972902 \\\\\n",
        "\\hline\n",
        "\\end{array}"
      ],
      "metadata": {
        "id": "BuCIh951NDgG"
      }
    },
    {
      "cell_type": "markdown",
      "source": [
        "Exercício 5"
      ],
      "metadata": {
        "id": "G5-oTy0QP4Sr"
      }
    },
    {
      "cell_type": "code",
      "source": [
        "import datetime\n",
        "\n",
        "df[\"data\"] = pd.to_datetime(df[\"data\"], format=\"%d/%m/%Y\")"
      ],
      "metadata": {
        "colab": {
          "base_uri": "https://localhost:8080/"
        },
        "id": "ib5_aMjd_IDe",
        "outputId": "025c1766-e920-4380-9370-a292304e0d2a"
      },
      "execution_count": null,
      "outputs": [
        {
          "output_type": "stream",
          "name": "stdout",
          "text": [
            "         data     valor SELIC Diária (%)  SELIC Anual (%)  SELIC Acumulada (%)\n",
            "0  2023-09-01  0.000490         0.049037            13.15             0.049037\n",
            "1  2023-09-04  0.000490         0.049037            13.15             0.098098\n",
            "2  2023-09-05  0.000490         0.049037            13.15             0.147183\n",
            "3  2023-09-06  0.000490         0.049037            13.15             0.196292\n",
            "4  2023-09-08  0.000490         0.049037            13.15             0.245426\n",
            "5  2023-09-11  0.000490         0.049037            13.15             0.294583\n",
            "6  2023-09-12  0.000490         0.049037            13.15             0.343764\n",
            "7  2023-09-13  0.000490         0.049037            13.15             0.392970\n",
            "8  2023-09-14  0.000490         0.049037            13.15             0.442200\n",
            "9  2023-09-15  0.000490         0.049037            13.15             0.491453\n",
            "10 2023-09-18  0.000490         0.049037            13.15             0.540731\n",
            "11 2023-09-19  0.000490         0.049037            13.15             0.590034\n",
            "12 2023-09-20  0.000490         0.049037            13.15             0.639360\n",
            "13 2023-09-21  0.000473         0.047279            12.65             0.686941\n",
            "14 2023-09-22  0.000473         0.047279            12.65             0.734545\n",
            "15 2023-09-25  0.000473         0.047279            12.65             0.782171\n",
            "16 2023-09-26  0.000473         0.047279            12.65             0.829820\n",
            "17 2023-09-27  0.000473         0.047279            12.65             0.877491\n",
            "18 2023-09-28  0.000473         0.047279            12.65             0.925185\n",
            "19 2023-09-29  0.000473         0.047279            12.65             0.972902\n"
          ]
        }
      ]
    },
    {
      "cell_type": "markdown",
      "source": [
        "Exercício 6"
      ],
      "metadata": {
        "id": "x4QlswzZP51T"
      }
    },
    {
      "cell_type": "code",
      "source": [
        "maior = df[df[\"SELIC Anual (%)\"] == max(df[\"SELIC Anual (%)\"])]\n",
        "menor = df[df[\"SELIC Anual (%)\"] == min(df[\"SELIC Anual (%)\"])]\n",
        "\n",
        "\n",
        "print(\"O período com a maior taxa de juros anual foi entre \" + maior[\"data\"].iloc[0] + \" e \" + maior[\"data\"].iloc[-1] + \", no qual a taxa foi de \" + str(max(df[\"SELIC Anual (%)\"])) + \"%.\")\n",
        "print(\"O período com a menor taxa de juros anual foi entre \" + menor[\"data\"].iloc[0] + \" e \" + menor[\"data\"].iloc[-1] + \", no qual a taxa foi de \" + str(min(df[\"SELIC Anual (%)\"])) + \"%.\")"
      ],
      "metadata": {
        "colab": {
          "base_uri": "https://localhost:8080/"
        },
        "id": "jsUd5HdGPX3H",
        "outputId": "1a860879-231c-4686-8872-3218e55e3e78"
      },
      "execution_count": null,
      "outputs": [
        {
          "output_type": "stream",
          "name": "stdout",
          "text": [
            "O período com a maior taxa de juros anual foi entre 01/09/2023 e 20/09/2023, no qual a taxa foi de 13.15%.\n",
            "O período com a menor taxa de juros anual foi entre 21/09/2023 e 29/09/2023, no qual a taxa foi de 12.65%.\n"
          ]
        }
      ]
    },
    {
      "cell_type": "markdown",
      "source": [
        "Exercício 7"
      ],
      "metadata": {
        "id": "xUFdw8JA-ohQ"
      }
    },
    {
      "cell_type": "code",
      "source": [
        "valor = 10000\n",
        "periodo = pd.date_range(start = \"01/09/2023\", end = \"20/09/2023\", freq = \"D\")\n",
        "\n",
        "investimento = df[df[\"data\"].isin(periodo)].copy()\n",
        "\n",
        "investimento[\"Valor\"] = valor\n",
        "\n",
        "\n",
        "for i in range(1, len(investimento)):\n",
        "  investimento[\"Valor\"] = investimento.loc[i][\"Valor\"] * (1 + investimento[\"valor\"])\n",
        "  investimento[\"Valor\"] = round(investimento[\"Valor\"], 2)\n",
        "\n",
        "print(investimento)"
      ],
      "metadata": {
        "colab": {
          "base_uri": "https://localhost:8080/"
        },
        "id": "qpvSEoKE-qeQ",
        "outputId": "a666436b-01e1-4319-c528-5fa529ca0151"
      },
      "execution_count": null,
      "outputs": [
        {
          "output_type": "stream",
          "name": "stdout",
          "text": [
            "         data    valor SELIC Diária (%)  SELIC Anual (%)  SELIC Acumulada (%)  \\\n",
            "0  2023-09-01  0.00049         0.049037            13.15             0.049037   \n",
            "1  2023-09-04  0.00049         0.049037            13.15             0.098098   \n",
            "2  2023-09-05  0.00049         0.049037            13.15             0.147183   \n",
            "3  2023-09-06  0.00049         0.049037            13.15             0.196292   \n",
            "4  2023-09-08  0.00049         0.049037            13.15             0.245426   \n",
            "5  2023-09-11  0.00049         0.049037            13.15             0.294583   \n",
            "6  2023-09-12  0.00049         0.049037            13.15             0.343764   \n",
            "7  2023-09-13  0.00049         0.049037            13.15             0.392970   \n",
            "8  2023-09-14  0.00049         0.049037            13.15             0.442200   \n",
            "9  2023-09-15  0.00049         0.049037            13.15             0.491453   \n",
            "10 2023-09-18  0.00049         0.049037            13.15             0.540731   \n",
            "11 2023-09-19  0.00049         0.049037            13.15             0.590034   \n",
            "12 2023-09-20  0.00049         0.049037            13.15             0.639360   \n",
            "\n",
            "       Valor  \n",
            "0   10059.01  \n",
            "1   10059.01  \n",
            "2   10059.01  \n",
            "3   10059.01  \n",
            "4   10059.01  \n",
            "5   10059.01  \n",
            "6   10059.01  \n",
            "7   10059.01  \n",
            "8   10059.01  \n",
            "9   10059.01  \n",
            "10  10059.01  \n",
            "11  10059.01  \n",
            "12  10059.01  \n"
          ]
        }
      ]
    },
    {
      "cell_type": "markdown",
      "source": [
        "Exercício 8"
      ],
      "metadata": {
        "id": "97Ihe1zfA3Ia"
      }
    },
    {
      "cell_type": "code",
      "source": [
        "valor2 = 100\n",
        "periodo2 = pd.date_range(start = \"21/09/2023\", end \"29/09/2023\", freq = \"D\")"
      ],
      "metadata": {
        "id": "O3jGhMdbA4vR"
      },
      "execution_count": null,
      "outputs": []
    }
  ]
}