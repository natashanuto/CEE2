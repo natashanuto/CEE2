{
  "nbformat": 4,
  "nbformat_minor": 0,
  "metadata": {
    "colab": {
      "provenance": [],
      "authorship_tag": "ABX9TyPnHsYAO1fMFFDznXQ2I49m",
      "include_colab_link": true
    },
    "kernelspec": {
      "name": "python3",
      "display_name": "Python 3"
    },
    "language_info": {
      "name": "python"
    }
  },
  "cells": [
    {
      "cell_type": "markdown",
      "metadata": {
        "id": "view-in-github",
        "colab_type": "text"
      },
      "source": [
        "<a href=\"https://colab.research.google.com/github/natashanuto/CEE2/blob/main/trabalho_parte1.ipynb\" target=\"_parent\"><img src=\"https://colab.research.google.com/assets/colab-badge.svg\" alt=\"Open In Colab\"/></a>"
      ]
    },
    {
      "cell_type": "markdown",
      "source": [
        "# Trabalho Final: Parte 1\n",
        "##### Nome: Natasha Nuto\n",
        "##### Matrícula: 232014852"
      ],
      "metadata": {
        "id": "5JwowjGyr5F1"
      }
    },
    {
      "cell_type": "code",
      "source": [
        "import requests\n",
        "import pandas as pd\n",
        "import numpy as np\n",
        "\n",
        "data_inicial = \"12/04/2023\"\n",
        "data_final = \"12/05/2023\"\n",
        "url = f\"https://api.bcb.gov.br/dados/serie/bcdata.sgs.11/dados?formato=json&dataInicial={data_inicial}&dataFinal={data_final}\"\n",
        "\n",
        "response = requests.get(url)\n",
        "\n",
        "if response.status_code == 200:\n",
        "  taxa = response.json()\n",
        "\n",
        "  df = pd.DataFrame(taxa)\n",
        "\n",
        "else:\n",
        "  print(\"Erro ao acessar API do Banco Central.\")\n",
        "\n",
        "df[\"SELIC Diária (%)\"] = df[\"valor\"]\n",
        "df[\"valor\"] = pd.to_numeric(df[\"valor\"]) / 100\n",
        "df[\"SELIC Anual (%)\"] = round(((1 + df[\"valor\"])**252 - 1) * 100, 2)\n",
        "df[\"SELIC Acumulada (%)\"] = round(((1 + df[\"valor\"]).cumprod() - 1) * 100, 6)\n",
        "\n",
        "\n",
        "print(df)\n",
        "\n",
        "\n"
      ],
      "metadata": {
        "colab": {
          "base_uri": "https://localhost:8080/"
        },
        "id": "1Q3LPVj6sNTp",
        "outputId": "5065f78d-a14b-451b-ee52-38d7e887488f"
      },
      "execution_count": 32,
      "outputs": [
        {
          "output_type": "stream",
          "name": "stdout",
          "text": [
            "          data     valor SELIC Diária (%)  SELIC Anual (%)  \\\n",
            "0   12/04/2023  0.000508         0.050788            13.65   \n",
            "1   13/04/2023  0.000508         0.050788            13.65   \n",
            "2   14/04/2023  0.000508         0.050788            13.65   \n",
            "3   17/04/2023  0.000508         0.050788            13.65   \n",
            "4   18/04/2023  0.000508         0.050788            13.65   \n",
            "5   19/04/2023  0.000508         0.050788            13.65   \n",
            "6   20/04/2023  0.000508         0.050788            13.65   \n",
            "7   24/04/2023  0.000508         0.050788            13.65   \n",
            "8   25/04/2023  0.000508         0.050788            13.65   \n",
            "9   26/04/2023  0.000508         0.050788            13.65   \n",
            "10  27/04/2023  0.000508         0.050788            13.65   \n",
            "11  28/04/2023  0.000508         0.050788            13.65   \n",
            "12  02/05/2023  0.000508         0.050788            13.65   \n",
            "13  03/05/2023  0.000508         0.050788            13.65   \n",
            "14  04/05/2023  0.000508         0.050788            13.65   \n",
            "15  05/05/2023  0.000508         0.050788            13.65   \n",
            "16  08/05/2023  0.000508         0.050788            13.65   \n",
            "17  09/05/2023  0.000508         0.050788            13.65   \n",
            "18  10/05/2023  0.000508         0.050788            13.65   \n",
            "19  11/05/2023  0.000508         0.050788            13.65   \n",
            "20  12/05/2023  0.000508         0.050788            13.65   \n",
            "\n",
            "    SELIC Acumulada (%)  \n",
            "0              0.050788  \n",
            "1              0.101602  \n",
            "2              0.152441  \n",
            "3              0.203307  \n",
            "4              0.254198  \n",
            "5              0.305115  \n",
            "6              0.356058  \n",
            "7              0.407027  \n",
            "8              0.458022  \n",
            "9              0.509042  \n",
            "10             0.560089  \n",
            "11             0.611161  \n",
            "12             0.662260  \n",
            "13             0.713384  \n",
            "14             0.764534  \n",
            "15             0.815711  \n",
            "16             0.866913  \n",
            "17             0.918141  \n",
            "18             0.969396  \n",
            "19             1.020676  \n",
            "20             1.071982  \n"
          ]
        }
      ]
    },
    {
      "cell_type": "markdown",
      "source": [],
      "metadata": {
        "id": "DDbcKEvKys-Z"
      }
    }
  ]
}