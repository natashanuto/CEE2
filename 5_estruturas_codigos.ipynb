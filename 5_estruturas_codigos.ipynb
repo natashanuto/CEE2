{
  "nbformat": 4,
  "nbformat_minor": 0,
  "metadata": {
    "colab": {
      "provenance": [],
      "toc_visible": true,
      "include_colab_link": true
    },
    "kernelspec": {
      "name": "python3",
      "display_name": "Python 3"
    },
    "language_info": {
      "name": "python"
    }
  },
  "cells": [
    {
      "cell_type": "markdown",
      "metadata": {
        "id": "view-in-github",
        "colab_type": "text"
      },
      "source": [
        "<a href=\"https://colab.research.google.com/github/natashanuto/CEE2/blob/main/5_estruturas_codigos.ipynb\" target=\"_parent\"><img src=\"https://colab.research.google.com/assets/colab-badge.svg\" alt=\"Open In Colab\"/></a>"
      ]
    },
    {
      "cell_type": "markdown",
      "source": [
        "# Estruturas de códigos\n",
        "\n",
        "As estruturas de código são os blocos que organizam e controlam o fluxo de um programa. Nesta introdução, vamos falar sobre Execução Condicional e Laços de Repetição."
      ],
      "metadata": {
        "id": "9otVkbcbg69h"
      }
    },
    {
      "cell_type": "markdown",
      "source": [
        "## Execução condicional"
      ],
      "metadata": {
        "id": "IogvXsuHhMSl"
      }
    },
    {
      "cell_type": "markdown",
      "source": [
        "Blocos de código podem ser executados **condicionalmente** de modo que decisões sejam tomadas com base em determinadas condições.\n",
        "\n",
        "Em Python, as instruções condicionais são escritas usando as palavras-chave `if`, `else` e `elif` (else if). Com isso, podemos executar diferentes blocos de código dependendo de uma condição lógica, que pode ser verdadeira ou falsa.\n",
        "\n",
        "Estrutura Básica de Condicionais:\n",
        "* `if`: Executa o bloco de código se a condição for verdadeira.\n",
        "* `else`: Executa um bloco de código quando todas as condições anteriores são falsas.\n",
        "* `elif`: Executa um bloco de código alternativo se a primeira condição for falsa e a nova condição for verdadeira.\n"
      ],
      "metadata": {
        "id": "x8duFTsgApaN"
      }
    },
    {
      "cell_type": "markdown",
      "source": [
        "**Operadores**\n",
        "\n",
        "* Operadores de comparação:\n",
        "  * `==`: Igualdade\n",
        "  * `!=`: Diferença\n",
        "  * `>`: Maior que\n",
        "  * `<`: Menor que\n",
        "  * `>=`: Maior ou igual a\n",
        "  * `<=`: Menor ou igual a\n",
        "\n",
        "* Operadores lógicos:\n",
        "  * `and`: Verdadeiro se ambas as condições forem verdadeiras.\n",
        "  * `or`: Verdadeiro se uma das condições for verdadeira.\n",
        "  * `not`: Inverte o valor lógico (verdadeiro se a condição for falsa, e vice-versa)."
      ],
      "metadata": {
        "id": "qg5AGu1r1zTt"
      }
    },
    {
      "cell_type": "markdown",
      "source": [
        "**Identação**\n",
        "\n",
        "Em Python, o nível de indentação (espaçamento) é o que define quais linhas estão dentro de um bloco. Ele não usa chaves `{}` como outras linguagens (tipo R, JavaScript ou C).\n",
        "\n",
        "Regras básicas de indentação no Python:\n",
        "\n",
        "- Use sempre o mesmo número de espaços (normalmente 4).\n",
        "\n",
        "- Não misture espaços e tabulações.\n",
        "\n",
        "- Um bloco de código começa depois de dois pontos : e deve ser indentado na linha seguinte."
      ],
      "metadata": {
        "id": "TbD41hBqtF7I"
      }
    },
    {
      "cell_type": "markdown",
      "source": [
        "**Exemplo**: No exemplo abaixo, se a variável idade for maior ou igual a 18, a mensagem \"Você é maior de idade\" será exibida; caso contrário, a mensagem será \"Você é menor de idade\"."
      ],
      "metadata": {
        "id": "VaNytVKFY_jZ"
      }
    },
    {
      "cell_type": "code",
      "source": [
        "idade = 17\n",
        "\n",
        "if idade >= 18:\n",
        "    print(\"Você é maior de idade.\")\n",
        "else:\n",
        "    print(\"Você é menor de idade.\")"
      ],
      "metadata": {
        "id": "asZ2Oh7IAwFw",
        "colab": {
          "base_uri": "https://localhost:8080/"
        },
        "outputId": "62b333e9-1e8b-4254-fb28-b14458ee6336"
      },
      "execution_count": null,
      "outputs": [
        {
          "output_type": "stream",
          "name": "stdout",
          "text": [
            "Você é menor de idade.\n"
          ]
        }
      ]
    },
    {
      "cell_type": "markdown",
      "source": [
        "**Exemplo**: Crie um programa que peça ao usuário um ano e verifique se ele é bissexto. Um ano é bissexto se for divisível por 4, mas não por 100, exceto se for divisível por 400."
      ],
      "metadata": {
        "id": "-2xB2iKe3TbK"
      }
    },
    {
      "cell_type": "code",
      "source": [
        "ano = int(input(\"Digite um ano: \"))\n",
        "\n",
        "if (ano % 4 == 0 and ano % 100 != 0) or (ano % 400 == 0):\n",
        "    print(f\"{ano} é um ano bissexto.\")\n",
        "else:\n",
        "    print(f\"{ano} não é um ano bissexto.\")"
      ],
      "metadata": {
        "id": "Pkj2fijB3aTC",
        "colab": {
          "base_uri": "https://localhost:8080/"
        },
        "outputId": "b888f2e8-1a4d-468c-880f-931d79bf1196"
      },
      "execution_count": null,
      "outputs": [
        {
          "output_type": "stream",
          "name": "stdout",
          "text": [
            "Digite um ano: 2020\n",
            "2020 é um ano bissexto.\n"
          ]
        }
      ]
    },
    {
      "cell_type": "markdown",
      "source": [
        "**Blocos Aninhados**: blocos condicionais podem ser aninhados, veja o exemplo:"
      ],
      "metadata": {
        "id": "WrV7FKU8BHsN"
      }
    },
    {
      "cell_type": "code",
      "source": [
        "nota = 7.5\n",
        "\n",
        "if nota >= 0 and nota <= 10:\n",
        "    if nota >= 9:\n",
        "        print(\"Excelente\")\n",
        "    else:\n",
        "        if nota >= 7:\n",
        "            print(\"Bom\")\n",
        "        else:\n",
        "            if nota >= 5:\n",
        "                print(\"Regular\")\n",
        "            else:\n",
        "                print(\"Reprovado\")\n",
        "else:\n",
        "    print(\"Nota inválida\")"
      ],
      "metadata": {
        "id": "oPiYY6n0BK8E",
        "colab": {
          "base_uri": "https://localhost:8080/"
        },
        "outputId": "2eabb031-7e35-488e-ad03-ae303b69de0f"
      },
      "execution_count": null,
      "outputs": [
        {
          "output_type": "stream",
          "name": "stdout",
          "text": [
            "Bom\n"
          ]
        }
      ]
    },
    {
      "cell_type": "markdown",
      "source": [
        "Como alternativa a essa estrutura, a linguagem define a comando chave `elif` para combinar um `else` e um `if`. Veja o mesmo exemplo agora utilizando `elif`:"
      ],
      "metadata": {
        "id": "KpGjBZaABlsd"
      }
    },
    {
      "cell_type": "code",
      "source": [
        "nota = 7.5\n",
        "\n",
        "if nota < 0 or nota > 10:\n",
        "    print(\"Nota inválida\")\n",
        "elif nota >= 9:\n",
        "    print(\"Excelente\")\n",
        "elif nota >= 7:\n",
        "    print(\"Bom\")\n",
        "elif nota >= 5:\n",
        "    print(\"Regular\")\n",
        "else:\n",
        "    print(\"Reprovado\")"
      ],
      "metadata": {
        "id": "Y4pFLMi3BwLP",
        "colab": {
          "base_uri": "https://localhost:8080/"
        },
        "outputId": "5bb7d627-53dc-49a0-f7cc-3c90d67d1fa4"
      },
      "execution_count": null,
      "outputs": [
        {
          "output_type": "stream",
          "name": "stdout",
          "text": [
            "Bom\n"
          ]
        }
      ]
    },
    {
      "cell_type": "markdown",
      "source": [
        "**Exemplo**: Baseado na idade de um atleta, escreva um programa que classifique-o em uma das seguintes categorias:\n",
        "\n",
        "* Até 12 anos: Infantil\n",
        "* 13 a 17 anos: Juvenil\n",
        "* 18 a 35 anos: Adulto\n",
        "* Acima de 35 anos: Master"
      ],
      "metadata": {
        "id": "8_54WaYu4c2F"
      }
    },
    {
      "cell_type": "code",
      "source": [
        "idade = int(input(\"Digite a idade do atleta: \"))\n",
        "\n",
        "if idade < 0:\n",
        "    print(\"Idade inválida\")\n",
        "elif idade <= 12:\n",
        "    print(\"Categoria: Infantil\")\n",
        "elif idade <= 17:\n",
        "    print(\"Categoria: Juvenil\")\n",
        "elif idade <= 35:\n",
        "    print(\"Categoria: Adulto\")\n",
        "else:\n",
        "    print(\"Categoria: Master\")"
      ],
      "metadata": {
        "id": "NY91pL0n4nrc",
        "colab": {
          "base_uri": "https://localhost:8080/"
        },
        "outputId": "59bbb1ce-779e-4f20-c4a1-d1c4c672b6a3"
      },
      "execution_count": null,
      "outputs": [
        {
          "output_type": "stream",
          "name": "stdout",
          "text": [
            "Digite a idade do atleta: 20\n",
            "Categoria: Adulto\n"
          ]
        }
      ]
    },
    {
      "cell_type": "markdown",
      "source": [
        "### Exercício 1: Crie um programa que pergunte o preço de um produto e verifique se ele deve aplicar algum desconto:\n",
        "\n",
        "* Se o preço for maior que R$ 1000, aplique um desconto de 10%.\n",
        "* Caso contrário, aplique um desconto de 5%.\n",
        "\n",
        "Exiba o valor final do produto após o desconto."
      ],
      "metadata": {
        "id": "8FcfVHBb5otc"
      }
    },
    {
      "cell_type": "code",
      "source": [
        "#Crie um programa que pergunte o preço de um produto e verifique se ele deve aplicar algum desconto:\n",
        "\n",
        "preco = float(input(\"Preço do produto: \"))\n",
        "\n",
        "#Se o preço for maior que R$ 1000, aplique um desconto de 10%.\n",
        "#Caso contrário, aplique um desconto de 5%.\n",
        "\n",
        "if preco > 0: #Verifica que o preço não é negativo\n",
        "  if preco > 1000:\n",
        "    preco = preco - (0.10 * preco)\n",
        "    print(f\"O preço com 10% de desconto é {preco:.2f}\")  #Exibe preço com 10% de desconto e duas casas decimais\n",
        "  else:\n",
        "    preco = preco - (0.05 * preco)\n",
        "    print(f\"O preço com 5% de desconto é {preco:.2f}\") #Exibe preço com 5% de desconto e duas casas decimais\n",
        "else:\n",
        "  print(\"Preço inválido!\")"
      ],
      "metadata": {
        "colab": {
          "base_uri": "https://localhost:8080/"
        },
        "id": "5SnkpnrN6v3g",
        "outputId": "cd76396f-6080-4922-b218-207597360c3b"
      },
      "execution_count": null,
      "outputs": [
        {
          "output_type": "stream",
          "name": "stdout",
          "text": [
            "Preço do produto: 1300\n",
            "O preço com 10% de desconto é 1170.00\n"
          ]
        }
      ]
    },
    {
      "cell_type": "markdown",
      "source": [
        "### Exercício 2: Escreva um programa que atribua menção para um aluno da UNB de acordo com o padrão da universidade. Inicialize perguntando a Nota Final e a Frequência do aluno. Classifique de acordo com os critérios:\n",
        "- Frequência $ < $ 70\\% : SR\n",
        "- Frequência $\\geq$ 70\\% e $0 \\leq NF < 3$: II\n",
        "- Frequência $\\geq$ 70\\% e $3 \\leq NF < 5$: MI\n",
        "- Frequência $\\geq$ 70\\% e $5 \\leq NF < 7$: MM\n",
        "- Frequência $\\geq$ 70\\% e $7 \\leq NF < 9$: MS\n",
        "- Frequência $\\geq$ 70\\% e $9 \\leq NF \\leq 10$: SS"
      ],
      "metadata": {
        "id": "Kw4rHdLs3t__"
      }
    },
    {
      "cell_type": "code",
      "source": [
        "#Escreva um programa que atribua menção para um aluno da UNB de acordo com o padrão da universidade.\n",
        "#Inicialize perguntando a Nota Final e a Frequência do aluno.\n",
        "\n",
        "nota = float(input(\"Nota Final: \"))\n",
        "freq = float(input(\"Frequência: \"))\n",
        "\n",
        "#Classifique de acordo com os critérios:\n",
        "#Frequência  <  70% : SR\n",
        "#Frequência  ≥  70% e  0≤NF<3 : II\n",
        "#Frequência  ≥  70% e  3≤NF<5 : MI\n",
        "#Frequência  ≥  70% e  5≤NF<7 : MM\n",
        "#Frequência  ≥  70% e  7≤NF<9 : MS\n",
        "#Frequência  ≥  70% e  9≤NF≤10 : SS\n",
        "\n",
        "if 0 <= nota <= 10 and 0 <= freq <= 100 : #Verifica que nota final e frequência estão nos intervalos corretos\n",
        "  if freq < 70: #Estabelece a frequência mínima\n",
        "    print(\"Menção Final: SR\")\n",
        "  elif 0 <= nota < 3:\n",
        "    print(\"Menção Final: II\")\n",
        "  elif 3 <= nota < 5:\n",
        "    print(\"Menção Final: MI\")\n",
        "  elif 5 <= nota < 7:\n",
        "    print(\"Menção Final: MM\")\n",
        "  elif 7 <= nota < 9:\n",
        "    print(\"Menção Final: MS\")\n",
        "  else: #Se todas as condições acima não forem verdadeiras\n",
        "    print(\"Menção Final: SS\")\n",
        "\n",
        "else:\n",
        "  print(\"Erro!\")\n"
      ],
      "metadata": {
        "colab": {
          "base_uri": "https://localhost:8080/"
        },
        "id": "qwbQEtqD8tcB",
        "outputId": "535b2207-ee47-43dc-aaca-178b4f07dfc4"
      },
      "execution_count": null,
      "outputs": [
        {
          "output_type": "stream",
          "name": "stdout",
          "text": [
            "Nota Final: 9\n",
            "Frequência: 8\n",
            "Menção Final: SR\n"
          ]
        }
      ]
    },
    {
      "cell_type": "markdown",
      "source": [
        "## Laços de repetição"
      ],
      "metadata": {
        "id": "10YbWVx_hkDf"
      }
    },
    {
      "cell_type": "markdown",
      "source": [
        "**Laços de repetição** permitem executar um bloco de código várias vezes. Eles são fundamentais em programação quando precisamos repetir tarefas de forma automática. Em Python, os principais laços de repetição são `for` e `while`.\n",
        "\n",
        "O **Controle de Fluxo** pode ser feito com `break` e `continue`, em que:\n",
        "* `break`: encerra o loop imediatamente.\n",
        "* `continue`: pula para a próxima iteração.\n",
        "* `pass`: não faz nada, apenas ocupa espaço (placeholder). Geralmente é utilizado durante a construção de um código, no qual quer deixar um bloco em aberto para que venha a ser preenchido no futuro."
      ],
      "metadata": {
        "id": "2s1hcYzfB4Wk"
      }
    },
    {
      "cell_type": "markdown",
      "source": [
        "### `while`\n",
        "\n",
        "O laço `while` executa o bloco de código enquanto uma condição for verdadeira. Ele verifica a condição antes de cada execução do bloco.\n",
        "\n",
        "**Sintaxe:**\n",
        "\n",
        "```python\n",
        "while condição:\n",
        "    # Código a ser executado enquanto a condição for verdadeira\n",
        "```"
      ],
      "metadata": {
        "id": "-cnGWPoJ-xO0"
      }
    },
    {
      "cell_type": "markdown",
      "source": [
        "**Exemplo**"
      ],
      "metadata": {
        "id": "8lUS53Ff_YWD"
      }
    },
    {
      "cell_type": "code",
      "source": [
        "i = 1     # contador\n",
        "while i < 6:\n",
        "  print(i)\n",
        "  i += 1\n",
        "\n",
        "print(\"Executado ao sair do laço!\")"
      ],
      "metadata": {
        "id": "Sn03QCKQ_a9J",
        "colab": {
          "base_uri": "https://localhost:8080/"
        },
        "outputId": "37520eee-f2f1-402f-a177-3565c9a8a73f"
      },
      "execution_count": null,
      "outputs": [
        {
          "output_type": "stream",
          "name": "stdout",
          "text": [
            "1\n",
            "2\n",
            "3\n",
            "4\n",
            "5\n",
            "Executado ao sair do laço!\n"
          ]
        }
      ]
    },
    {
      "cell_type": "code",
      "source": [
        "# Exibe os valores 1, 2, 3\n",
        "i = 1\n",
        "while i < 6:\n",
        "  print(i)\n",
        "  if i == 3:\n",
        "    break    # Quando i = 3 o laço é quebrado.\n",
        "  i += 1"
      ],
      "metadata": {
        "id": "PuGkzANPyZqU",
        "colab": {
          "base_uri": "https://localhost:8080/"
        },
        "outputId": "6e6e62f2-051c-4955-ddd3-05dc007d3b3a"
      },
      "execution_count": null,
      "outputs": [
        {
          "output_type": "stream",
          "name": "stdout",
          "text": [
            "1\n",
            "2\n",
            "3\n"
          ]
        }
      ]
    },
    {
      "cell_type": "code",
      "source": [
        "# Exibe os valores 2, 4, 5, 6\n",
        "i = 1\n",
        "while i < 6:\n",
        "  i += 1\n",
        "  if i == 3:\n",
        "    continue    # Quando i = 3 pula para a proxima iteração.\n",
        "  print(i)"
      ],
      "metadata": {
        "id": "zvWwr8x_ypuC",
        "colab": {
          "base_uri": "https://localhost:8080/"
        },
        "outputId": "3bc5be19-ceca-4edc-a149-27983b67337f"
      },
      "execution_count": null,
      "outputs": [
        {
          "output_type": "stream",
          "name": "stdout",
          "text": [
            "2\n",
            "4\n",
            "5\n",
            "6\n"
          ]
        }
      ]
    },
    {
      "cell_type": "code",
      "source": [
        "# Exibe os valores 2, 3, 4, 5, 6\n",
        "i = 1\n",
        "while i < 6:\n",
        "  i += 1\n",
        "  if i == 3:\n",
        "    pass    # Quando i = 3, não faz nada de diferente.\n",
        "  print(i)"
      ],
      "metadata": {
        "id": "EpKeiboEzgx9",
        "colab": {
          "base_uri": "https://localhost:8080/"
        },
        "outputId": "7e2bdb2e-76b6-4911-cd34-299dfc2649b9"
      },
      "execution_count": null,
      "outputs": [
        {
          "output_type": "stream",
          "name": "stdout",
          "text": [
            "2\n",
            "3\n",
            "4\n",
            "5\n",
            "6\n"
          ]
        }
      ]
    },
    {
      "cell_type": "markdown",
      "source": [
        "**Exemplo**: Escreva um programa onde o computador escolhe um número aleatório de 1 a 10 (use `random.randint(1, 10)`) e o usuário tenta adivinhar. O programa continua pedindo palpites até que o usuário acerte."
      ],
      "metadata": {
        "id": "VEXcxtsYExss"
      }
    },
    {
      "cell_type": "code",
      "source": [
        "####### geração do número aleatório\n",
        "import random\n",
        "numero_secreto = random.randint(1, 10) ## gera o número aleatório\n",
        "\n",
        "###### parte principal do programa\n",
        "palpite = 0\n",
        "while palpite != numero_secreto:\n",
        "    palpite = int(input(\"Adivinhe o número entre 1 e 10: \"))\n",
        "\n",
        "    if palpite < numero_secreto:\n",
        "        print(\"Muito baixo!\")\n",
        "    elif palpite > numero_secreto:\n",
        "        print(\"Muito alto!\")\n",
        "\n",
        "print(\"Parabéns! Você acertou!\")"
      ],
      "metadata": {
        "id": "0qDzyXHNE4gD",
        "colab": {
          "base_uri": "https://localhost:8080/"
        },
        "outputId": "d20f564f-dcf0-4426-fbed-13faec5469e0"
      },
      "execution_count": null,
      "outputs": [
        {
          "output_type": "stream",
          "name": "stdout",
          "text": [
            "Adivinhe o número entre 1 e 10: 2\n",
            "Muito baixo!\n",
            "Adivinhe o número entre 1 e 10: 3\n",
            "Muito baixo!\n",
            "Adivinhe o número entre 1 e 10: 9\n",
            "Muito baixo!\n",
            "Adivinhe o número entre 1 e 10: 10\n",
            "Parabéns! Você acertou!\n"
          ]
        }
      ]
    },
    {
      "cell_type": "markdown",
      "source": [
        "#### while Infinito\n",
        "\n",
        "Um loop while infinito é um loop que nunca termina por conta própria, a menos que você use algo como break ou feche o programa. Ele é útil em várias situações como jogos, menus interativos, servidores etc\n",
        "\n",
        "> O código abaixo vai imprimir a mensagem sem parar, até você forçar a parada (Ctrl+C no terminal, por exemplo).\n",
        "\n",
        "  ```python\n",
        "  while True:\n",
        "      print(\"Isso vai rodar para sempre!\")\n",
        "  ```\n",
        "\n",
        "**Exemplo**: o código abaixo também utiliza a estrutura de while infinito, mas possui uma condição de parada.  "
      ],
      "metadata": {
        "id": "N588w2fd0iZY"
      }
    },
    {
      "cell_type": "code",
      "source": [
        "## exibe: 1, 2, 3, 4\n",
        "i = 1\n",
        "while True:\n",
        "  if i < 5:\n",
        "    print(i)\n",
        "  else:\n",
        "    break\n",
        "  i += 1"
      ],
      "metadata": {
        "id": "8yA9mQIH0C4t",
        "colab": {
          "base_uri": "https://localhost:8080/"
        },
        "outputId": "a50dea37-d6d2-4e44-d936-e6c41d489b36"
      },
      "execution_count": null,
      "outputs": [
        {
          "output_type": "stream",
          "name": "stdout",
          "text": [
            "1\n",
            "2\n",
            "3\n",
            "4\n"
          ]
        }
      ]
    },
    {
      "cell_type": "markdown",
      "source": [
        "**Exemplo**: Menu Interativo com Condição de Saída\n",
        "\n",
        "> Esse while é infinito, mas pode ser interrompido com break quando o usuário digita \"sair\"."
      ],
      "metadata": {
        "id": "jG_xbySF1uys"
      }
    },
    {
      "cell_type": "code",
      "source": [
        "while True:\n",
        "    opcao = input(\"Digite 'sair' para encerrar: \")\n",
        "    if opcao == \"sair\":\n",
        "        print(\"Encerrando...\")\n",
        "        break\n",
        "    else:\n",
        "        print(\"Você digitou:\", opcao)"
      ],
      "metadata": {
        "id": "8nvgKtvB12tx",
        "colab": {
          "base_uri": "https://localhost:8080/"
        },
        "outputId": "b894205b-d631-4b85-dc59-33b7a6199359"
      },
      "execution_count": null,
      "outputs": [
        {
          "output_type": "stream",
          "name": "stdout",
          "text": [
            "Digite 'sair' para encerrar: o\n",
            "Você digitou: o\n",
            "Digite 'sair' para encerrar: sair\n",
            "Encerrando...\n"
          ]
        }
      ]
    },
    {
      "cell_type": "markdown",
      "source": [
        "**Exemplo tipo jogo**: Tentativa de Adivinhação"
      ],
      "metadata": {
        "id": "sxFRSD5B2i8i"
      }
    },
    {
      "cell_type": "code",
      "source": [
        "senha_correta = \"python\"\n",
        "\n",
        "while True:\n",
        "    tentativa = input(\"Digite a senha: \")\n",
        "    if tentativa == senha_correta:\n",
        "        print(\"Acesso liberado!\")\n",
        "        break\n",
        "    else:\n",
        "        print(\"Senha incorreta. Tente novamente.\")"
      ],
      "metadata": {
        "id": "BiRZrr982i8i",
        "colab": {
          "base_uri": "https://localhost:8080/"
        },
        "outputId": "7f26633a-e1e3-448e-f043-462d86dfc4c8"
      },
      "execution_count": null,
      "outputs": [
        {
          "output_type": "stream",
          "name": "stdout",
          "text": [
            "Digite a senha: natasha\n",
            "Senha incorreta. Tente novamente.\n",
            "Digite a senha: python\n",
            "Acesso liberado!\n"
          ]
        }
      ]
    },
    {
      "cell_type": "markdown",
      "source": [
        "### `for`\n",
        "\n",
        "O laço `for` é usado para iterar sobre uma sequência (como listas, tuplas, strings, ou intervalos com range). Em cada iteração, o valor da sequência é atribuído a uma variável, e o bloco de código dentro do laço é executado.\n",
        "\n",
        "**Sintaxe do** `for`:\n",
        "\n",
        "```python\n",
        "for variável in sequência:\n",
        "    # Código a ser executado a cada iteração\n",
        "```"
      ],
      "metadata": {
        "id": "n38x_rjKDY3G"
      }
    },
    {
      "cell_type": "markdown",
      "source": [
        "**Exemplo**"
      ],
      "metadata": {
        "id": "NIwWatHJBQRN"
      }
    },
    {
      "cell_type": "code",
      "source": [
        "for numero in range(1, 6):\n",
        "    print(numero)"
      ],
      "metadata": {
        "id": "gkr29tBCBSID"
      },
      "execution_count": null,
      "outputs": []
    },
    {
      "cell_type": "markdown",
      "source": [
        "**Exemplos**"
      ],
      "metadata": {
        "id": "3USrX1mNBVf3"
      }
    },
    {
      "cell_type": "code",
      "source": [
        "## iterando sobre uma lista\n",
        "\n",
        "frutas = ['banana', 'maçã', 'morango']\n",
        "\n",
        "for fruta in frutas:\n",
        "  print('Comprar ', fruta, '.', sep='')"
      ],
      "metadata": {
        "id": "K6EWhF0xDdEO"
      },
      "execution_count": null,
      "outputs": []
    },
    {
      "cell_type": "code",
      "source": [
        "## iterando sobre uma string\n",
        "\n",
        "for letra in 'banana':\n",
        "  print(letra)"
      ],
      "metadata": {
        "id": "TrSghRtK3Z7_"
      },
      "execution_count": null,
      "outputs": []
    },
    {
      "cell_type": "code",
      "source": [
        "## iterando sobre uma sequência com quebra\n",
        "\n",
        "for k in range(10):\n",
        "  print(k)\n",
        "  if k == 5:\n",
        "    break    # Quebra o laço."
      ],
      "metadata": {
        "id": "g6LyTKrD3dZZ"
      },
      "execution_count": null,
      "outputs": []
    },
    {
      "cell_type": "code",
      "source": [
        "## mostrando apenas os elementos de interesse\n",
        "\n",
        "for k in range(1, 15):\n",
        "  if k % 2  == 0: # se k é par então segue para o\n",
        "    continue      # próximo elemento do laço.\n",
        "  print(k)"
      ],
      "metadata": {
        "id": "SA5w7XXb3fX4"
      },
      "execution_count": null,
      "outputs": []
    },
    {
      "cell_type": "code",
      "source": [
        "## gera o mesmo resultado da anterior\n",
        "\n",
        "for k in range(1, 15, 2):\n",
        "  print(k)"
      ],
      "metadata": {
        "id": "qJxBEtbc3hXC"
      },
      "execution_count": null,
      "outputs": []
    },
    {
      "cell_type": "markdown",
      "source": [
        "O laço **for** também pode ser usado para inicializar *vetores* e *matrizes*."
      ],
      "metadata": {
        "id": "JH_Gjc0YExyG"
      }
    },
    {
      "cell_type": "code",
      "source": [
        "v1 = [ 0 for i in range(10)]     # Cria um vetor de 10 posições iguais a 0.\n",
        "v2 = [ i**2 for i in range(10)]  # Cria um vetor de 10 posições com quadrados.\n",
        "\n",
        "print(v1)\n",
        "print(v2)\n",
        "\n",
        "# Cria matrizes 4 x 3. (listas de listas)\n",
        "m1 = [[0 for i in range(3)] for j in range(4)]\n",
        "m2 = [[i*j for j in range(3)] for i in range(4)]\n",
        "\n",
        "print(m1)\n",
        "print(m2)"
      ],
      "metadata": {
        "id": "S3D4LcUdE5XO"
      },
      "execution_count": null,
      "outputs": []
    },
    {
      "cell_type": "markdown",
      "source": [
        "O laço **for** pode ser usado para iterar sobre *listas*, *tuplas*, *conjuntos* e *chaves* de dicionários."
      ],
      "metadata": {
        "id": "1TMmPG6FFsit"
      }
    },
    {
      "cell_type": "code",
      "source": [
        "lista = list((\"A\",\"B\",\"C\",\"D\"))\n",
        "tupla = tuple((\"A\",\"B\",\"C\",\"D\"))\n",
        "\n",
        "for k in lista:\n",
        "  print(k)\n",
        "\n",
        "print('---')\n",
        "\n",
        "for k in tupla:\n",
        "  print(k)"
      ],
      "metadata": {
        "id": "4AhmeKXhFr_W"
      },
      "execution_count": null,
      "outputs": []
    },
    {
      "cell_type": "code",
      "source": [
        "## no caso de conjuntos a ordem pode não ser mantida\n",
        "conj  = set((\"A\",\"B\",\"C\",\"D\"))\n",
        "\n",
        "for k in conj:\n",
        "  print(k)\n"
      ],
      "metadata": {
        "id": "GzJoJbem5YC1"
      },
      "execution_count": null,
      "outputs": []
    },
    {
      "cell_type": "code",
      "source": [
        "## no caso de dicionários podemos iterar de duas maneiras\n",
        "\n",
        "carro = dict(marca = \"Ford\", modelo = \"Mustang\", ano = 1967)\n",
        "\n",
        "### sobre as chaves\n",
        "for k in carro:\n",
        "  print('chave = ', k, ', valor = ', carro[k], sep=\"\")\n",
        "\n",
        "print('---')\n",
        "\n",
        "### ou sobre chaves e valores\n",
        "for k, v in carro.items():\n",
        "  print('chave=', k, ', valor=', v, sep=\"\")\n"
      ],
      "metadata": {
        "id": "1fkCBVWI5PBp"
      },
      "execution_count": null,
      "outputs": []
    },
    {
      "cell_type": "markdown",
      "source": [
        "**Exemplo:** Crie um programa que receba um número inteiro do usuário e use um laço for para verificar se o número é primo.\n",
        "* Um número primo é divisível apenas por 1 e por ele mesmo;\n",
        "* Qualquer número menor que 2 não é considerado como primo;\n",
        "* Para saber se $n$ é primo, basta que seja testado os divisores pertentes ao intervalo de 2 até $||\\sqrt{n}||$, em que $||x||$ denota o maior inteiro menor que $x$."
      ],
      "metadata": {
        "id": "xXYxJkWeCbMV"
      }
    },
    {
      "cell_type": "code",
      "source": [
        "numero = int(input(\"Digite um número: \"))\n",
        "\n",
        "if numero < 2:\n",
        "    print(f\"{numero} não é primo.\")\n",
        "else:\n",
        "    primo = True\n",
        "    for i in range(2, int(numero ** 0.5) + 1):\n",
        "        if numero % i == 0:\n",
        "            primo = False\n",
        "            break\n",
        "\n",
        "    if primo:\n",
        "        print(f\"{numero} é primo.\")\n",
        "    else:\n",
        "        print(f\"{numero} não é primo.\")\n"
      ],
      "metadata": {
        "id": "5JQQv74-CvSL"
      },
      "execution_count": null,
      "outputs": []
    },
    {
      "cell_type": "markdown",
      "source": [
        "### Exercício 3: Soma dos primeiros 100 números\n",
        "\n",
        "a) Use um laço `while` para calcular a soma dos primeiros 100 números inteiros (de 1 a 100).\n",
        "\n",
        "b)  Use um laço `for` para calcular a soma dos primeiros 100 números inteiros (de 1 a 100)."
      ],
      "metadata": {
        "id": "vs5RcxBHFJsL"
      }
    },
    {
      "cell_type": "code",
      "source": [
        "#a) Use um laço while para calcular a soma dos primeiros 100 números inteiros (de 1 a 100).\n",
        "\n",
        "i = 1\n",
        "soma = 0\n",
        "while i<101:\n",
        "  soma += i\n",
        "  i += 1\n",
        "\n",
        "print(f\"A soma dos primeiros 100 números inteiros (de 1 a 100) é {soma}.\")\n",
        "\n",
        "\n",
        "#b) Use um laço for para calcular a soma dos primeiros 100 números inteiros (de 1 a 100)."
      ],
      "metadata": {
        "colab": {
          "base_uri": "https://localhost:8080/"
        },
        "id": "0sJKQ-RDNcsD",
        "outputId": "c17fbb2f-3dbf-4f95-f79d-4f795fe78d16"
      },
      "execution_count": null,
      "outputs": [
        {
          "output_type": "stream",
          "name": "stdout",
          "text": [
            "A soma dos primeiros 100 números inteiros (de 1 a 100) é 5050.\n"
          ]
        }
      ]
    },
    {
      "cell_type": "markdown",
      "source": [
        "### Exercício 4: Números ímpares com `continue`\n",
        "\n",
        "Use um laço `for` para exibir todos os números de 1 a 10, exceto os números ímpares (use o `continue`)."
      ],
      "metadata": {
        "id": "yUadjv1FFyg8"
      }
    },
    {
      "cell_type": "markdown",
      "source": [
        "### Exercício 5: Sequência de Fibonacci\n",
        "\n",
        "Use um laço `while` para calcular e exibir os primeiros 15 termos da sequência de Fibonacci.\n",
        "\n",
        "A sequência de Fibonacci começa com 0 e 1, e os próximos números são a soma dos dois números anteriores.\n",
        "\n",
        "Sequência: 0, 1, 1, 2, 3, 5, ..."
      ],
      "metadata": {
        "id": "tGxM8LQ9Gtdp"
      }
    },
    {
      "cell_type": "code",
      "source": [
        "x = 0\n",
        "y = 1\n",
        "\n",
        "w = x + y\n"
      ],
      "metadata": {
        "id": "7UcbgdIbRPlg"
      },
      "execution_count": null,
      "outputs": []
    }
  ]
}