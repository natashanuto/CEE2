{
  "nbformat": 4,
  "nbformat_minor": 0,
  "metadata": {
    "colab": {
      "provenance": [],
      "toc_visible": true,
      "authorship_tag": "ABX9TyM3WzdRqYNhaqeHHM2tDA7i",
      "include_colab_link": true
    },
    "kernelspec": {
      "name": "python3",
      "display_name": "Python 3"
    },
    "language_info": {
      "name": "python"
    }
  },
  "cells": [
    {
      "cell_type": "markdown",
      "metadata": {
        "id": "view-in-github",
        "colab_type": "text"
      },
      "source": [
        "<a href=\"https://colab.research.google.com/github/natashanuto/CEE2/blob/main/Exercicios.ipynb\" target=\"_parent\"><img src=\"https://colab.research.google.com/assets/colab-badge.svg\" alt=\"Open In Colab\"/></a>"
      ]
    },
    {
      "cell_type": "markdown",
      "source": [
        "## Exercício 1:\n",
        "Crie um código que escreva \"Olá, seu primeiro nome\".\n"
      ],
      "metadata": {
        "id": "bIY4sDM1u4Ni"
      }
    },
    {
      "cell_type": "code",
      "source": [
        "print(\"Olá, Natasha\")"
      ],
      "metadata": {
        "colab": {
          "base_uri": "https://localhost:8080/"
        },
        "id": "yCWxKab4wsh1",
        "outputId": "5ad771c4-e004-4f06-be35-d9003fb8db38"
      },
      "execution_count": 1,
      "outputs": [
        {
          "output_type": "stream",
          "name": "stdout",
          "text": [
            "Olá, Natasha\n"
          ]
        }
      ]
    },
    {
      "cell_type": "markdown",
      "source": [
        "## Exercício 2: Convertendo entre int e float\n",
        "\n",
        "Crie três variáveis: uma do tipo `int`, uma do tipo `float` e uma do tipo `bool`. Exiba os valores de cada uma dessas variáveis e o tipo delas. Em seguida, converta as variáveis de acordo com as instruções abaixo:\n",
        "\n",
        "* Converta o número inteiro para float e exiba o resultado.\n",
        "* Converta o número decimal (float) para int e exiba o resultado.\n",
        "* Converta o valor booleano para int e exiba o resultado.\n",
        "* Converta o valor booleano para float e exiba o resultado.\n"
      ],
      "metadata": {
        "id": "mAqVU7uku_yy"
      }
    },
    {
      "cell_type": "code",
      "source": [
        "x = int(\"1\")\n",
        "y = float(\"1.0\")\n",
        "w = bool(0)\n",
        "\n",
        "print(x, type(x))\n",
        "print(y, type(y))\n",
        "print(w, type(w))\n",
        "\n",
        "x = float(x)\n",
        "print(x, type(x))\n",
        "\n",
        "y = int(y)\n",
        "print(y, type(y))\n",
        "\n",
        "w = int(w)\n",
        "print(w, type(w))\n",
        "\n",
        "w = float(w)\n",
        "print(w, type(w))"
      ],
      "metadata": {
        "colab": {
          "base_uri": "https://localhost:8080/"
        },
        "id": "X4F8icrvwzup",
        "outputId": "648f2c28-ff2d-4282-a261-b4fd36d0f8d2"
      },
      "execution_count": 4,
      "outputs": [
        {
          "output_type": "stream",
          "name": "stdout",
          "text": [
            "1 <class 'int'>\n",
            "1.0 <class 'float'>\n",
            "False <class 'bool'>\n",
            "1.0 <class 'float'>\n",
            "1 <class 'int'>\n",
            "0 <class 'int'>\n",
            "0.0 <class 'float'>\n"
          ]
        }
      ]
    },
    {
      "cell_type": "markdown",
      "source": [
        "## Exercício 3: Operações básicas com int e float\n",
        "\n",
        "Crie duas variáveis: uma contendo um número inteiro igual a 5 (`num1 = 5`) e outra contendo um número decimal float igual a 2.5 (`num2 = 2.5`). Em seguida, execute as seguintes operações e exiba o resultado:\n",
        "\n",
        "* Adição  (`num1 + num2`)\n",
        "* Subtração (`num1 - num2`)\n",
        "* Multiplicação (`num1 * num2`)\n",
        "* Divisão (`num1 / num2`)\n",
        "\n",
        "Observe que a conversão para float é feita automaticamente.\n"
      ],
      "metadata": {
        "id": "4hXbLAvSvFb0"
      }
    },
    {
      "cell_type": "code",
      "source": [
        "num1 = int(5)\n",
        "num2 = float(2.5)\n",
        "\n",
        "a = num1 + num2\n",
        "print(a)\n",
        "s = num1 - num2\n",
        "print(s)\n",
        "m = num1 * num2\n",
        "print(m)\n",
        "d = num1 / num2\n",
        "print(d)"
      ],
      "metadata": {
        "colab": {
          "base_uri": "https://localhost:8080/"
        },
        "id": "1mOLTJ21yZR5",
        "outputId": "9f33755e-2652-4305-cc72-2e431fe38666"
      },
      "execution_count": 6,
      "outputs": [
        {
          "output_type": "stream",
          "name": "stdout",
          "text": [
            "7.5\n",
            "2.5\n",
            "12.5\n",
            "2.0\n"
          ]
        }
      ]
    },
    {
      "cell_type": "markdown",
      "source": [
        "## Exercício 4: Calculando a área de um círculo\n",
        "\n",
        "Crie um programa que calcule a área de um círculo, dada a fórmula: $A = \\pi * r^2$. Atribua um valor para o raio (como float) e mostre o resultado da área. Utilize π = 3.14159.\n",
        "\n",
        "* O resultado deve ser apresentado como \"A área do círculo é: {area}\""
      ],
      "metadata": {
        "id": "5G1LYGdLvK8C"
      }
    },
    {
      "cell_type": "code",
      "source": [
        "import math\n",
        "\n",
        "r = float(input())\n",
        "a = math.pi * r**2\n",
        "\n",
        "print(f\"A área do círculo é: {a}\")"
      ],
      "metadata": {
        "colab": {
          "base_uri": "https://localhost:8080/"
        },
        "id": "kLWmWIIdyuqm",
        "outputId": "9ce7ea80-943f-4c14-e7c5-f636d0e3307b"
      },
      "execution_count": 10,
      "outputs": [
        {
          "output_type": "stream",
          "name": "stdout",
          "text": [
            "3\n",
            "A área do círculo é: 28.274333882308138\n"
          ]
        }
      ]
    },
    {
      "cell_type": "markdown",
      "source": [],
      "metadata": {
        "id": "Gtwb024_vN2K"
      }
    },
    {
      "cell_type": "markdown",
      "source": [
        "## Exercício 5: Conversor de Temperatura\n",
        "\n",
        "Crie um programa que converta uma temperatura de graus Celsius para Fahrenheit.\n",
        "\n",
        "A fórmula de conversão é:\n",
        "$$\n",
        "Fahrenheit = Celsius \\times \\frac{9}{5} + 32\n",
        "$$\n",
        "\n",
        "Obs: para receber a temperatura em Celsius do usuário, utilize o comando:\n",
        "\n",
        " * `celsius = float(input(\"Digite a temperatura em Celsius: \"))`"
      ],
      "metadata": {
        "id": "6hSIIshxvR5w"
      }
    },
    {
      "cell_type": "code",
      "source": [
        "c = float(input())\n",
        "f = c * (9/5) + 32\n",
        "\n",
        "print(f)"
      ],
      "metadata": {
        "colab": {
          "base_uri": "https://localhost:8080/"
        },
        "id": "d7v1SryyzJZj",
        "outputId": "ef62244d-7e3c-4c63-e80e-05ce13d4130d"
      },
      "execution_count": 11,
      "outputs": [
        {
          "output_type": "stream",
          "name": "stdout",
          "text": [
            "2\n",
            "35.6\n"
          ]
        }
      ]
    },
    {
      "cell_type": "markdown",
      "source": [
        "## Exercício 6: Calculadora de IMC\n",
        "\n",
        "Crie um programa que recebe calcula o Índice de Massa Corporal (IMC). Para isto você deve receber do usuário o peso e a altura.\n",
        "\n",
        "A fórmula do IMC é dada por:\n",
        "$$\n",
        "IMC = peso / altura^2,\n",
        "$$\n",
        "em que peso é dado em kg e a altura em metros.\n",
        "\n",
        "Obs: utilize os seguintes comandos para ser o peso e a altura:\n",
        "* `peso = float(input(\"Digite o peso em quilogramas: \"))`\n",
        "* `altura = float(input(\"Digite a altura em metros: \"))`"
      ],
      "metadata": {
        "id": "wcD-vZLxvbDM"
      }
    },
    {
      "cell_type": "code",
      "source": [
        "p = float(input())\n",
        "a = float(input())\n",
        "\n",
        "imc = p / (a)**2\n",
        "\n",
        "print(imc)"
      ],
      "metadata": {
        "colab": {
          "base_uri": "https://localhost:8080/"
        },
        "id": "yXWpHxklzUML",
        "outputId": "88a7ec54-e3eb-4f9e-a5d6-c22d6cbaf1b5"
      },
      "execution_count": 12,
      "outputs": [
        {
          "output_type": "stream",
          "name": "stdout",
          "text": [
            "1\n",
            "2\n",
            "0.25\n"
          ]
        }
      ]
    },
    {
      "cell_type": "markdown",
      "source": [
        "## Exercício 7: Modificando uma lista\n",
        "\n",
        "Dada a lista `frutas = [\"maçã\", \"banana\", \"laranja\", \"uva\"]`, faça o seguinte:\n",
        "\n",
        "* Substitua a fruta \"banana\" por \"abacaxi\".\n",
        "* Adicione a fruta \"morango\" ao final da lista.\n",
        "* Exiba a lista resultante.\n",
        "* Coloque a lista em ordem alfabética.\n",
        "* Substitua a fruta \"maçã\" por \"pera\".\n",
        "* Exiba a lista e verifique se ainda esta ordenada. Caso não esteja, então ordene e exiba novamente."
      ],
      "metadata": {
        "id": "WJALo1z3veXL"
      }
    },
    {
      "cell_type": "code",
      "source": [
        "frutas = [\"maçã\", \"banana\", \"laranja\", \"uva\"]\n",
        "\n",
        "print(frutas.index(\"banana\"))\n",
        "\n",
        "frutas[1] = \"abacaxi\"\n",
        "print(frutas)\n",
        "\n",
        "frutas.append(\"morango\")\n",
        "print(frutas)\n",
        "\n",
        "frutas.sort()\n",
        "print(frutas)\n",
        "\n",
        "frutas.index(\"maçã\")\n",
        "frutas[2] = \"pera\"\n",
        "\n",
        "print(frutas)\n",
        "frutas.sort()\n",
        "print(frutas)"
      ],
      "metadata": {
        "colab": {
          "base_uri": "https://localhost:8080/"
        },
        "id": "Yn1xWSlWziuw",
        "outputId": "e5dc9e9d-ad13-48eb-9478-e58d947068d3"
      },
      "execution_count": 27,
      "outputs": [
        {
          "output_type": "stream",
          "name": "stdout",
          "text": [
            "1\n",
            "['maçã', 'abacaxi', 'laranja', 'uva']\n",
            "['maçã', 'abacaxi', 'laranja', 'uva', 'morango']\n",
            "['abacaxi', 'laranja', 'maçã', 'morango', 'uva']\n",
            "['abacaxi', 'laranja', 'pera', 'morango', 'uva']\n",
            "['abacaxi', 'laranja', 'morango', 'pera', 'uva']\n"
          ]
        }
      ]
    },
    {
      "cell_type": "markdown",
      "source": [
        "## Exercício 8: Trabalhando com tupla\n",
        "\n",
        "Dada a tupla `dados = (\"Maria\", 28, \"Engenheira\", \"São Paulo\")`:\n",
        "- Exiba o índice onde está o valor \"Engenheira\" na tupla.\n",
        "- Faça o desempacotamento da tupla nas variáveis: nome, idade, profissao e cidade.\n",
        "- Utilize f-string para formar e apresentar a seguinte frase: \"Maria tem 28 anos, é Engenheira e mora em São Paulo.\"\n"
      ],
      "metadata": {
        "id": "-nYMvddrvnbE"
      }
    },
    {
      "cell_type": "code",
      "source": [
        "dados = (\"Maria\", 28, \"Engenheira\", \"São Paulo\")\n",
        "\n",
        "print(dados.index(\"Engenheira\"))\n",
        "\n",
        "nome, idade, profissao, cidade = dados\n",
        "print(nome)\n",
        "print(idade)\n",
        "print(profissao)\n",
        "print(cidade)\n",
        "\n",
        "print(f\"{nome} tem {idade} anos, é {profissao} e mora em {cidade}.\")"
      ],
      "metadata": {
        "colab": {
          "base_uri": "https://localhost:8080/"
        },
        "id": "SNL6Phbz080E",
        "outputId": "3992a80a-9291-459a-d124-bde1dd9c117a"
      },
      "execution_count": 30,
      "outputs": [
        {
          "output_type": "stream",
          "name": "stdout",
          "text": [
            "2\n",
            "Maria\n",
            "28\n",
            "Engenheira\n",
            "São Paulo\n",
            "Maria tem 28 anos, é Engenheira e mora em São Paulo.\n"
          ]
        }
      ]
    },
    {
      "cell_type": "markdown",
      "source": [],
      "metadata": {
        "id": "zWJ4RkFSvs3k"
      }
    },
    {
      "cell_type": "markdown",
      "source": [
        "## Exercício 9: Operações com `set`.\n",
        "\n",
        "Crie um set chamado `frutas` contendo as frutas `\"maçã\", \"banana\", \"laranja\"` e `\"uva\"` e então:\n",
        "* exiba o conteúdo;\n",
        "* adicione a fruta \"abacaxi\" e exiba o resultado;\n",
        "* remova o elemento \"banana\" e exiba o resultado;\n",
        "* faça a união do set `frutas` com o set `vermelhas = {\"morango\", \"cereja\", \"amora\"}`, guarde em `frutas` e exiba o resultado;\n",
        "* exiba a interseção do conjunto `frutas` com o conjunto `frutas2 = {\"banana\", \"pera\", \"morango\"}`."
      ],
      "metadata": {
        "id": "JYNPbBhwvvv4"
      }
    },
    {
      "cell_type": "code",
      "source": [
        "frutas = {\"maçâ\", \"banana\", \"laranja\", \"uva\"}\n",
        "print(frutas)\n",
        "\n",
        "frutas.add(\"abacaxi\")\n",
        "print(frutas)\n",
        "\n",
        "frutas.discard(\"banana\")\n",
        "print(frutas)\n",
        "\n",
        "vermelhas = {\"morango\", \"cereja\", \"amora\"}\n",
        "frutas = frutas.union(vermelhas)\n",
        "print(frutas)\n",
        "\n",
        "frutas2 = {\"banana\", \"pera\", \"morango\"}\n",
        "print(frutas.intersection(frutas2))"
      ],
      "metadata": {
        "colab": {
          "base_uri": "https://localhost:8080/"
        },
        "id": "bpCPPpCy1cTB",
        "outputId": "c7e026aa-54d8-4148-837b-8d12b7611f37"
      },
      "execution_count": 33,
      "outputs": [
        {
          "output_type": "stream",
          "name": "stdout",
          "text": [
            "{'laranja', 'uva', 'maçâ', 'banana'}\n",
            "{'abacaxi', 'uva', 'laranja', 'maçâ', 'banana'}\n",
            "{'abacaxi', 'uva', 'laranja', 'maçâ'}\n",
            "{'laranja', 'maçâ', 'abacaxi', 'morango', 'cereja', 'uva', 'amora'}\n",
            "{'morango'}\n"
          ]
        }
      ]
    },
    {
      "cell_type": "markdown",
      "source": [
        "## Exercício 10: utilizando range\n",
        "\n",
        "1. exiba o resultado do `range(0, 30, 2)`;\n",
        "2. exiba todos os números pares entre 50 e 70;\n",
        "3. exiba todos os números ímpares entre 50 e 70;\n",
        "4. exiba todos os números que são multiplos de 5 entre 17 e 69.\n"
      ],
      "metadata": {
        "id": "k7uEk-HMvzff"
      }
    },
    {
      "cell_type": "code",
      "source": [
        "for i in range(0, 30, 2):\n",
        "  print(i)\n",
        "\n",
        "for i in range(50, 71, 2):\n",
        "  print(i)\n",
        "\n",
        "for i in range(51, 70, 2):\n",
        "  print(i)\n",
        "\n",
        "for i in range(20, 69, 5):\n",
        "  print(i)"
      ],
      "metadata": {
        "colab": {
          "base_uri": "https://localhost:8080/"
        },
        "id": "vCWUhHTv2NWO",
        "outputId": "5b0081b7-c1b6-4932-da30-fcb1537c6a25"
      },
      "execution_count": 37,
      "outputs": [
        {
          "output_type": "stream",
          "name": "stdout",
          "text": [
            "0\n",
            "2\n",
            "4\n",
            "6\n",
            "8\n",
            "10\n",
            "12\n",
            "14\n",
            "16\n",
            "18\n",
            "20\n",
            "22\n",
            "24\n",
            "26\n",
            "28\n",
            "50\n",
            "52\n",
            "54\n",
            "56\n",
            "58\n",
            "60\n",
            "62\n",
            "64\n",
            "66\n",
            "68\n",
            "70\n",
            "51\n",
            "53\n",
            "55\n",
            "57\n",
            "59\n",
            "61\n",
            "63\n",
            "65\n",
            "67\n",
            "69\n",
            "20\n",
            "25\n",
            "30\n",
            "35\n",
            "40\n",
            "45\n",
            "50\n",
            "55\n",
            "60\n",
            "65\n"
          ]
        }
      ]
    },
    {
      "cell_type": "markdown",
      "source": [
        "## Exercício 11: Crie um programa que pergunte o preço de um produto e verifique se ele deve aplicar algum desconto:\n",
        "\n",
        "* Se o preço for maior que R$ 1000, aplique um desconto de 10%.\n",
        "* Caso contrário, aplique um desconto de 5%.\n",
        "\n",
        "Exiba o valor final do produto após o desconto."
      ],
      "metadata": {
        "id": "VsNfDNFVv9uP"
      }
    },
    {
      "cell_type": "code",
      "source": [
        "p = float(input())\n",
        "\n",
        "if p > 0:\n",
        "  if p > 1000:\n",
        "    p = p - (0.1 * p)\n",
        "    print(p)\n",
        "  else:\n",
        "    p = p - (0.05 * p)\n",
        "    print(p)\n",
        "else:\n",
        "  print(\"invalido\")"
      ],
      "metadata": {
        "colab": {
          "base_uri": "https://localhost:8080/"
        },
        "id": "B9m2ApTx28b9",
        "outputId": "92bdf429-a73a-406d-af9b-36f6f9234f8c"
      },
      "execution_count": 44,
      "outputs": [
        {
          "output_type": "stream",
          "name": "stdout",
          "text": [
            "-2\n",
            "invalido\n"
          ]
        }
      ]
    },
    {
      "cell_type": "markdown",
      "source": [
        "## Exercício 12: Escreva um programa que atribua menção para um aluno da UNB de acordo com o padrão da universidade. Inicialize perguntando a Nota Final e a Frequência do aluno. Classifique de acordo com os critérios:\n",
        "- Frequência $ < $ 70\\% : SR\n",
        "- Frequência $\\geq$ 70\\% e $0 \\leq NF < 3$: II\n",
        "- Frequência $\\geq$ 70\\% e $3 \\leq NF < 5$: MI\n",
        "- Frequência $\\geq$ 70\\% e $5 \\leq NF < 7$: MM\n",
        "- Frequência $\\geq$ 70\\% e $7 \\leq NF < 9$: MS\n",
        "- Frequência $\\geq$ 70\\% e $9 \\leq NF \\leq 10$: SS\n"
      ],
      "metadata": {
        "id": "_tgKxwQuwAs3"
      }
    },
    {
      "cell_type": "code",
      "source": [
        "nf = float(input())\n",
        "fq = float(input())\n",
        "\n",
        "\n",
        "if fq >= 70 and 0 <= nf <= 10:\n",
        "  if 0 <= nf < 3:\n",
        "    print(\"ii\")\n",
        "  elif 3<= nf < 5:\n",
        "    print(\"mi\")\n",
        "  elif 5<= nf < 7:\n",
        "    print(\"mm\")\n",
        "  elif 7<= nf < 9:\n",
        "    print(\"ms\")\n",
        "  else:\n",
        "    print(\"ss\")\n",
        "elif 0 < fq < 70:\n",
        "  print(\"sr\")\n",
        "else:\n",
        "  print(\"invalido\")\n"
      ],
      "metadata": {
        "colab": {
          "base_uri": "https://localhost:8080/"
        },
        "id": "DQj7iDCQ3yU_",
        "outputId": "9e0b519f-66f4-4fcf-de9c-75ac885578dc"
      },
      "execution_count": 56,
      "outputs": [
        {
          "output_type": "stream",
          "name": "stdout",
          "text": [
            "9\n",
            "0\n",
            "invalido\n"
          ]
        }
      ]
    },
    {
      "cell_type": "markdown",
      "source": [
        "## Exercício 13: Soma dos primeiros 100 números\n",
        "\n",
        "a) Use um laço `while` para calcular a soma dos primeiros 100 números inteiros (de 1 a 100).\n",
        "\n",
        "b)  Use um laço `for` para calcular a soma dos primeiros 100 números inteiros (de 1 a 100)."
      ],
      "metadata": {
        "id": "W-o1cqdwwMmq"
      }
    },
    {
      "cell_type": "code",
      "source": [
        "i = 1\n",
        "soma = 0\n",
        "\n",
        "while i < 101:\n",
        "  soma += i\n",
        "  i += 1\n",
        "\n",
        "print(soma)\n",
        "\n",
        "soma2 = 0\n",
        "for i in range(101):\n",
        "  soma2 += i\n",
        "\n",
        "print(soma2)"
      ],
      "metadata": {
        "colab": {
          "base_uri": "https://localhost:8080/"
        },
        "id": "YQixWqLG5PW5",
        "outputId": "9032894d-3d02-4b5c-b639-701d5620ee6c"
      },
      "execution_count": 59,
      "outputs": [
        {
          "output_type": "stream",
          "name": "stdout",
          "text": [
            "5050\n",
            "5050\n"
          ]
        }
      ]
    },
    {
      "cell_type": "markdown",
      "source": [],
      "metadata": {
        "id": "fE2bFW-OwH3E"
      }
    },
    {
      "cell_type": "markdown",
      "source": [
        "## Exercício 14: Números ímpares com `continue`\n",
        "\n",
        "Use um laço `for` para exibir todos os números de 1 a 10, exceto os números ímpares (use o `continue`)."
      ],
      "metadata": {
        "id": "-tayXSi4wTlP"
      }
    },
    {
      "cell_type": "code",
      "source": [
        "for i in range(1,11):\n",
        "  if i % 2 != 0:\n",
        "    continue\n",
        "  else:\n",
        "    print(i)"
      ],
      "metadata": {
        "colab": {
          "base_uri": "https://localhost:8080/"
        },
        "id": "wxOH7l446T3S",
        "outputId": "50669e22-ff0b-46d5-e309-a44931a17661"
      },
      "execution_count": 60,
      "outputs": [
        {
          "output_type": "stream",
          "name": "stdout",
          "text": [
            "2\n",
            "4\n",
            "6\n",
            "8\n",
            "10\n"
          ]
        }
      ]
    },
    {
      "cell_type": "markdown",
      "source": [
        "## Exercício 15: Sequência de Fibonacci\n",
        "\n",
        "Use um laço `while` para calcular e exibir os primeiros 15 termos da sequência de Fibonacci.\n",
        "\n",
        "A sequência de Fibonacci começa com 0 e 1, e os próximos números são a soma dos dois números anteriores.\n",
        "\n",
        "Sequência: 0, 1, 1, 2, 3, 5, ..."
      ],
      "metadata": {
        "id": "htbuHR5lwYI1"
      }
    },
    {
      "cell_type": "code",
      "source": [
        "i = 1\n",
        "x = 0\n",
        "y = 1\n",
        "lista = [x, y]\n",
        "\n",
        "while i < 16:\n",
        "  soma = x + y\n",
        "  lista.append(soma)\n",
        "  x = y\n",
        "  y = soma\n",
        "  i += 1\n",
        "\n",
        "print(lista)"
      ],
      "metadata": {
        "colab": {
          "base_uri": "https://localhost:8080/"
        },
        "id": "CcxSgpYx6lZT",
        "outputId": "2abb17a0-a372-4cc2-9e67-db24660ebd29"
      },
      "execution_count": 64,
      "outputs": [
        {
          "output_type": "stream",
          "name": "stdout",
          "text": [
            "[0, 1, 1, 2, 3, 5, 8, 13, 21, 34, 55, 89, 144, 233, 377, 610, 987]\n"
          ]
        }
      ]
    },
    {
      "cell_type": "markdown",
      "source": [
        "## Exercício 16: Análise de Números\n",
        "\n",
        "Crie uma função chamada `analisar_numeros` que recebe uma lista de números inteiros como parâmetro.\n",
        "\n",
        "A função deve retornar dois objetos:\n",
        "\n",
        "- Uma nova lista contendo apenas os números pares da lista original.\n",
        "\n",
        "- Um dicionário com as seguintes informações:\n",
        "\n",
        "  - \"maior\": o maior valor da lista\n",
        "\n",
        "  - \"menor\": o menor valor da lista\n",
        "\n",
        "  - \"soma\": a soma de todos os valores da lista"
      ],
      "metadata": {
        "id": "Bsc3g_e-wcyV"
      }
    },
    {
      "cell_type": "code",
      "source": [
        "def analisar_numeros(lista*):\n",
        "  nova = list()\n",
        "  for i in lista:\n",
        "    if i % 2 == 0:\n",
        "      nova.append(i)\n",
        "\n",
        "\n"
      ],
      "metadata": {
        "id": "OHPC_Ps8CdIU"
      },
      "execution_count": null,
      "outputs": []
    },
    {
      "cell_type": "markdown",
      "source": [
        "## Exercício 17: Converter Celsius em Fahrenheit\n",
        "\n",
        "Crie uma função chamada `celsius_para_fahrenheit` que recebe uma temperatura em graus Celsius e retorna a temperatura equivalente em Fahrenheit. A fórmula de conversão é: $ 𝐹 = 𝐶 \\times 9/5 + 32$.\n",
        "\n",
        "- Faça um print do resultado.\n",
        "\n",
        "- Documente a função."
      ],
      "metadata": {
        "id": "qFoq_cAKwmSW"
      }
    },
    {
      "cell_type": "markdown",
      "source": [
        "## Exercício 18:\n",
        "\n",
        "Para a lista abaixo, escreva um programa que peça ao usuário um índice e então apresente o elemento da lista na posição correspondente. Trate os possíveis erros:\n",
        "* O valor digitado não for um número (ValueError).\n",
        "* O índice estiver fora do intervalo da lista (IndexError).\n",
        "\n",
        "```python\n",
        "lista = [\"maçã\", \"banana\", \"laranja\", \"uva\", \"melancia\"]\n",
        "```\n"
      ],
      "metadata": {
        "id": "N_-xh28p8Zbe"
      }
    },
    {
      "cell_type": "markdown",
      "source": [
        "## Exercício 19:\n",
        "\n",
        "Crie uma função chamada `extrair_dominio` que recebe um endereço de email como parâmetro e retorna apenas o domínio (parte após o @). Use `split()` para dividir o email e extrair o domínio.\n",
        "\n",
        "Exemplo:\n",
        "```python\n",
        "extrair_dominio(\"usuario@dominio.com\")  # Saída: \"dominio.com\"\n",
        "```\n"
      ],
      "metadata": {
        "id": "z1aLLtZV8ats"
      }
    },
    {
      "cell_type": "code",
      "source": [
        "def extrair_dominio (email):\n",
        "  dominio = email.split(\"@\")\n",
        "  return print(dominio[1])\n",
        "\n",
        "extrair_dominio(\"usuario@dominio.com\")"
      ],
      "metadata": {
        "colab": {
          "base_uri": "https://localhost:8080/"
        },
        "id": "KaDL1w629m3A",
        "outputId": "f67481c3-9499-4fd0-b045-d40d8810cff9"
      },
      "execution_count": 67,
      "outputs": [
        {
          "output_type": "stream",
          "name": "stdout",
          "text": [
            "dominio.com\n"
          ]
        }
      ]
    },
    {
      "cell_type": "markdown",
      "source": [
        "## Exercício 20:\n",
        "\n",
        "Construa um código que altera um número de telefone no formato \"61997351520\" para o formato \"(61) 99735-1520\".\n",
        "\n",
        "Exemplo:\n",
        "```python\n",
        "altera_telefone(61997351520)  # Saída: \"(61) 99735-1520\"\n",
        "```"
      ],
      "metadata": {
        "id": "9vuFuuiW8uhk"
      }
    },
    {
      "cell_type": "code",
      "source": [
        "def altera_telefone(tel):\n",
        "  tel = str(tel)\n",
        "  ddd = tel[0:2]\n",
        "  x = tel[2:7]\n",
        "  y = tel[7:]\n",
        "  return print(f\"({ddd}) {x}-{y}\")\n",
        "\n",
        "altera_telefone(61997351520)"
      ],
      "metadata": {
        "colab": {
          "base_uri": "https://localhost:8080/"
        },
        "id": "OJ-qtvr79-X0",
        "outputId": "238ff8a4-3f7e-45e0-f312-4769a20d2e79"
      },
      "execution_count": 74,
      "outputs": [
        {
          "output_type": "stream",
          "name": "stdout",
          "text": [
            "(61) 99735-1520\n"
          ]
        }
      ]
    },
    {
      "cell_type": "markdown",
      "source": [
        "## Exercício 21:\n",
        "\n",
        "Crie uma expressão regular que valide CEPs no formato XXXXX-XXX, onde X é um dígito. Escreva uma função validar_cep que recebe uma string e retorna True se o CEP for válido, caso contrário, False.\n",
        "\n",
        "```python\n",
        "validar_cep(\"12345-678\")  # True\n",
        "validar_cep(\"1234-678\")   # False\n",
        "```"
      ],
      "metadata": {
        "id": "43WAdk8s8z_7"
      }
    },
    {
      "cell_type": "code",
      "source": [
        "import re\n",
        "\n",
        "def validar_cep(cep):\n",
        "  padrao = r\"\\d{5}-\\d{3}\"\n",
        "  if re.fullmatch(padrao, cep):\n",
        "    print(\"true\")\n",
        "  else:\n",
        "    print(\"false\")\n",
        "\n",
        "validar_cep(\"12345-678\")\n",
        "validar_cep(\"1234-678\")"
      ],
      "metadata": {
        "colab": {
          "base_uri": "https://localhost:8080/"
        },
        "id": "5Wslsf_1-uv3",
        "outputId": "66705710-a659-497e-d756-a449cbac4f41"
      },
      "execution_count": 76,
      "outputs": [
        {
          "output_type": "stream",
          "name": "stdout",
          "text": [
            "true\n",
            "false\n"
          ]
        }
      ]
    },
    {
      "cell_type": "markdown",
      "source": [
        "## Exercício 22:\n",
        "\n",
        "Crie uma função que verifica se placas de carro estão no formato antigo brasileiro (AAA-1234), onde A é uma letra maiúscula e 1-4 são números.\n",
        "\n",
        "Exemplo:\n",
        "\n",
        "```python\n",
        "verifica_placa(\"PHL-2526\") # True\n",
        "verifica_placa(\"AAB9E81\")  # False\n",
        "```"
      ],
      "metadata": {
        "id": "pZ4I2uDm85uF"
      }
    },
    {
      "cell_type": "code",
      "source": [
        "def verifica_placa(placa):\n",
        "  padrao = \"[A-Z]{3}-\\d{4}\"\n",
        "  if re.fullmatch(padrao, placa):\n",
        "    print(\"true\")\n",
        "  else:\n",
        "    print(\"false\")\n",
        "\n",
        "verifica_placa(\"PHL-2526\") # True\n",
        "verifica_placa(\"AAB9E81\")"
      ],
      "metadata": {
        "colab": {
          "base_uri": "https://localhost:8080/"
        },
        "id": "x6N1WHD2_ix3",
        "outputId": "e3ed17db-8d94-4ae4-bf03-0cf178ab870b"
      },
      "execution_count": 78,
      "outputs": [
        {
          "output_type": "stream",
          "name": "stdout",
          "text": [
            "true\n",
            "false\n"
          ]
        }
      ]
    },
    {
      "cell_type": "markdown",
      "source": [
        "## Exercício 23\n",
        "\n",
        "a) Crie um array de zeros com forma 3x3.\n",
        "\n",
        "b) Crie um array com números de 1 a 20, com passo de 3."
      ],
      "metadata": {
        "id": "TDTT6LGA8-Ia"
      }
    },
    {
      "cell_type": "code",
      "source": [
        "import numpy as np\n",
        "\n",
        "x = np.zeros((3,3))\n",
        "print(x)\n",
        "\n",
        "y = np.arange(1,20,3)\n",
        "print(y)"
      ],
      "metadata": {
        "colab": {
          "base_uri": "https://localhost:8080/"
        },
        "id": "upnjuao0Aymm",
        "outputId": "d23068de-d308-430e-ec68-69ff62c7915e"
      },
      "execution_count": 83,
      "outputs": [
        {
          "output_type": "stream",
          "name": "stdout",
          "text": [
            "[[0. 0. 0.]\n",
            " [0. 0. 0.]\n",
            " [0. 0. 0.]]\n",
            "[ 1  4  7 10 13 16 19]\n"
          ]
        }
      ]
    },
    {
      "cell_type": "markdown",
      "source": [
        "## Exercício 24\n",
        "\n",
        "* Crie um array com os valores `[10, 20, 30, 40, 50]`.\n",
        "* Subtraia `5` de cada elemento e, em seguida, eleve ao quadrado cada valor.\n",
        "* Apresente o vetor com a soma das colunas."
      ],
      "metadata": {
        "id": "dudS2JS39LKe"
      }
    },
    {
      "cell_type": "code",
      "source": [
        "x = np.array([10, 20, 30, 40, 50])\n",
        "x -= 5\n",
        "print(x)\n",
        "x **= 2\n",
        "print(x)\n",
        "\n",
        "print(x.sum(axis=0))"
      ],
      "metadata": {
        "colab": {
          "base_uri": "https://localhost:8080/"
        },
        "id": "i9s0W_IRD2Gr",
        "outputId": "7c702c06-7b00-4391-a071-ff4308b1cc93"
      },
      "execution_count": 85,
      "outputs": [
        {
          "output_type": "stream",
          "name": "stdout",
          "text": [
            "[ 5 15 25 35 45]\n",
            "[  25  225  625 1225 2025]\n",
            "4125\n"
          ]
        }
      ]
    },
    {
      "cell_type": "markdown",
      "source": [
        "## Exercício 25\n",
        "\n",
        "* Crie um array 3x3 com valores de 1 a 9.\n",
        "* Extraia a segunda linha.\n",
        "* Extraia o último elemento da primeira linha."
      ],
      "metadata": {
        "id": "2j-ngpCK9Pbz"
      }
    },
    {
      "cell_type": "markdown",
      "source": [],
      "metadata": {
        "id": "1xTee_ii9XHR"
      }
    },
    {
      "cell_type": "code",
      "source": [
        "x = np.arange(1,10).reshape(3,3)\n",
        "print(x)\n",
        "\n",
        "print(x[1, :])\n",
        "print(x[0,2])"
      ],
      "metadata": {
        "colab": {
          "base_uri": "https://localhost:8080/"
        },
        "id": "fVb9IY9nET85",
        "outputId": "dc4019dd-f5a4-48f7-a32b-c2225fd1d97b"
      },
      "execution_count": 89,
      "outputs": [
        {
          "output_type": "stream",
          "name": "stdout",
          "text": [
            "[[1 2 3]\n",
            " [4 5 6]\n",
            " [7 8 9]]\n",
            "[4 5 6]\n",
            "3\n"
          ]
        }
      ]
    },
    {
      "cell_type": "markdown",
      "source": [
        "## Exercício 26\n",
        "\n",
        "1. Crie dois arrays 1D, `a` e `b`, com valores de 1 a 5 e de 6 a 10, respectivamente.\n",
        "1. Empilhe `a` e `b` verticalmente para formar um array 2D.\n",
        "1. Em seguida, empilhe `a` e `b` horizontalmente para formar um array 1x10.\n",
        "\n",
        "Dica: Use np.vstack() para empilhamento vertical e np.hstack() para empilhamento horizontal."
      ],
      "metadata": {
        "id": "XNqoUmNa9ZL4"
      }
    },
    {
      "cell_type": "code",
      "source": [
        "a = np.arange(1, 6)\n",
        "b = np.arange(6, 11)\n",
        "\n",
        "print(a)\n",
        "print(b)\n",
        "print(np.vstack((a, b)))\n",
        "print(np.hstack((a, b)))"
      ],
      "metadata": {
        "colab": {
          "base_uri": "https://localhost:8080/"
        },
        "id": "RddyUT6lE5bR",
        "outputId": "a37676e1-5162-498e-8591-2c349d033b89"
      },
      "execution_count": 92,
      "outputs": [
        {
          "output_type": "stream",
          "name": "stdout",
          "text": [
            "[1 2 3 4 5]\n",
            "[ 6  7  8  9 10]\n",
            "[[ 1  2  3  4  5]\n",
            " [ 6  7  8  9 10]]\n",
            "[ 1  2  3  4  5  6  7  8  9 10]\n"
          ]
        }
      ]
    },
    {
      "cell_type": "markdown",
      "source": [],
      "metadata": {
        "id": "coEzKOYs9Z-u"
      }
    },
    {
      "cell_type": "markdown",
      "source": [
        "## Exercício 27\n",
        "\n",
        "1. Crie uma matriz A de tamanho 4x3 de zeros.\n",
        "1. Faça `B=A` e `C=A.copy()`.\n",
        "1. Verifique se `B` e `C` são os mesmos objetos utilizando `is`.\n",
        "1. Mostre os id's de `A`, `B` e `C`.\n",
        "1. Altere um elemento de `A` e veja o que acontece com `B` e com `C`."
      ],
      "metadata": {
        "id": "YSILHjqL9g8-"
      }
    },
    {
      "cell_type": "code",
      "source": [
        "a = np.zeros((4,3))\n",
        "b = a\n",
        "c = a.copy()\n",
        "\n",
        "print(b is c)\n",
        "print(id(a))\n",
        "print(id(b))\n",
        "print(id(c))\n",
        "\n",
        "a[0,0] = 2\n",
        "\n",
        "print(a)\n",
        "print(b)\n",
        "print(c)"
      ],
      "metadata": {
        "colab": {
          "base_uri": "https://localhost:8080/"
        },
        "id": "Lz0Ww0fwFUuN",
        "outputId": "e45ecce9-a0cd-4fcb-c264-87eeb1f50f95"
      },
      "execution_count": 98,
      "outputs": [
        {
          "output_type": "stream",
          "name": "stdout",
          "text": [
            "False\n",
            "136780663004816\n",
            "136780663004816\n",
            "136780663005488\n",
            "[[2. 0. 0.]\n",
            " [0. 0. 0.]\n",
            " [0. 0. 0.]\n",
            " [0. 0. 0.]]\n",
            "[[2. 0. 0.]\n",
            " [0. 0. 0.]\n",
            " [0. 0. 0.]\n",
            " [0. 0. 0.]]\n",
            "[[0. 0. 0.]\n",
            " [0. 0. 0.]\n",
            " [0. 0. 0.]\n",
            " [0. 0. 0.]]\n"
          ]
        }
      ]
    },
    {
      "cell_type": "markdown",
      "source": [
        "## Exercício 28:\n",
        "\n",
        "Crie um vetor do tipo `Series` com:\n",
        "* as seguintes datas como indices: \"2023-01-01\", \"2023-03-15\", \"2023-07-20\", \"2023-12-25\".\n",
        "  * dica: utilize `pd.to_datetime([\"2023-01-01\", \"2023-03-15\", \"2023-07-20\", \"2023-12-25\"])`\n",
        "* os seguintes valores:  100, 200, 300, 400"
      ],
      "metadata": {
        "id": "fxUoVn-kGF7t"
      }
    },
    {
      "cell_type": "markdown",
      "source": [
        "## Exercício 29\n",
        "\n",
        "Crie um `DataFrame` com 3 colunas chamadas `[\"Número\", \"Quadrado\", \"Cubo\"]`. Preencha com os números de 1 a 10 na coluna `Número`, e nas colunas `Quadrado` e `Cubo`, insira os valores correspondentes ao quadrado e ao cubo de cada número.\n"
      ],
      "metadata": {
        "id": "xy0Ox1g0GHmR"
      }
    },
    {
      "cell_type": "markdown",
      "source": [
        "## Exercício 30\n",
        "\n",
        "Considere o seguinte `DataFrame`:\n",
        "```python\n",
        "df = pd.DataFrame({\n",
        "    \"Nome\": [\"Ana\", \"Bruno\", \"Clara\", \"Diego\"],\n",
        "    \"Idade\": [23, 35, 29, 40],\n",
        "    \"Cidade\": [\"São Paulo\", \"Rio de Janeiro\", \"Belo Horizonte\", \"Curitiba\"]\n",
        "})\n",
        "```\n",
        "Então:\n",
        "\n",
        "1. Selecione apenas a coluna `Idade`.\n",
        "1. Selecione as colunas [\"Nome\", \"Cidade\"].\n",
        "1. Filtre apenas as linhas onde a idade seja maior que 30."
      ],
      "metadata": {
        "id": "5VIW4xUGGMom"
      }
    },
    {
      "cell_type": "markdown",
      "source": [
        "## Exercício 31\n",
        "\n",
        "Considere o seguinte `DataFrame`:\n",
        "```python\n",
        "df = pd.DataFrame({\n",
        "    \"População (milhões)\": [211, 144, 331, 67, 83],\n",
        "    \"PIB (trilhões USD)\": [1.84, 1.48, 22.68, 2.83, 4.22],\n",
        "    \"Continente\": [\"América\", \"Asia\", \"América\", \"Europa\", \"Europa\"]\n",
        "    },\n",
        "    index=[\"Brasil\", \"Rússia\", \"Estados Unidos\", \"França\", \"Alemanha\"])\n",
        "```\n",
        "Então:\n",
        "\n",
        "1. Selecione as linhas correspondentes a \"Brasil\" e \"Alemanha\".\n",
        "1. Use `.loc` para selecionar a população e o PIB dos \"Estados Unidos\".\n",
        "1. Use `.iloc` para selecionar os dados dos dois primeiros países.\n",
        "1. Use `.isin` para todos os países que estão na América ou na Asia."
      ],
      "metadata": {
        "id": "zSI-QKPdGQo-"
      }
    },
    {
      "cell_type": "markdown",
      "source": [
        "## Exercício 32\n",
        "\n",
        "\n",
        "Considere o seguinte `DataFrame`:\n",
        "```python\n",
        "dados = {\n",
        "    \"Produto\": [\"Notebook\", \"Celular\", \"Tablet\", \"Fone de Ouvido\", \"Monitor\", \"Mouse\"],\n",
        "    \"Preço\": [2500, 1500, np.nan, 200, 800, 100],\n",
        "    \"Estoque\": [10, 5, 2, 50, np.nan, 150],\n",
        "    \"Categoria\": [\"Eletrônicos\", \"Eletrônicos\", \"Eletrônicos\", \"Acessórios\", \"Periféricos\", \"Periféricos\"],\n",
        "    \"Avaliação\": [4.5, np.nan, 3.8, 4.2, 3.9, np.nan]\n",
        "}\n",
        "\n",
        "df = pd.DataFrame(dados)\n",
        "```\n",
        "Então:\n",
        "\n",
        "1. Atualize o preço do produto \"Tablet\" para 1800.\n",
        "1. Reduza em 20% o preço de todos os produtos da categoria \"Eletrônicos\".\n",
        "1. Mostre a planilha excluindo as linhas com valores faltantes.\n",
        "1. Preencha os valores faltantes na coluna Estoque com 0."
      ],
      "metadata": {
        "id": "fh4oNAR9GW8H"
      }
    },
    {
      "cell_type": "markdown",
      "source": [
        "## Exercício 33\n",
        "\n",
        "Considere o seguinte `DataFrame`:\n",
        "```python\n",
        "dados = {\n",
        "    \"Região\": [\"Norte\", \"Norte\", \"Sul\", \"Sul\", \"Leste\", \"Leste\"],\n",
        "    \"Produto\": [\"Maçã\", \"Banana\", \"Maçã\", \"Banana\", \"Maçã\", \"Banana\"],\n",
        "    \"Vendas\": [120, 200, 150, 300, 250, 180],\n",
        "    \"Lucro\": [30, 50, 25, 70, 60, 40],\n",
        "    \"Desconto (%)\": [5, 10, 0, 15, 5, 10],\n",
        "}\n",
        "df = pd.DataFrame(dados)\n",
        "```\n",
        "Então:\n",
        "\n",
        "1. Use `DataFrame.agg()` para calcular, para cada coluna numérica do DataFrame:\n",
        "  * A soma;\n",
        "  * A média;\n",
        "  * O valor máximo;\n",
        "\n",
        "1. Use `DataFrame.transform()` para criar uma nova coluna chamada *Vendas Normalizadas*, que:\n",
        "  * Subtraia a média das vendas de cada valor.\n",
        "  * Divida pelo desvio padrão das vendas.\n",
        "  \n",
        "  Dica: Aplique a normalização (fórmula: $z = (x - média) / std$) diretamente sobre a coluna *Vendas*.\n"
      ],
      "metadata": {
        "id": "FbWjULTlGrby"
      }
    },
    {
      "cell_type": "markdown",
      "source": [
        "## Exercício 34\n",
        "\n",
        "Considere o seguinte `DataFrame`:\n",
        "```python\n",
        "dados = {\n",
        "    \"Cliente\": [\"Ana\", \"bruno\", \"Carlos\", \"Diana\", \"Eduarda\", np.nan, \"fábio\", \"Gabriela\"],\n",
        "    \"Produto\": [\"Notebook\", \"Smartphone\", \"Notebook\", \"Tablet\", \"Notebook\", \"Smartphone\", np.nan, \"Tablet\"],\n",
        "    \"Valor\": [3000, 2000, 3000, 1500, 3000, 2000, 1500, 1500],\n",
        "    \"Data\": [\"2023-01-15\", \"2023-01-16\", np.nan, \"2023-02-10\", \"2023-02-10\", \"2023-01-16\", \"2023-02-15\", \"2023-02-16\"],\n",
        "}\n",
        "df = pd.DataFrame(dados)\n",
        "```\n",
        "Então:\n",
        "\n",
        "1. Qual é o número de valores não nulos em cada coluna do DataFrame?\n",
        "  \n",
        "  Dica: Utilize o método `count()`.\n",
        "\n",
        "1. Qual produto foi vendido mais vezes?\n",
        "  \n",
        "  Dica: Utilize o método `value_counts()` para listar a quantidade de prudutos vendidos e `.idxmax()` para mostrar qual o produto mais vendito.\n",
        "  \n",
        "1. Passe a primeira letra do nome de cada cliente para maiúscula. Dica: Utilize o método `str.title()`.\n",
        "\n",
        "1. Inclua o seguinte dados no final do `df`:\n",
        "```python\n",
        "df2 = pd.DataFrame({\n",
        "    \"Cliente\": [\"Jose\", \"Paula\"],\n",
        "    \"Produto\": [\"Tablet\", \"Notebook\"],\n",
        "    \"Valor\": [1500, 4000],\n",
        "    \"Data\": [\"2023-03-01\", \"2023-03-02\"],\n",
        "})\n",
        "```\n"
      ],
      "metadata": {
        "id": "At116cAuGt5T"
      }
    },
    {
      "cell_type": "markdown",
      "source": [
        "## Exercício 35\n",
        "\n",
        "\n",
        "1. Para o código abaixo use a função `merge()` para combinar os dois DataFrames com base na coluna `Produto`.\n",
        "  * E depois `how=\"outer\"` (união de todos os dados).  \n",
        "  * E depois `how=\"inner\"` (interseção entre os DataFrames).\n",
        "\n",
        "2. Para a ultima junção, faça um agrupamento pela coluna `Produto` e então selecione as colunas `Quantidade` e `Preço` e some elas.\n",
        "\n",
        "```python\n",
        "import pandas as pd\n",
        "\n",
        "# DataFrame de produtos vendidos\n",
        "vendas = pd.DataFrame({\n",
        "    \"Cliente\": [\"Ana\", \"Bruno\", \"Carlos\", \"Diana\", \"Eduarda\", \"Fábio\", \"Gabriela\"],\n",
        "    \"Produto\": [\"Notebook\", \"Smartphone\", \"Notebook\", \"Tablet\", \"Notebook\", \"Mouse\", \"Smartphone\"],\n",
        "    \"Data\": [\"2023-01-15\", \"2023-01-16\", \"2023-01-16\", \"2023-02-10\", \"2023-02-10\", \"2023-02-15\", \"2023-02-16\"],\n",
        "    \"Quantidade\": [1, 2, 1, 1, 3, 2, 1],\n",
        "})\n",
        "\n",
        "# DataFrame com os preços dos produtos\n",
        "precos = pd.DataFrame({\n",
        "    \"Produto\": [\"Notebook\", \"Smartphone\", \"Tablet\"],\n",
        "    \"Preço\": [3000, 2000, 1500],\n",
        "})\n",
        "\n",
        "print(\"DataFrame de vendas:\")\n",
        "print(vendas)\n",
        "\n",
        "print(\"\\nDataFrame de preços:\")\n",
        "print(precos)\n",
        "```"
      ],
      "metadata": {
        "id": "WLeB0yEQI5-Z"
      }
    },
    {
      "cell_type": "code",
      "source": [
        "import pandas as pd\n",
        "\n",
        "# DataFrame de produtos vendidos\n",
        "vendas = pd.DataFrame({\n",
        "    \"Cliente\": [\"Ana\", \"Bruno\", \"Carlos\", \"Diana\", \"Eduarda\", \"Fábio\", \"Gabriela\"],\n",
        "    \"Produto\": [\"Notebook\", \"Smartphone\", \"Notebook\", \"Tablet\", \"Notebook\", \"Mouse\", \"Smartphone\"],\n",
        "    \"Data\": [\"2023-01-15\", \"2023-01-16\", \"2023-01-16\", \"2023-02-10\", \"2023-02-10\", \"2023-02-15\", \"2023-02-16\"],\n",
        "    \"Quantidade\": [1, 2, 1, 1, 3, 2, 1],\n",
        "})\n",
        "\n",
        "# DataFrame com os preços dos produtos\n",
        "precos = pd.DataFrame({\n",
        "    \"Produto\": [\"Notebook\", \"Smartphone\", \"Tablet\"],\n",
        "    \"Preço\": [3000, 2000, 1500],\n",
        "})\n",
        "\n",
        "print(\"DataFrame de vendas:\")\n",
        "print(vendas)\n",
        "\n",
        "print(\"\\nDataFrame de preços:\")\n",
        "print(precos)\n",
        "\n",
        "print(pd.merge(vendas, precos, how = \"outer\"))\n",
        "print(pd.merge(vendas, precos, how = \"inner\"))\n",
        "\n",
        "x = pd.merge(vendas, precos, how = \"inner\")\n",
        "print(x.groupby(\"Produto\")[[\"Quantidade\", \"Preço\"]].sum())"
      ],
      "metadata": {
        "colab": {
          "base_uri": "https://localhost:8080/"
        },
        "id": "h_X57gtWJjOW",
        "outputId": "90da14d2-3756-4680-ef39-8396730ee83d"
      },
      "execution_count": 103,
      "outputs": [
        {
          "output_type": "stream",
          "name": "stdout",
          "text": [
            "DataFrame de vendas:\n",
            "    Cliente     Produto        Data  Quantidade\n",
            "0       Ana    Notebook  2023-01-15           1\n",
            "1     Bruno  Smartphone  2023-01-16           2\n",
            "2    Carlos    Notebook  2023-01-16           1\n",
            "3     Diana      Tablet  2023-02-10           1\n",
            "4   Eduarda    Notebook  2023-02-10           3\n",
            "5     Fábio       Mouse  2023-02-15           2\n",
            "6  Gabriela  Smartphone  2023-02-16           1\n",
            "\n",
            "DataFrame de preços:\n",
            "      Produto  Preço\n",
            "0    Notebook   3000\n",
            "1  Smartphone   2000\n",
            "2      Tablet   1500\n",
            "    Cliente     Produto        Data  Quantidade   Preço\n",
            "0     Fábio       Mouse  2023-02-15           2     NaN\n",
            "1       Ana    Notebook  2023-01-15           1  3000.0\n",
            "2    Carlos    Notebook  2023-01-16           1  3000.0\n",
            "3   Eduarda    Notebook  2023-02-10           3  3000.0\n",
            "4     Bruno  Smartphone  2023-01-16           2  2000.0\n",
            "5  Gabriela  Smartphone  2023-02-16           1  2000.0\n",
            "6     Diana      Tablet  2023-02-10           1  1500.0\n",
            "    Cliente     Produto        Data  Quantidade  Preço\n",
            "0       Ana    Notebook  2023-01-15           1   3000\n",
            "1     Bruno  Smartphone  2023-01-16           2   2000\n",
            "2    Carlos    Notebook  2023-01-16           1   3000\n",
            "3     Diana      Tablet  2023-02-10           1   1500\n",
            "4   Eduarda    Notebook  2023-02-10           3   3000\n",
            "5  Gabriela  Smartphone  2023-02-16           1   2000\n",
            "            Quantidade  Preço\n",
            "Produto                      \n",
            "Notebook             5   9000\n",
            "Smartphone           3   4000\n",
            "Tablet               1   1500\n"
          ]
        }
      ]
    },
    {
      "cell_type": "markdown",
      "source": [],
      "metadata": {
        "id": "xq7XB2n5GyoE"
      }
    },
    {
      "cell_type": "markdown",
      "source": [
        "## Exercício 36\n",
        "\n",
        "Considere o seguinte conjunto de dados:\n",
        "```python\n",
        "import pandas as pd\n",
        "import numpy as np\n",
        "\n",
        "# DataFrame para os exercícios\n",
        "dados = {\n",
        "    \"Produto\": [\"Notebook\", \"Notebook\", \"Smartphone\", \"Smartphone\", \"Tablet\", \"Tablet\"],\n",
        "    \"Região\": [\"Norte\", \"Sul\", \"Norte\", \"Sul\", \"Norte\", \"Sul\"],\n",
        "    \"Ano\": [2023, 2023, 2024, 2024, 2023, 2024],\n",
        "    \"Vendas\": [5000, 4500, 3000, 3500, 2000, 2500],\n",
        "    \"Lucro\": [1000, 900, 800, 850, 300, 400],\n",
        "}\n",
        "\n",
        "df = pd.DataFrame(dados)\n",
        "print(df)\n",
        "```\n",
        "\n",
        "Então:\n",
        "\n",
        "1. Aplique `stack()` no DataFrame original e observe como ele transforma as colunas em um índice.\n",
        "\n",
        "  Pergunta: Qual a principal diferença entre o DataFrame antes e depois de usar `stack()`?\n",
        "\n",
        "2. A partir do resultado de `stack()`, use `unstack()` para reorganizar os dados. Experimente utilizar os níveis de índice (0, 1 ou nomeados).\n",
        "\n",
        "3. Crie uma tabela dinâmica que mostre o lucro médio (Lucro) por \"Produto\" e \"Região\". Use `aggfunc=\"mean\"`.\n",
        "\n",
        "  Pergunta: Como a função de agregação afeta os dados?\n",
        "\n",
        "4. Adicione margens (totais) à tabela dinâmica do exercício anterior, usando o parâmetro `margins=True`.   "
      ],
      "metadata": {
        "id": "ejkVLjIyI9CI"
      }
    },
    {
      "cell_type": "code",
      "source": [
        "import pandas as pd\n",
        "import numpy as np\n",
        "\n",
        "# DataFrame para os exercícios\n",
        "dados = {\n",
        "    \"Produto\": [\"Notebook\", \"Notebook\", \"Smartphone\", \"Smartphone\", \"Tablet\", \"Tablet\"],\n",
        "    \"Região\": [\"Norte\", \"Sul\", \"Norte\", \"Sul\", \"Norte\", \"Sul\"],\n",
        "    \"Ano\": [2023, 2023, 2024, 2024, 2023, 2024],\n",
        "    \"Vendas\": [5000, 4500, 3000, 3500, 2000, 2500],\n",
        "    \"Lucro\": [1000, 900, 800, 850, 300, 400],\n",
        "}\n",
        "\n",
        "df = pd.DataFrame(dados)\n",
        "print(df)\n",
        "\n",
        "print(df.stack())\n",
        "print(df.unstack())\n",
        "print(df.unstack(0))\n",
        "print(df.unstack(1))"
      ],
      "metadata": {
        "colab": {
          "base_uri": "https://localhost:8080/"
        },
        "id": "wLAfZ1QnKmmF",
        "outputId": "c822df9d-00c4-464b-8b32-4b3ba61cd313"
      },
      "execution_count": 105,
      "outputs": [
        {
          "output_type": "stream",
          "name": "stdout",
          "text": [
            "      Produto Região   Ano  Vendas  Lucro\n",
            "0    Notebook  Norte  2023    5000   1000\n",
            "1    Notebook    Sul  2023    4500    900\n",
            "2  Smartphone  Norte  2024    3000    800\n",
            "3  Smartphone    Sul  2024    3500    850\n",
            "4      Tablet  Norte  2023    2000    300\n",
            "5      Tablet    Sul  2024    2500    400\n",
            "0  Produto      Notebook\n",
            "   Região          Norte\n",
            "   Ano              2023\n",
            "   Vendas           5000\n",
            "   Lucro            1000\n",
            "1  Produto      Notebook\n",
            "   Região            Sul\n",
            "   Ano              2023\n",
            "   Vendas           4500\n",
            "   Lucro             900\n",
            "2  Produto    Smartphone\n",
            "   Região          Norte\n",
            "   Ano              2024\n",
            "   Vendas           3000\n",
            "   Lucro             800\n",
            "3  Produto    Smartphone\n",
            "   Região            Sul\n",
            "   Ano              2024\n",
            "   Vendas           3500\n",
            "   Lucro             850\n",
            "4  Produto        Tablet\n",
            "   Região          Norte\n",
            "   Ano              2023\n",
            "   Vendas           2000\n",
            "   Lucro             300\n",
            "5  Produto        Tablet\n",
            "   Região            Sul\n",
            "   Ano              2024\n",
            "   Vendas           2500\n",
            "   Lucro             400\n",
            "dtype: object\n",
            "Produto  0      Notebook\n",
            "         1      Notebook\n",
            "         2    Smartphone\n",
            "         3    Smartphone\n",
            "         4        Tablet\n",
            "         5        Tablet\n",
            "Região   0         Norte\n",
            "         1           Sul\n",
            "         2         Norte\n",
            "         3           Sul\n",
            "         4         Norte\n",
            "         5           Sul\n",
            "Ano      0          2023\n",
            "         1          2023\n",
            "         2          2024\n",
            "         3          2024\n",
            "         4          2023\n",
            "         5          2024\n",
            "Vendas   0          5000\n",
            "         1          4500\n",
            "         2          3000\n",
            "         3          3500\n",
            "         4          2000\n",
            "         5          2500\n",
            "Lucro    0          1000\n",
            "         1           900\n",
            "         2           800\n",
            "         3           850\n",
            "         4           300\n",
            "         5           400\n",
            "dtype: object\n",
            "Produto  0      Notebook\n",
            "         1      Notebook\n",
            "         2    Smartphone\n",
            "         3    Smartphone\n",
            "         4        Tablet\n",
            "         5        Tablet\n",
            "Região   0         Norte\n",
            "         1           Sul\n",
            "         2         Norte\n",
            "         3           Sul\n",
            "         4         Norte\n",
            "         5           Sul\n",
            "Ano      0          2023\n",
            "         1          2023\n",
            "         2          2024\n",
            "         3          2024\n",
            "         4          2023\n",
            "         5          2024\n",
            "Vendas   0          5000\n",
            "         1          4500\n",
            "         2          3000\n",
            "         3          3500\n",
            "         4          2000\n",
            "         5          2500\n",
            "Lucro    0          1000\n",
            "         1           900\n",
            "         2           800\n",
            "         3           850\n",
            "         4           300\n",
            "         5           400\n",
            "dtype: object\n",
            "Produto  0      Notebook\n",
            "         1      Notebook\n",
            "         2    Smartphone\n",
            "         3    Smartphone\n",
            "         4        Tablet\n",
            "         5        Tablet\n",
            "Região   0         Norte\n",
            "         1           Sul\n",
            "         2         Norte\n",
            "         3           Sul\n",
            "         4         Norte\n",
            "         5           Sul\n",
            "Ano      0          2023\n",
            "         1          2023\n",
            "         2          2024\n",
            "         3          2024\n",
            "         4          2023\n",
            "         5          2024\n",
            "Vendas   0          5000\n",
            "         1          4500\n",
            "         2          3000\n",
            "         3          3500\n",
            "         4          2000\n",
            "         5          2500\n",
            "Lucro    0          1000\n",
            "         1           900\n",
            "         2           800\n",
            "         3           850\n",
            "         4           300\n",
            "         5           400\n",
            "dtype: object\n"
          ]
        }
      ]
    },
    {
      "cell_type": "markdown",
      "source": [
        "## Exercício 37\n",
        "\n",
        "Considere o seguinte código:\n",
        "\n",
        "```python\n",
        "import pandas as pd\n",
        "import numpy as np\n",
        "\n",
        "# Série temporal diária para janeiro de 2023\n",
        "dias = pd.date_range(start=\"2023-01-01\", end=\"2023-01-31\", freq=\"D\")\n",
        "serie = pd.Series(np.random.randint(10, 100, len(dias_janeiro)), index=dias)\n",
        "print(\"Série Temporal:\\n\", serie)\n",
        "```\n",
        "\n",
        "Então para o objeto `serie`:\n",
        "\n",
        "1. Construa uma série semanal tomando os valores máximos de cada semana.\n",
        "\n",
        "2. Construa uma série semanal tomando os valores médios de cada semana.\n",
        "\n",
        "3. Inclua o fuso horário \"America/Sao_Paulo\".\n",
        "\n",
        "4. Apresente o gráfico das duas séries temporais."
      ],
      "metadata": {
        "id": "WwYpHfnlJH-T"
      }
    },
    {
      "cell_type": "markdown",
      "source": [
        "## Exercício 38\n",
        "\n",
        "Considere o seguinte código que construi um dataframe representando vendas de um loja de eletrônicos:\n",
        "\n",
        "```python\n",
        "import pandas as pd\n",
        "import numpy as np\n",
        "\n",
        "# Criando um DataFrame de exemplo\n",
        "dados = {\n",
        "    \"Produto\": [\"Notebook\", \"Smartphone\", \"Tablet\", \"Notebook\", \"Smartphone\", \"Tablet\", \"Notebook\", \"Smartphone\", \"Tablet\", \"Notebook\"],\n",
        "    \"Loja\": [\"Loja A\", \"Loja B\", \"Loja C\", \"Loja A\", \"Loja B\", \"Loja C\", \"Loja A\", \"Loja B\", \"Loja C\", \"Loja A\"],\n",
        "    \"Vendas\": [1500, 2000, 1000, 1800, 2200, 1200, 1700, 2100, 1300, 1600],\n",
        "    \"Ano\": [2023, 2023, 2023, 2023, 2023, 2023, 2023, 2023, 2023, 2023],\n",
        "    \"Categoria\": [\"Eletrônicos\", \"Eletrônicos\", \"Eletrônicos\", \"Eletrônicos\", \"Eletrônicos\", \"Eletrônicos\", \"Eletrônicos\", \"Eletrônicos\", \"Eletrônicos\", \"Eletrônicos\"],\n",
        "}\n",
        "\n",
        "df = pd.DataFrame(dados)\n",
        "\n",
        "print(\"Conjunto de Dados de Vendas:\")\n",
        "print(df)\n",
        "\n",
        "```\n",
        "\n",
        "Então para o objeto `serie`:\n",
        "\n",
        "1. Converta as colunas \"Loja\" e \"Produto\" para categóricas.\n",
        "\n",
        "2. Faça a coluna \"Produto\" ter a seguinte ordem: \"Tablet\", \"Smartphone\", \"Notebook\".\n",
        "\n",
        "3. Calcule a quantidade de ocorrências de cada nível da coluna \"Loja\" usando `value_counts()`.\n",
        "\n",
        "4. Crie uma nova coluna categórica ordinal chamada `Categoria_Vendas`, onde será categorizado para \"Alto\", \"Médio\" ou \"Baixo\", com base nos seguintes critérios:\n",
        "  * \"Alto\": Vendas > 2000\n",
        "  * \"Médio\": 1500 <= Vendas <= 2000\n",
        "  * \"Baixo\": Vendas < 1500.\n",
        "\n",
        "5. Transforme em dummies as variáveis `Produto` e  `Categoria_Vendas`.    "
      ],
      "metadata": {
        "id": "taTjyPR2JQOz"
      }
    },
    {
      "cell_type": "markdown",
      "source": [],
      "metadata": {
        "id": "4v7wHd-YJWNH"
      }
    }
  ]
}