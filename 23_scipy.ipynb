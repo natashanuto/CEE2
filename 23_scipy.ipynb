{
  "nbformat": 4,
  "nbformat_minor": 0,
  "metadata": {
    "colab": {
      "provenance": [],
      "toc_visible": true
    },
    "kernelspec": {
      "name": "python3",
      "display_name": "Python 3"
    },
    "language_info": {
      "name": "python"
    }
  },
  "cells": [
    {
      "cell_type": "markdown",
      "source": [
        "# SciPy\n",
        "\n",
        "## Introdução ao SciPy\n",
        "\n",
        "SciPy é uma biblioteca Python para computação científica e análise de dados. Ela contém módulos para diversas operações matemáticas, incluindo modelos estatísticos, métodos de otimização, integração numérica, transformada de Fourier, processamento de sinais, entre outras.\n",
        "\n",
        "Neste tutorial, vamos apresentar quatro módulos importantes da SciPy que são muito úteis para quem está estudando estatística e análise de dados:\n",
        "\n",
        "1. `stats`: Este módulo oferece funções para trabalhar com estatísticas, como cálculos de probabilidades, distribuições estatísticas e testes de hipóteses.\n",
        "\n",
        "1. `optimize`: Aqui encontramos ferramentas para encontrar valores mínimos ou máximos de funções, o que ajuda em problemas de otimização e ajuste de modelos.\n",
        "\n",
        "1. `integrate`: Este módulo permite calcular integrais numéricas e resolver equações diferenciais, úteis para análise de funções e modelagem matemática.\n",
        "\n",
        "1. `interpolate`: Permite interpolar e suavizar dados entre pontos conhecidos.\n",
        "\n",
        "## Instalação\n",
        "\n",
        "- Usando pip no terminal:\n",
        "```bash\n",
        "pip install scipy\n",
        "```\n",
        "\n",
        "- Usando Anaconda:\n",
        "```bash\n",
        "conda install scipy\n",
        "```\n",
        "\n",
        "\n",
        "## Importação\n",
        "\n",
        "- Pacote completo:\n",
        "```python\n",
        "import scipy\n",
        "```\n",
        "- Alias (convenção comum):\n",
        "```python\n",
        "import scipy as sp\n",
        "```\n",
        "\n",
        "- Módulos:\n",
        "```python\n",
        "from scipy import stats       # Para estatística\n",
        "from scipy import optimize    # Para otimização\n",
        "from scipy import integrate   # Para integração\n",
        "from scipy import interpolate # Para interpolação\n",
        "```\n",
        "\n",
        "## Dependência\n",
        "O SciPy depende de outras bibliotecas científicas que são instaladas automaticamente:\n",
        "\n",
        "- NumPy (fundamental para operações numéricas)\n",
        "\n",
        "- Matplotlib (útil para visualização, embora não seja exigida diretamente)."
      ],
      "metadata": {
        "id": "_DoUSnNjNEfa"
      }
    },
    {
      "cell_type": "code",
      "source": [
        "## TESTE:\n",
        "## Rode esse código para verificar se esta funcionando corretamente no seu ambiente\n",
        "\n",
        "from scipy import stats\n",
        "import numpy as np\n",
        "\n",
        "data = np.array([1, 2, 3, 4, 5])\n",
        "print(\"Média:\", stats.tmean(data))\n",
        "print(\"Desvio padrão:\", stats.tstd(data))"
      ],
      "metadata": {
        "colab": {
          "base_uri": "https://localhost:8080/"
        },
        "id": "MYw-OomdQxn3",
        "outputId": "a3e4d8f7-ca30-410b-8868-2a6ebbecce43"
      },
      "execution_count": 50,
      "outputs": [
        {
          "output_type": "stream",
          "name": "stdout",
          "text": [
            "Média: 3.0\n",
            "Desvio padrão: 1.5811388300841898\n"
          ]
        }
      ]
    },
    {
      "cell_type": "markdown",
      "source": [
        "---\n",
        "## Estatística\n",
        "\n",
        "O módulo `scipy.stats` do SciPy é uma ferramenta para análises estatísticas, contendo:\n",
        "\n",
        "- Mais de 100 distribuições de probabilidade contínuas e discretas (normal, binomial, t-Student etc.);\n",
        "\n",
        "- Funções para estatística descritiva (média, variância, desvio padrão);\n",
        "\n",
        "- Testes estatísticos paramétricos e não paramétricos;\n",
        "\n",
        "- Funções para estimação e modelagem estatística.\n",
        "\n",
        "> Link para documentação: https://docs.scipy.org/doc/scipy/reference/stats.html\n",
        "\n",
        "A seguir apresentamos alguns exemplos."
      ],
      "metadata": {
        "id": "qGws8RocOfbx"
      }
    },
    {
      "cell_type": "markdown",
      "source": [
        "### Exemplo: Descritiva Básica\n",
        "\n",
        "Você pode calcular medidas como média, mediana, variância e curtose diretamente."
      ],
      "metadata": {
        "id": "g2Um0CR2WA-Y"
      }
    },
    {
      "cell_type": "code",
      "source": [
        "from scipy import stats\n",
        "import numpy as np\n",
        "\n",
        "dados = np.array([23, 12, 45, 34, 22, 48, 25, 49, 50, 32])\n",
        "\n",
        "# Medidas de tendência central\n",
        "print(\"Média:\", stats.tmean(dados))\n",
        "print(\"Mediana:\", np.median(dados))\n",
        "print(\"Moda:\", stats.mode(dados))\n",
        "\n",
        "# Medidas de dispersão\n",
        "print(\"\\nVariância:\", stats.tvar(dados))\n",
        "print(\"Desvio padrão:\", stats.tstd(dados))\n",
        "print(\"Amplitude interquartil:\", stats.iqr(dados))\n",
        "\n",
        "\n",
        "# Funcao describe()\n",
        "resultado = stats.describe(dados)\n",
        "print(\"\\nNúmero de observações:\", resultado.nobs)\n",
        "print(\"Valor mínimo e máximo:\", resultado.minmax)\n",
        "print(\"Média:\", resultado.mean)\n",
        "print(\"Variância:\", resultado.variance)\n",
        "print(\"Assimetria:\", resultado.skewness)\n",
        "print(\"Curtose:\", resultado.kurtosis)"
      ],
      "metadata": {
        "colab": {
          "base_uri": "https://localhost:8080/"
        },
        "id": "3MS3Ctl3V-Wb",
        "outputId": "a44c972f-9d0e-4b60-f514-a8408066cd30"
      },
      "execution_count": 51,
      "outputs": [
        {
          "output_type": "stream",
          "name": "stdout",
          "text": [
            "Média: 34.0\n",
            "Mediana: 33.0\n",
            "Moda: ModeResult(mode=np.int64(12), count=np.int64(1))\n",
            "\n",
            "Variância: 181.33333333333334\n",
            "Desvio padrão: 13.466006584482772\n",
            "Amplitude interquartil: 23.75\n",
            "\n",
            "Número de observações: 10\n",
            "Valor mínimo e máximo: (np.int64(12), np.int64(50))\n",
            "Média: 34.0\n",
            "Variância: 181.33333333333334\n",
            "Assimetria: -0.1390010719642129\n",
            "Curtose: -1.3276113754325256\n"
          ]
        }
      ]
    },
    {
      "cell_type": "markdown",
      "source": [
        "### Distribuições de Probabilidade\n",
        "\n",
        "Abaixo são apresentadas algumas das principais distribuições de probabilidade disponíveis no módulo `scipy.stats`, com foco nas funções utilizadas para simulação de dados, cálculo da função densidade de probabilidade (PDF) ou função de massa de probabilidade (PMF), cálculo da função de distribuição acumulada (CDF), e do quantil (função inversa da CDF, via `ppf`). As distribuições estão organizadas em duas categorias: contínuas e discretas.\n",
        "\n",
        "#### 📈 Distribuições Contínuas\n",
        "\n",
        "| Distribuição      | Objeto (`scipy.stats`) | Simular (`rvs`) | PDF            | CDF            | Quantil (`ppf`) |\n",
        "|-------------------|------------------------|------------------|----------------|----------------|------------------|\n",
        "| Normal            | `norm`                 | `norm.rvs`       | `norm.pdf`     | `norm.cdf`     | `norm.ppf`       |\n",
        "| Exponencial       | `expon`                | `expon.rvs`      | `expon.pdf`    | `expon.cdf`    | `expon.ppf`      |\n",
        "| Gama              | `gamma`                | `gamma.rvs`      | `gamma.pdf`    | `gamma.cdf`    | `gamma.ppf`      |\n",
        "| Beta              | `beta`                 | `beta.rvs`       | `beta.pdf`     | `beta.cdf`     | `beta.ppf`       |\n",
        "| Uniforme          | `uniform`              | `uniform.rvs`    | `uniform.pdf`  | `uniform.cdf`  | `uniform.ppf`    |\n",
        "| Log-normal        | `lognorm`              | `lognorm.rvs`    | `lognorm.pdf`  | `lognorm.cdf`  | `lognorm.ppf`    |\n",
        "\n",
        "#### 🎲 Distribuições Discretas\n",
        "\n",
        "| Distribuição        | Objeto (`scipy.stats`) | Simular (`rvs`) | PMF            | CDF            | Quantil (`ppf`) |\n",
        "|---------------------|------------------------|------------------|----------------|----------------|------------------|\n",
        "| Binomial            | `binom`                | `binom.rvs`      | `binom.pmf`    | `binom.cdf`    | `binom.ppf`       |\n",
        "| Poisson             | `poisson`              | `poisson.rvs`    | `poisson.pmf`  | `poisson.cdf`  | `poisson.ppf`     |\n",
        "| Hipergeométrica     | `hypergeom`            | `hypergeom.rvs`  | `hypergeom.pmf`| `hypergeom.cdf`| `hypergeom.ppf`   |\n",
        "| Geométrica          | `geom`                 | `geom.rvs`       | `geom.pmf`     | `geom.cdf`     | `geom.ppf`        |\n",
        "| Bernoulli           | `bernoulli`            | `bernoulli.rvs`  | `bernoulli.pmf`| `bernoulli.cdf`| `bernoulli.ppf`   |\n"
      ],
      "metadata": {
        "id": "0RcMUMvORto9"
      }
    },
    {
      "cell_type": "markdown",
      "source": [
        "#### Exemplo:\n",
        "\n",
        "O módulo oferece diversas distribuições. Veja como trabalhar com a distribuição normal:\n",
        "\n",
        "> `loc`: parâmetro de locação da normal (média, $\\mu$).\n",
        "\n",
        "> `scale`: parâmetro de escala da normal (desvio padrão, $\\sigma$)."
      ],
      "metadata": {
        "id": "LjJJJyXBXWGr"
      }
    },
    {
      "cell_type": "code",
      "source": [
        "from scipy.stats import norm\n",
        "\n",
        "# Gerar números aleatórios\n",
        "dados_normais = norm.rvs(size=1000, loc=0, scale=1)\n",
        "\n",
        "# Calcular F.D.P. (PDF) e F.A.P. (CDF)\n",
        "x = 0.5\n",
        "print(\"PDF em x=0.5:\", norm.pdf(x))\n",
        "print(\"CDF em x=0.5:\", norm.cdf(x))\n",
        "\n",
        "# Função Quantil\n",
        "print(\"PPF para 95%:\", norm.ppf(0.95))  # Percent point function"
      ],
      "metadata": {
        "colab": {
          "base_uri": "https://localhost:8080/"
        },
        "id": "rI57EmB_Xc2h",
        "outputId": "f39eb21d-a58d-41b8-f7e9-e98697a757a9"
      },
      "execution_count": 52,
      "outputs": [
        {
          "output_type": "stream",
          "name": "stdout",
          "text": [
            "PDF em x=0.5: 0.3520653267642995\n",
            "CDF em x=0.5: 0.6914624612740131\n",
            "PPF para 95%: 1.6448536269514722\n"
          ]
        }
      ]
    },
    {
      "cell_type": "markdown",
      "source": [
        "### Exemplo: Ajuste de Distribuições\n",
        "\n",
        "Nesse exemplo vamos simular um conjunto de dados da distribuição GAMA e na sequência vamos ajustar a mesma distribuição a esse conjunto de dados."
      ],
      "metadata": {
        "id": "rYueNzfHZNbq"
      }
    },
    {
      "cell_type": "code",
      "source": [
        "from scipy.stats import gamma\n",
        "import matplotlib.pyplot as plt\n",
        "\n",
        "dados = gamma.rvs(a=5, size=500)  # Gerar dados de exemplo\n",
        "\n",
        "# Ajustar os parâmetros da distribuição\n",
        "params = gamma.fit(dados)\n",
        "print(\"Parâmetros ajustados (a, loc, scale):\", params)\n",
        "\n",
        "# Plotar histograma e PDF ajustada\n",
        "x = np.linspace(0, 20, 100)\n",
        "pdf_fitted = gamma.pdf(x, *params)\n",
        "\n",
        "plt.figure(figsize=(6, 4))\n",
        "plt.hist(dados, bins=30, density=True, alpha=0.6)\n",
        "plt.plot(x, pdf_fitted, 'r-', lw=2)\n",
        "plt.title(\"Ajuste de distribuição Gamma\")\n",
        "plt.show()"
      ],
      "metadata": {
        "colab": {
          "base_uri": "https://localhost:8080/",
          "height": 408
        },
        "id": "GY0yyrSUZQbZ",
        "outputId": "0ba1cfe8-c285-4e24-9310-0e56f3373ee1"
      },
      "execution_count": 53,
      "outputs": [
        {
          "output_type": "stream",
          "name": "stdout",
          "text": [
            "Parâmetros ajustados (a, loc, scale): (np.float64(3.819819772265256), np.float64(0.492405599295969), np.float64(1.245422762985554))\n"
          ]
        },
        {
          "output_type": "display_data",
          "data": {
            "text/plain": [
              "<Figure size 600x400 with 1 Axes>"
            ],
            "image/png": "[encoded data removed]"
          },
          "metadata": {}
        }
      ]
    },
    {
      "cell_type": "markdown",
      "source": [
        "### Exemplo: Testes de Hipótese\n",
        "\n",
        "Exemplo com teste T bilateral para uma amostra:"
      ],
      "metadata": {
        "id": "YOrOhcsNYmkf"
      }
    },
    {
      "cell_type": "code",
      "source": [
        "from scipy.stats import ttest_1samp\n",
        "\n",
        "alpha = 0.05 # nível de significancia\n",
        "\n",
        "dados = [5.5, 5.7, 5.2, 5.5, 5.9, 6.0, 5.4]\n",
        "valor_h0 = 5.0  # Valor hipotético sob H0\n",
        "\n",
        "t_stat, p_valor = ttest_1samp(dados, valor_h0)\n",
        "print(f\"Estatística t: {t_stat:.3f}, p-valor: {p_valor:.3f}\")\n",
        "\n",
        "if p_valor < 0.05:\n",
        "    print(\"Rejeitamos H0 (diferença significativa)\")\n",
        "else:\n",
        "    print(\"Não rejeitamos H0\")"
      ],
      "metadata": {
        "colab": {
          "base_uri": "https://localhost:8080/"
        },
        "id": "kGNkfr87YyaG",
        "outputId": "f9e9d770-c291-4a1c-a538-0eacc68b2272"
      },
      "execution_count": 54,
      "outputs": [
        {
          "output_type": "stream",
          "name": "stdout",
          "text": [
            "Estatística t: 5.612, p-valor: 0.001\n",
            "Rejeitamos H0 (diferença significativa)\n"
          ]
        }
      ]
    },
    {
      "cell_type": "markdown",
      "source": [
        "### Exemplo: Correlação\n",
        "\n",
        "No exemplo abaixo temos dois conjuntos de dados e vamos calcula o coeficiente de correlação de Pearson e o de Spearman.\n",
        "\n",
        "> Essas funções retornam o valor do coeficiente e o p-valor do teste de não correlação."
      ],
      "metadata": {
        "id": "zEz9PrcwZ6TN"
      }
    },
    {
      "cell_type": "code",
      "source": [
        "from scipy.stats import pearsonr, spearmanr\n",
        "\n",
        "x = [1, 2, 3, 4, 5, 6, 7, 8, 9]\n",
        "y = [9, 8, 7, 6, 5, 4, 3, 2, 1]\n",
        "\n",
        "corr_pearson, p_pearson = pearsonr(x, y)\n",
        "corr_spearman, p_spearman = spearmanr(x, y)\n",
        "\n",
        "print(f\"Correlação de Pearson: {corr_pearson:.3f} (p-valor: {p_pearson:.3f})\")\n",
        "print(f\"Correlação de Spearman: {corr_spearman:.3f} (p-valor: {p_spearman:.3f})\")"
      ],
      "metadata": {
        "colab": {
          "base_uri": "https://localhost:8080/"
        },
        "id": "d3l1-BcNaHyc",
        "outputId": "4ef4552a-1593-49e9-c20f-eb9b308cb22f"
      },
      "execution_count": 55,
      "outputs": [
        {
          "output_type": "stream",
          "name": "stdout",
          "text": [
            "Correlação de Pearson: -1.000 (p-valor: 0.000)\n",
            "Correlação de Spearman: -1.000 (p-valor: 0.000)\n"
          ]
        }
      ]
    },
    {
      "cell_type": "markdown",
      "source": [
        "---\n",
        "## Otimização\n",
        "\n",
        "O módulo `scipy.optimize` fornece funções para encontrar mínimos e máximos de funções, resolver sistemas de equações e fazer ajuste de curvas. Ele é bastante versátil e pode ser usado tanto em problemas simples quanto em aplicações mais avançadas.\n",
        "\n",
        "**Resumo das principais funções de scipy.optimize:**\n",
        "\n",
        "- `minimize`: encontra o mínimo de uma função.\n",
        "\n",
        "- `root` ou `fsolve`: resolve equações (encontra raízes).\n",
        "\n",
        "- `curve_fit`: ajusta curvas (regressão não linear).\n",
        "\n",
        "- `linprog`: resolve problemas de programação linear (útil em otimização com restrições)."
      ],
      "metadata": {
        "id": "KSLH85eiRpUi"
      }
    },
    {
      "cell_type": "markdown",
      "source": [
        "### Minimização e Maximização\n",
        "\n",
        "A função `minimize` serve para encontrar o valor de uma variável (ou várias) que minimiza uma função. Ela pode lidar com restrições, limites e problemas de várias dimensões.\n",
        "\n",
        "> Se quiser maximizar, então bastar utilizar a função minimize para o negativo da função de interesse.\n",
        "\n",
        "<br> <br>\n",
        "\n",
        "#### Sintaxe básica:\n",
        "\n",
        "```python\n",
        "from scipy.optimize import minimize\n",
        "\n",
        "resultado = minimize(fun, x0, method='algoritmo', options={'disp': True})\n",
        "```\n",
        "em que,\n",
        "\n",
        "- `fun`: função a ser minimizada\n",
        "\n",
        "- `x0`: valor inicial (ponto de partida)\n",
        "\n",
        "- `method`: algoritmo de otimização (opcional). Veja a tabela abaixo.\n",
        "\n",
        "- `options`: dicionário com opções como mostrar mensagens (disp=True)\n",
        "\n",
        "<br> <br>\n",
        "A tabela abaixo apresenta as opções para `methods`:\n",
        "\n",
        "| Método          | Tipo                     | Observações                                         |\n",
        "| --------------- | ------------------------ | --------------------------------------------------- |\n",
        "| `'BFGS'`        | Gradiente (quase-Newton) | Rápido e eficiente em muitos casos                  |\n",
        "| `'Nelder-Mead'` | Sem derivadas            | Robusto, bom para funções irregulares               |\n",
        "| `'Powell'`      | Sem derivadas            | Usa direções conjugadas                             |\n",
        "| `'CG'`          | Gradiente (conjugado)    | Eficiente para funções suaves                       |\n",
        "| `'L-BFGS-B'`    | Com derivadas e limites  | Recomendado para problemas com limites em variáveis |\n",
        "| `'TNC'`         | Gradiente com limites    | Alternativa ao L-BFGS-B                             |\n",
        "| `'SLSQP'`       | Com restrições e limites | Suporta igualdade/inequações                        |"
      ],
      "metadata": {
        "id": "wsrqgWHY7nJ2"
      }
    },
    {
      "cell_type": "markdown",
      "source": [
        "##### Exemplo 1: minimização\n",
        "\n",
        "A célula abaixo executa a minimização da função: $f(x) = (x - 2)^2 + 1, ~\\forall x \\in \\mathbb{R}$.\n",
        "\n",
        "> Observe que $x=2$ é o ponto que minimiza $f(x)$ e o valor da função nesse ponto é $1$."
      ],
      "metadata": {
        "id": "y3HqKM2e-WqM"
      }
    },
    {
      "cell_type": "code",
      "source": [
        "from scipy.optimize import minimize\n",
        "\n",
        "def f(x):\n",
        "    return (x - 2)**2 + 1\n",
        "\n",
        "resultado = minimize(f, x0=0, method='BFGS')\n",
        "print(resultado)"
      ],
      "metadata": {
        "colab": {
          "base_uri": "https://localhost:8080/"
        },
        "id": "kQXKc3IG_Er3",
        "outputId": "af8e2e8a-57e5-4b67-9759-9c42b0cbb1a2"
      },
      "execution_count": 56,
      "outputs": [
        {
          "output_type": "stream",
          "name": "stdout",
          "text": [
            "  message: Optimization terminated successfully.\n",
            "  success: True\n",
            "   status: 0\n",
            "      fun: 1.0000000000000007\n",
            "        x: [ 2.000e+00]\n",
            "      nit: 2\n",
            "      jac: [-4.470e-08]\n",
            " hess_inv: [[ 5.000e-01]]\n",
            "     nfev: 6\n",
            "     njev: 3\n"
          ]
        }
      ]
    },
    {
      "cell_type": "markdown",
      "source": [
        "##### Exemplo 2: maximização\n",
        "\n",
        "A célula abaixo executa a **maximização** da função: $f(x) = -(x - 2)^2 + 3, ~\\forall x \\in \\mathbb{R}$.\n",
        "\n",
        "> Observe que $x=2$ é o ponto que minimiza $f(x)$ e o valor da função nesse ponto é $3$."
      ],
      "metadata": {
        "id": "ktzZkvQCAKbT"
      }
    },
    {
      "cell_type": "code",
      "source": [
        "def f(x):\n",
        "    return -((x - 2)**2) + 3  # Função original\n",
        "\n",
        "def neg_f(x):\n",
        "    return -f(x)  # Minimiza o negativo\n",
        "\n",
        "resultado = minimize(neg_f, x0=0)\n",
        "x_max = resultado.x[0]\n",
        "y_max = f(x_max)\n",
        "\n",
        "print(f\"Máximo em x = {x_max:.2f}, valor máximo = {y_max:.2f}\")"
      ],
      "metadata": {
        "colab": {
          "base_uri": "https://localhost:8080/"
        },
        "outputId": "1f6cfb8f-c5fc-4c79-c4a6-c1ad3dfed2a2",
        "id": "2j61sgwKAKbT"
      },
      "execution_count": 57,
      "outputs": [
        {
          "output_type": "stream",
          "name": "stdout",
          "text": [
            "Máximo em x = 2.00, valor máximo = 3.00\n"
          ]
        }
      ]
    },
    {
      "cell_type": "markdown",
      "source": [
        "##### Exemplo 3: minimização com restrição.\n",
        "\n",
        "A célula abaixo executa a **minimização** da função: $f(x) = (x - 1)^2, ~\\forall x \\in [0, 2]$.\n",
        "\n",
        "> Observe que $x=1$ é o ponto que minimiza $f(x)$ e o valor da função nesse ponto é $0$."
      ],
      "metadata": {
        "id": "d24oBsZUAv25"
      }
    },
    {
      "cell_type": "code",
      "source": [
        "def f(x):\n",
        "    return (x - 1)**2\n",
        "\n",
        "limites = [(0, 2)]  # x entre 0 e 2\n",
        "\n",
        "resultado = minimize(f, x0=1.5, bounds=limites)\n",
        "print(resultado)\n"
      ],
      "metadata": {
        "colab": {
          "base_uri": "https://localhost:8080/"
        },
        "outputId": "ef05faa2-d334-447c-b3c4-7b58c612c83e",
        "id": "Y-nC4UNzAv26"
      },
      "execution_count": 58,
      "outputs": [
        {
          "output_type": "stream",
          "name": "stdout",
          "text": [
            "  message: CONVERGENCE: NORM OF PROJECTED GRADIENT <= PGTOL\n",
            "  success: True\n",
            "   status: 0\n",
            "      fun: 1.2037062152420224e-17\n",
            "        x: [ 1.000e+00]\n",
            "      nit: 1\n",
            "      jac: [ 1.694e-08]\n",
            "     nfev: 6\n",
            "     njev: 3\n",
            " hess_inv: <1x1 LbfgsInvHessProduct with dtype=float64>\n"
          ]
        }
      ]
    },
    {
      "cell_type": "markdown",
      "source": [
        "### Raizes de equação\n",
        "\n",
        "A função `fsolve` ou `root` pode ser usada para encontrar raízes de equações, ou seja, valores de $x$ tais que $f(x) = 0$.\n",
        "\n",
        "<br><br>\n",
        "**Exemplo:**  \n",
        "\n",
        "A equação abaixo resolve numericamente o problema x² - 4 = 0.\n",
        "\n",
        "> Note que a função só encontra a raiz mais próxima do ponto de inicial."
      ],
      "metadata": {
        "id": "yPFC_AEKCYJf"
      }
    },
    {
      "cell_type": "code",
      "source": [
        "from scipy.optimize import fsolve\n",
        "\n",
        "def equacao(x):\n",
        "    return x**2 - 4\n",
        "\n",
        "raiz = fsolve(equacao, x0=1)\n",
        "print(raiz)"
      ],
      "metadata": {
        "colab": {
          "base_uri": "https://localhost:8080/"
        },
        "id": "3ONr32WeDFhW",
        "outputId": "3887b0b9-3a23-46de-c131-29c2ae6420b0"
      },
      "execution_count": 59,
      "outputs": [
        {
          "output_type": "stream",
          "name": "stdout",
          "text": [
            "[2.]\n"
          ]
        }
      ]
    },
    {
      "cell_type": "markdown",
      "source": [
        "### Ajuste de curvas\n",
        "\n",
        "`curve_fit` é uma funçãodo módulo `scipy.optimize` que realiza ajuste de curvas usando mínimos quadrados. Ela automatiza o processo de encontrar os parâmetros ótimos de uma função modelo que melhor se ajusta a um conjunto de dados observados."
      ],
      "metadata": {
        "id": "_w-VjFSeHrms"
      }
    },
    {
      "cell_type": "markdown",
      "source": [
        "**Exemplo:**\n",
        "\n",
        "No exemplo a seguir, primeiro geramos um conjunto de dados simulados. Em seguida, ajustamos os parâmetros $a$, $b$ e $c$ da função exponencial, definida por:\n",
        "$$\n",
        "f(x) = a \\,\\exp\\{-b\\,x\\} + c.\n",
        "$$\n",
        "\n",
        "> Descrição do código:\n",
        "> - `popt, pcov = curve_fit(modelo_exp, xdata, ydata)`:\n",
        ">> - `curve_fit` ajusta a função `modelo_exp` aos dados `(xdata, ydata)`;\n",
        ">> - `popt`: vetor com os parâmetros otimizados $a$, $b$ e $c$;\n",
        ">> - `pcov`: matriz de covariância dos estimadores, geralmente usada para estimar incertezas."
      ],
      "metadata": {
        "id": "Wnh3BHaZJzl7"
      }
    },
    {
      "cell_type": "code",
      "source": [
        "from scipy.optimize import curve_fit\n",
        "import matplotlib.pyplot as plt\n",
        "\n",
        "# Função modelo\n",
        "def modelo_exp(x, a, b, c):\n",
        "    return a * np.exp(-b * x) + c\n",
        "\n",
        "# Dados simulados\n",
        "xdata = np.linspace(0, 4, 50)\n",
        "y = modelo_exp(xdata, 2.5, 1.3, 0.5)\n",
        "ydata = y + 0.2 * np.random.normal(size=len(xdata))\n",
        "\n",
        "# Ajuste de curva\n",
        "popt, pcov = curve_fit(modelo_exp, xdata, ydata)\n",
        "print(\"\\nParâmetros otimizados:\", popt)\n",
        "print(\"Matriz de covariância:\\n\", pcov)\n",
        "\n",
        "# Plot\n",
        "plt.figure(figsize=(6, 4))\n",
        "plt.scatter(xdata, ydata, label='Dados')\n",
        "plt.plot(xdata, modelo_exp(xdata, *popt), 'r-', label='Ajuste')\n",
        "plt.legend()\n",
        "plt.show()"
      ],
      "metadata": {
        "colab": {
          "base_uri": "https://localhost:8080/",
          "height": 476
        },
        "id": "EuUkoxv_Hmex",
        "outputId": "f0774fca-a569-4a3c-86b1-b4469df837b2"
      },
      "execution_count": 60,
      "outputs": [
        {
          "output_type": "stream",
          "name": "stdout",
          "text": [
            "\n",
            "Parâmetros otimizados: [2.75651256 1.37908193 0.53125462]\n",
            "Matriz de covariância:\n",
            " [[ 0.01299026  0.00533102 -0.00058761]\n",
            " [ 0.00533102  0.01446332  0.00400427]\n",
            " [-0.00058761  0.00400427  0.00220231]]\n"
          ]
        },
        {
          "output_type": "display_data",
          "data": {
            "text/plain": [
              "<Figure size 600x400 with 1 Axes>"
            ],
            "image/png": "[encoded data removed]"
          },
          "metadata": {}
        }
      ]
    },
    {
      "cell_type": "markdown",
      "source": [
        "---\n",
        "## Integração\n",
        "\n",
        "O módulo `integrate` do SciPy fornece diversas ferramentas para integração numérica, incluindo:\n",
        "\n",
        "- Integração de funções univariadas;\n",
        "\n",
        "- Integração de funções multivariadas;\n",
        "\n",
        "- Solução de equações diferenciais ordinárias."
      ],
      "metadata": {
        "id": "wDPpx6YQRlPl"
      }
    },
    {
      "cell_type": "markdown",
      "source": [
        "### Integração 1D\n",
        "\n",
        "A função `quad` (de quadrature) calcula a integral definida de uma função entre dois limites.\n",
        "\n",
        "<br> <br>\n",
        "**Exemplo: funcionamento básico**\n",
        "\n",
        "A célula abaixo calcula numericamente a integral:\n",
        "$$\n",
        "\\int_{0}^{2} x^2 dx.\n",
        "$$"
      ],
      "metadata": {
        "id": "Jk07QKrxKrGe"
      }
    },
    {
      "cell_type": "code",
      "source": [
        "from scipy.integrate import quad\n",
        "\n",
        "def f(x):\n",
        "    return x**2\n",
        "\n",
        "resultado, erro = quad(f, 0, 2)\n",
        "\n",
        "print(f\"Resultado da integral: {resultado:.4f}\")\n",
        "print(f\"Estimativa do erro: {erro:.2e}\")"
      ],
      "metadata": {
        "colab": {
          "base_uri": "https://localhost:8080/"
        },
        "id": "Pi6sWK46K6i3",
        "outputId": "7f4ffd38-518a-4795-fe6a-c455b5876ce3"
      },
      "execution_count": 61,
      "outputs": [
        {
          "output_type": "stream",
          "name": "stdout",
          "text": [
            "Resultado da integral: 2.6667\n",
            "Estimativa do erro: 2.96e-14\n"
          ]
        }
      ]
    },
    {
      "cell_type": "markdown",
      "source": [
        "**Exemplo: Integral com parâmetros adicionais**\n",
        "\n",
        "A célula abaixo calcula numericamente a integral:\n",
        "$$\n",
        "\\int_{-∞}^{∞} a \\exp \\{-b\\,x^2\\} dx.\n",
        "$$\n",
        "\n",
        "> Os parâmetros $a$ e $b$ são definidos como argumentos."
      ],
      "metadata": {
        "id": "MwBiBoXZL48H"
      }
    },
    {
      "cell_type": "code",
      "source": [
        "from scipy.integrate import quad\n",
        "import numpy as np\n",
        "\n",
        "def f(x, a, b):\n",
        "    return a * np.exp(-b * x**2)\n",
        "\n",
        "# Definindo os parâmetros\n",
        "a, b = 2, 0.5\n",
        "\n",
        "# Calculando a integral de -∞ a +∞\n",
        "resultado, erro = quad(f, -np.inf, np.inf, args=(a, b))\n",
        "print(f\"\\nIntegral gaussiana: {resultado:.6f}\")\n",
        "print(f\"Valor teórico: {np.sqrt(np.pi/b)*a:.6f}\")"
      ],
      "metadata": {
        "colab": {
          "base_uri": "https://localhost:8080/"
        },
        "id": "XmIP5LLVML23",
        "outputId": "73efbe23-b770-43c2-d815-f98126c232f9"
      },
      "execution_count": 62,
      "outputs": [
        {
          "output_type": "stream",
          "name": "stdout",
          "text": [
            "\n",
            "Integral gaussiana: 5.013257\n",
            "Valor teórico: 5.013257\n"
          ]
        }
      ]
    },
    {
      "cell_type": "markdown",
      "source": [
        "### Integração 2D e 3D\n",
        "\n",
        "\n",
        "- A função `dblquad` calcula integração dupla, ou seja, calcula integrais do tipo:\n",
        "$$\n",
        "\\int_{x=a}^{b} \\int_{y=g(x)}^{h(x)} f(x,y) \\,dy\\,dx\n",
        "$$\n",
        "\n",
        "  - Sintaxe: `dblquad(func, a, b, gfun, hfun)`\n",
        "\n",
        "    - `func`: Função a integrar (formato $f(y, x)$);\n",
        "    - `a`,`b`: Limites externos (em x);\n",
        "    - `gfun`, `hfun`: Funções que definem os limites internos (em y).\n",
        "  \n",
        "  - Retorna: Tupla `(valor, erro)`.\n",
        "\n",
        "\n",
        "- A função `tplquad` calcula integração tripla, ou seja, calcula integrais do tipo:\n",
        "$$\n",
        "\\int_{x=a}^{b} \\int_{y=g(x)}^{h(x)} \\int_{z=q(x,y)}^{r(x,y)} f(x,y,z) \\,dz\\,dy\\,dx\n",
        "$$\n",
        "\n",
        "  - Sintaxe: `tplquad(func, a, b, gfun, hfun, qfun, rfun)`\n",
        "\n",
        "    - `func`: Função a integrar (formato $f(z, y, x)$);\n",
        "    - `a`,`b`: Limites externos (em x);\n",
        "    - `gfun`, `hfun`: Funções para limites em y;\n",
        "    - `qfun`, `rfun`: Funções para limites em z.    \n",
        "  \n",
        "  - Retorna: Tupla `(valor, erro)`.\n",
        "\n",
        "> **Note que:** A ordem dos argumentos nas funções é inversa $(f(y,x)$ e $f(z,y,x))$.     "
      ],
      "metadata": {
        "id": "Q2C7ivSvNKDi"
      }
    },
    {
      "cell_type": "markdown",
      "source": [
        "**Exemplo:**\n",
        "\n",
        "A célula abaixo calcula numericamente a integral:\n",
        "$$\n",
        "\\int_{0}^{π} \\int_{-x}^{x} \\sin(x) \\cos(y) \\, dy \\,dx.\n",
        "$$\n"
      ],
      "metadata": {
        "id": "JhfeJZ8MRd8Y"
      }
    },
    {
      "cell_type": "code",
      "source": [
        "from scipy.integrate import dblquad\n",
        "\n",
        "def integrando(y, x):\n",
        "    return np.sin(x) * np.cos(y)\n",
        "\n",
        "# Limites:\n",
        "# x de 0 a π\n",
        "# y de -x a x\n",
        "\n",
        "resultado, erro = dblquad(integrando, 0, np.pi, lambda x: -x, lambda x: x)\n",
        "print(f\"\\nIntegral dupla: {resultado:.6f}\")"
      ],
      "metadata": {
        "colab": {
          "base_uri": "https://localhost:8080/"
        },
        "id": "rnvL7_2YNVFo",
        "outputId": "bb9ba8e8-f69b-4a01-e90e-27836b68963d"
      },
      "execution_count": 63,
      "outputs": [
        {
          "output_type": "stream",
          "name": "stdout",
          "text": [
            "\n",
            "Integral dupla: 3.141593\n"
          ]
        }
      ]
    },
    {
      "cell_type": "markdown",
      "source": [
        "---\n",
        "## Interpolação\n",
        "\n",
        "O módulo `scipy.interpolate` fornece ferramentas para reconstruir funções a partir de pontos discretos, usando métodos de interpolação como linear, polinomial e spline. Ele é útil quando você tem poucos dados e quer estimar valores intermediários com base em uma curva ajustada.\n",
        "\n",
        "Utilidades:\n",
        "\n",
        "- Construir funções que passam exatamente por pontos conhecidos;\n",
        "\n",
        "- Suavizar dados ruidosos;\n",
        "\n",
        "- Interpolar em grades multidimensionais;\n",
        "\n",
        "- Trabalhar com splines de diferentes ordens."
      ],
      "metadata": {
        "id": "Gvix9-rERu6t"
      }
    },
    {
      "cell_type": "markdown",
      "source": [
        "### Interpolação básica\n",
        "\n",
        "A função `interp1d` cria uma função interpoladora a partir de pontos dados. Por padrão, ela usa interpolação linear.\n",
        "\n",
        "<br> <br>\n",
        "**Exemplo: Estimar valores entre pontos conhecidos**"
      ],
      "metadata": {
        "id": "ve6jleq4U-KY"
      }
    },
    {
      "cell_type": "code",
      "source": [
        "from scipy.interpolate import interp1d\n",
        "import numpy as np\n",
        "import matplotlib.pyplot as plt\n",
        "\n",
        "# Dados conhecidos\n",
        "x = np.array([0, 1, 2, 4, 5, 6, 7, 10])\n",
        "y = np.array([0, 2, 1, 2, 5, 5, 4, 8])\n",
        "\n",
        "# Criar função interpoladora\n",
        "f_linear = interp1d(x, y, kind='linear')\n",
        "\n",
        "# Pontos para avaliação\n",
        "x_new = np.linspace(0, 10, 100)\n",
        "\n",
        "# Plotar\n",
        "plt.figure(figsize=(6, 4))\n",
        "plt.scatter(x, y, color='red', label='Dados originais')\n",
        "plt.plot(x_new, f_linear(x_new), label='Interpolação linear')\n",
        "plt.legend()\n",
        "plt.show()"
      ],
      "metadata": {
        "colab": {
          "base_uri": "https://localhost:8080/",
          "height": 368
        },
        "id": "F0r3otrQT6aK",
        "outputId": "ad575617-0e6f-4d86-9567-817dde20167d"
      },
      "execution_count": 64,
      "outputs": [
        {
          "output_type": "display_data",
          "data": {
            "text/plain": [
              "<Figure size 600x400 with 1 Axes>"
            ],
            "image/png": "[encoded data removed]"
          },
          "metadata": {}
        }
      ]
    },
    {
      "cell_type": "markdown",
      "source": [
        "<br> <br>\n",
        "**Exemplo: outras opções além da linear**"
      ],
      "metadata": {
        "id": "37r4b5qmUyfV"
      }
    },
    {
      "cell_type": "code",
      "source": [
        "kinds = ['linear', 'nearest', 'zero', 'slinear', 'quadratic', 'cubic']\n",
        "\n",
        "# Dados conhecidos\n",
        "x = np.array([0, 1, 2, 4, 5, 6, 7, 10])\n",
        "y = np.array([0, 2, 1, 2, 5, 5, 4, 8])\n",
        "\n",
        "# Pontos para avaliação\n",
        "x_new = np.linspace(0, 10, 100)\n",
        "\n",
        "# Aplicação\n",
        "plt.figure(figsize=(6, 4))\n",
        "plt.scatter(x, y, color='red', s=100, label='Dados')\n",
        "\n",
        "for kind in kinds:\n",
        "    f = interp1d(x, y, kind=kind)\n",
        "    plt.plot(x_new, f(x_new), label=kind)\n",
        "\n",
        "plt.legend()\n",
        "plt.title('Comparação de métodos de interpolação')\n",
        "plt.show()"
      ],
      "metadata": {
        "colab": {
          "base_uri": "https://localhost:8080/",
          "height": 391
        },
        "id": "tTMvWQaZU2Y4",
        "outputId": "0825e8a3-5db5-41fe-ab40-880a17948dea"
      },
      "execution_count": 65,
      "outputs": [
        {
          "output_type": "display_data",
          "data": {
            "text/plain": [
              "<Figure size 600x400 with 1 Axes>"
            ],
            "image/png": "[encoded data removed]"
          },
          "metadata": {}
        }
      ]
    },
    {
      "cell_type": "markdown",
      "source": [
        "### Interpolação Suave\n",
        "\n",
        "\n",
        "Outra opção mais flexível é usar `UnivariateSpline`, que ajusta uma spline de forma automática e permite controlar o grau de suavização através do argumento $s$:\n",
        "- `s=0`: Interpolação exata (passa por todos os pontos)\n",
        "\n",
        "- `s>0`: Suavização (trade-off entre ajuste aos dados e suavidade da curva)\n",
        "\n",
        "\n",
        "> De um modo geral, splines e outras suavições são utilizadas quando os dados possuem ruídos ou outliers e deseja-se capturar um tendência geral.\n",
        "\n",
        "<br> <br>\n",
        "**Exemplo: Estimar valores entre pontos conhecidos**"
      ],
      "metadata": {
        "id": "UoJiVFVjU64L"
      }
    },
    {
      "cell_type": "code",
      "source": [
        "from scipy.interpolate import UnivariateSpline\n",
        "\n",
        "# Dados conhecidos\n",
        "x = np.array([0, 1, 2, 4, 5, 6, 7, 10])\n",
        "y = np.array([0, 2, 1, 2, 5, 5, 4, 8])\n",
        "\n",
        "# Pontos para avaliação\n",
        "x_new = np.linspace(0, 10, 100)\n",
        "\n",
        "# Spline com parâmetro de suavização\n",
        "spline_1 = UnivariateSpline(x, y, s=1)  # s controla a suavização\n",
        "\n",
        "spline_3 = UnivariateSpline(x, y, s=3)  # s controla a suavização\n",
        "\n",
        "plt.figure(figsize=(6, 4))\n",
        "plt.scatter(x, y, label='Dados com ruído')\n",
        "plt.plot(x_new, spline_1(x_new), 'r', label='Spline s=1')\n",
        "plt.plot(x_new, spline_3(x_new), 'b', label='Spline s=3')\n",
        "plt.legend()\n",
        "plt.show()"
      ],
      "metadata": {
        "colab": {
          "base_uri": "https://localhost:8080/",
          "height": 368
        },
        "id": "tULKzT1YW4DC",
        "outputId": "515bdbd7-9980-450f-ad4e-0c4bf289a5ac"
      },
      "execution_count": 66,
      "outputs": [
        {
          "output_type": "display_data",
          "data": {
            "text/plain": [
              "<Figure size 600x400 with 1 Axes>"
            ],
            "image/png": "[encoded data removed]"
          },
          "metadata": {}
        }
      ]
    },
    {
      "cell_type": "markdown",
      "source": [
        "## Exercício 1\n",
        "\n",
        "Gere uma amostra de 1000 valores da distribuição Normal($\\mu=10$, $\\sigma^2$=15). Em seguida:\n",
        "\n",
        "1) Calcule a média e o desvio padrão amostral.\n",
        "\n",
        "2) Plote o histograma da amostra.\n",
        "\n",
        "3) Compare com a densidade teórica da normal."
      ],
      "metadata": {
        "id": "d5kCRd5CCUP1"
      }
    },
    {
      "cell_type": "code",
      "source": [
        "from scipy.stats import norm\n",
        "from scipy import stats\n",
        "import numpy as np\n",
        "import matplotlib.pyplot as plt\n",
        "\n",
        "\n",
        "#1) Calcule a média e o desvio padrão amostral.\n",
        "dados_normais = norm.rvs(size=1000, loc=10, scale=np.sqrt(15))\n",
        "print(\"Média amostral:\", stats.tmean(dados_normais))\n",
        "print(\"Desvio padrão amostral:\", np.std(dados_normais))\n",
        "\n",
        "#2) Plote o histograma da amostra.\n",
        "# 3) Comparar com a densidade teórica\n",
        "\n",
        "params = norm.fit(dados_normais)\n",
        "x = np.linspace(0, 20, 100)\n",
        "pdf_fitted = norm.pdf(x, *params)\n",
        "\n",
        "plt.hist(dados_normais, density = True)\n",
        "plt.plot(x, pdf_fitted, 'r-', lw=2)\n",
        "plt.show()"
      ],
      "metadata": {
        "colab": {
          "base_uri": "https://localhost:8080/",
          "height": 465
        },
        "id": "7l4WPBu7Yvr3",
        "outputId": "4697c792-8505-44c4-ae85-a40fbab13881"
      },
      "execution_count": 67,
      "outputs": [
        {
          "output_type": "stream",
          "name": "stdout",
          "text": [
            "Média amostral: 9.897065926950201\n",
            "Desvio padrão amostral: 3.9417081593936647\n"
          ]
        },
        {
          "output_type": "display_data",
          "data": {
            "text/plain": [
              "<Figure size 640x480 with 1 Axes>"
            ],
            "image/png": "[encoded data removed]"
          },
          "metadata": {}
        }
      ]
    },
    {
      "cell_type": "markdown",
      "source": [
        "## Exercício 2\n",
        "\n",
        "Para a seguinte função:\n",
        "$$\n",
        "f(x) = x^4 - 3 x^3 +2\n",
        "$$\n",
        "\n",
        "1) Encontre numericamente o valor mínimo dessa função.\n",
        "\n",
        "2) Encontre numericamente as raízes dessa função."
      ],
      "metadata": {
        "id": "mMRYSvFSDy9_"
      }
    },
    {
      "cell_type": "code",
      "source": [
        "#1) Encontre numericamente o valor mínimo dessa função.\n",
        "\n",
        "from scipy.optimize import minimize\n",
        "\n",
        "def f(x):\n",
        "    return x**4 - 3 * x**3 + 2\n",
        "\n",
        "resultado = minimize(f, x0=0, method='BFGS')\n",
        "print(resultado) #x=0, f(x) = 2\n",
        "\n",
        "#2) Encontre numericamente as raízes dessa função.\n",
        "\n",
        "from scipy.optimize import fsolve\n",
        "\n",
        "def equacao(x):\n",
        "    return x**4 - 3 * x**3 + 2\n",
        "\n",
        "raiz = fsolve(equacao, x0=1)\n",
        "print(raiz) #[1.]"
      ],
      "metadata": {
        "colab": {
          "base_uri": "https://localhost:8080/"
        },
        "id": "9NhpXBu2Yybn",
        "outputId": "3ce8c44b-deb6-4acf-ead5-6081b541ead9"
      },
      "execution_count": 68,
      "outputs": [
        {
          "output_type": "stream",
          "name": "stdout",
          "text": [
            "  message: Optimization terminated successfully.\n",
            "  success: True\n",
            "   status: 0\n",
            "      fun: 2.0\n",
            "        x: [ 0.000e+00]\n",
            "      nit: 0\n",
            "      jac: [ 0.000e+00]\n",
            " hess_inv: [[1]]\n",
            "     nfev: 2\n",
            "     njev: 1\n",
            "[1.]\n"
          ]
        }
      ]
    },
    {
      "cell_type": "markdown",
      "source": [
        "## Exercício 3\n",
        "\n",
        "Calcule numericamente a integral:\n",
        "$$\n",
        "\\int_{0}^{∞} \\frac{1}{\\sqrt{2 \\pi}} \\,\\exp \\{ -0.5 \\,x^2\\} \\,dx\n",
        "$$"
      ],
      "metadata": {
        "id": "WsvbNLY6E1Xu"
      }
    },
    {
      "cell_type": "code",
      "source": [
        "from scipy.integrate import quad\n",
        "import numpy as np\n",
        "\n",
        "def f(x):\n",
        "    return (1 / np.sqrt(2 * np.pi)) * np.exp(-0.5 * x**2)\n",
        "\n",
        "resultado, erro = quad(f, 0, np.inf)\n",
        "\n",
        "print(f\"Resultado da integral: {resultado:.4f}\")\n",
        "print(f\"Estimativa do erro: {erro:.2e}\")"
      ],
      "metadata": {
        "colab": {
          "base_uri": "https://localhost:8080/"
        },
        "id": "To3igpvmY0wg",
        "outputId": "a34b2135-b27e-46b4-cd12-bf2d7c0cd5ef"
      },
      "execution_count": 69,
      "outputs": [
        {
          "output_type": "stream",
          "name": "stdout",
          "text": [
            "Resultado da integral: 0.5000\n",
            "Estimativa do erro: 5.09e-09\n"
          ]
        }
      ]
    },
    {
      "cell_type": "markdown",
      "source": [
        "## Exercício 4\n",
        "\n",
        "Considere o conjunto de dados (x, y) gerado no código abaixo, então:\n",
        "\n",
        "1) Utilize uma interpolação linear para estimar o valor de $y$ em $x=11.45$.\n",
        "\n",
        "2) Utilize uma interpolação por spline com $s=1$ para estimar o valor de $y$ em $x=11.45$.\n",
        "\n",
        "```python\n",
        "import numpy as np\n",
        "import matplotlib.pyplot as plt\n",
        "from scipy.stats import norm\n",
        "\n",
        "## Dados\n",
        "np.random.seed(17)\n",
        "x = np.arange(0, 20, 0.4)\n",
        "y = 5*np.cos(x) + norm.rvs(size=len(x), loc=0, scale=1)\n",
        "\n",
        "## Gráfico dos dados\n",
        "plt.scatter(x,y)\n",
        "plt.show()\n",
        "```"
      ],
      "metadata": {
        "id": "CtBcN2o4L0jh"
      }
    },
    {
      "cell_type": "code",
      "source": [
        "import numpy as np\n",
        "import matplotlib.pyplot as plt\n",
        "from scipy.stats import norm\n",
        "from scipy.interpolate import interp1d\n",
        "from scipy.interpolate import UnivariateSpline\n",
        "\n",
        "## Dados\n",
        "np.random.seed(17)\n",
        "x = np.arange(0, 20, 0.4)\n",
        "y = 5*np.cos(x) + norm.rvs(size=len(x), loc=0, scale=1)\n",
        "\n",
        "## Gráfico dos dados\n",
        "plt.scatter(x,y)\n",
        "plt.show()\n",
        "\n",
        "\n",
        "#1) Utilize uma interpolação linear para estimar o valor de  y  em  x = 11.45.\n",
        "\n",
        "f_linear = interp1d(x, y, kind='linear')\n",
        "y_linear = f_linear(11.45)\n",
        "\n",
        "print(\"O valor de y é:\", y_linear)\n",
        "\n",
        "\n",
        "#2) Utilize uma interpolação por spline com  s=1  para estimar o valor de  y  em  x = 11.45.\n",
        "\n",
        "spline_1 = UnivariateSpline(x, y, s=1)\n",
        "y_spline = spline_1(11.45)\n",
        "\n",
        "print(\"O valor de y é:\", y_spline)"
      ],
      "metadata": {
        "colab": {
          "base_uri": "https://localhost:8080/",
          "height": 465
        },
        "id": "_18lEwsBY4pA",
        "outputId": "001ad40e-f6b2-414a-f969-d4cfb6b96fdf"
      },
      "execution_count": 70,
      "outputs": [
        {
          "output_type": "display_data",
          "data": {
            "text/plain": [
              "<Figure size 640x480 with 1 Axes>"
            ],
            "image/png": "[encoded data removed]"
          },
          "metadata": {}
        },
        {
          "output_type": "stream",
          "name": "stdout",
          "text": [
            "O valor de y é: 2.092015569585727\n",
            "O valor de y é: 1.8977675923310462\n"
          ]
        }
      ]
    }
  ]
}
