{
  "nbformat": 4,
  "nbformat_minor": 0,
  "metadata": {
    "colab": {
      "provenance": [],
      "toc_visible": true,
      "include_colab_link": true
    },
    "kernelspec": {
      "name": "python3",
      "display_name": "Python 3"
    },
    "language_info": {
      "name": "python"
    }
  },
  "cells": [
    {
      "cell_type": "markdown",
      "metadata": {
        "id": "view-in-github",
        "colab_type": "text"
      },
      "source": [
        "<a href=\"https://colab.research.google.com/github/natashanuto/CEE2/blob/main/10_numpy.ipynb\" target=\"_parent\"><img src=\"https://colab.research.google.com/assets/colab-badge.svg\" alt=\"Open In Colab\"/></a>"
      ]
    },
    {
      "cell_type": "markdown",
      "source": [
        "# Introdução ao NumPy"
      ],
      "metadata": {
        "id": "z-qiukcJzTIS"
      }
    },
    {
      "cell_type": "markdown",
      "source": [
        "O **NumPy** é uma das bibliotecas fundamentais para a computação científica em Python, sendo amplamente usada para trabalhar com arrays multidimensionais e operações matemáticas de alto desempenho. Ela fornece ferramentas para manipulação de dados, álgebra linear, estatísticas, etc.\n",
        "\n",
        "- Esta é uma rápida introdução ao NumPy que demonstra como matrizes n-dimensionais são representadas e podem ser manipulatadas.\n",
        "\n",
        "- Mais detalhes podem ser encontrados no tutorial: https://numpy.org/devdocs/user/quickstart.html\n",
        "\n",
        "A classe de matrizes do NumPy é chamada `ndarray` (ou simplesmente `array`). Note que `numpy.array` não é o mesmo que a classe `array.array` da biblioteca padrão do Python, a qual manipula apenas vetores unidimensionais e oferece menos funcionalidades.\n",
        "\n",
        "Os principais atributos de um objeto `ndarray` são:\n",
        "\n",
        "- `ndarray.ndim`: número de dimensões da matriz.\n",
        "\n",
        "- `ndarray.shape`: as dimensões da matriz. Uma tupla de inteiros indicando o tamanho em cada dimensão. Para uma matriz com linhas e colunas, o resultado será `(n, m)`. O tamanho da tupla é o mesmo que o número de eixos `ndim`.\n",
        "\n",
        "- `ndarray.size`: o número total de elementos na matriz. É igual ao produtos dos elementos do shape.\n",
        "\n",
        "- `ndarray.dtype`: um objeto que descreve o tipo dos elementos da matriz. Pode ser criado usando os tipos padrão do Python. Além destes, NumPy define outros tipos como `numpy.int32`, `numpy.int16`, e `numpy.float64`.\n",
        "\n",
        "- `ndarray.reshape`: permite alterar a dimensão de um array.\n"
      ],
      "metadata": {
        "id": "8-9lsUutzcVq"
      }
    },
    {
      "cell_type": "markdown",
      "source": [
        "## Criando Arrays\n",
        "\n",
        "O `array` é a estrutura de dados central do NumPy. Ele é mais eficiente e flexível do que as listas Python tradicionais.\n",
        "\n",
        "Importanto a biblioteca com\n",
        "```python\n",
        "import NumPy as np\n",
        "```\n",
        "\n",
        "Alguns módulos mais importantes da biblioteca são:\n",
        "\n",
        "* `np.array()`: cria arrays a partir de listas;\n",
        "* `np.zeros()`: cria um array preenchido com zeros;\n",
        "* `np.arange()`: cria um array com uma sequência de valores;\n",
        "* `np.linspace()`: cria um array de valores uniformemente espaçados.\n",
        "\n",
        "Veja os exemplo abaixo:"
      ],
      "metadata": {
        "id": "8wgGhC78jHsp"
      }
    },
    {
      "cell_type": "code",
      "source": [
        "# Criando um array a partir de uma lista:\n",
        "\n",
        "import numpy as np\n",
        "\n",
        "a = np.array([1, 2, 3, 4])\n",
        "print(a)                  # Saída: [1 2 3 4] (vetor)\n",
        "print(\"type:\", type(a))   # Saída: <class 'numpy.ndarray'>\n",
        "print(\"dtype:\", a.dtype)  # Saída: int64\n",
        "print(\"size:\", a.size)    # Saída: 4\n",
        "print(\"ndim:\", a.ndim)    # Saída: 1\n",
        "print(\"shape:\", a.shape)  # Saída: (4,)"
      ],
      "metadata": {
        "id": "DYjubt7PjWjm",
        "colab": {
          "base_uri": "https://localhost:8080/"
        },
        "outputId": "9991e7ea-6fa3-4526-ef7a-aecfbb28da52"
      },
      "execution_count": null,
      "outputs": [
        {
          "output_type": "stream",
          "name": "stdout",
          "text": [
            "[1 2 3 4]\n",
            "type: <class 'numpy.ndarray'>\n",
            "dtype: int64\n",
            "size: 4\n",
            "ndim: 1\n",
            "shape: (4,)\n"
          ]
        }
      ]
    },
    {
      "cell_type": "code",
      "source": [
        "# Arrays de múltiplas dimensões:\n",
        "\n",
        "import numpy as np\n",
        "\n",
        "b = np.array([[1, 2, 3], [4, 5, 6]])\n",
        "print(b)                  # Saída: [[1 2 3] [4 5 6]] (matriz)\n",
        "print(\"type:\", type(b))   # Saída: <class 'numpy.ndarray'>\n",
        "print(\"dtype:\", b.dtype)  # Saída: int64\n",
        "print(\"size:\", b.size)    # Saída: 6\n",
        "print(\"ndim:\", b.ndim)    # Saída: 2\n",
        "print(\"shape:\", b.shape)  # Saída: (2, 3)"
      ],
      "metadata": {
        "id": "uXN7mcBzAxPb",
        "colab": {
          "base_uri": "https://localhost:8080/"
        },
        "outputId": "c1f7495a-4e68-4e62-a6a7-86a3c8486264"
      },
      "execution_count": null,
      "outputs": [
        {
          "output_type": "stream",
          "name": "stdout",
          "text": [
            "[[1 2 3]\n",
            " [4 5 6]]\n",
            "type: <class 'numpy.ndarray'>\n",
            "dtype: int64\n",
            "size: 6\n",
            "ndim: 2\n",
            "shape: (2, 3)\n"
          ]
        }
      ]
    },
    {
      "cell_type": "code",
      "source": [
        "# Arrays com valores predefinidos\n",
        "\n",
        "import numpy as np\n",
        "\n",
        "## Array de zeros:\n",
        "print(\"--zeros--\")\n",
        "zeros = np.zeros((2, 3))\n",
        "print(\"dtype:\", zeros.dtype)  # Saída: float64\n",
        "print(zeros)                  # Saída: [[0. 0. 0.] [0. 0. 0.]]\n",
        "print(\"-----\")\n",
        "\n",
        "## Array de uns:\n",
        "print(\"--ones--\")\n",
        "ones = np.ones((2, 2))    # Matriz 2x2 de uns\n",
        "print(ones)               # Saída: [[1. 1.] [1. 1.]]\n",
        "print(\"-----\")"
      ],
      "metadata": {
        "id": "AwAtH2LjA0NM",
        "colab": {
          "base_uri": "https://localhost:8080/"
        },
        "outputId": "9f5e1551-9c03-4027-a3db-01ccc2c0041b"
      },
      "execution_count": null,
      "outputs": [
        {
          "output_type": "stream",
          "name": "stdout",
          "text": [
            "--zeros--\n",
            "dtype: float64\n",
            "[[0. 0. 0.]\n",
            " [0. 0. 0.]]\n",
            "-----\n",
            "--ones--\n",
            "[[1. 1.]\n",
            " [1. 1.]]\n",
            "-----\n"
          ]
        }
      ]
    },
    {
      "cell_type": "markdown",
      "source": [
        "Para criar sequências de números o NumPy fornece a função `arange()` que é análoga à função `range()`."
      ],
      "metadata": {
        "id": "MtyUAHxRASXg"
      }
    },
    {
      "cell_type": "code",
      "source": [
        "# Arrays sequenciais\n",
        "\n",
        "import numpy as np\n",
        "\n",
        "## Array com valores de 0 a 9:\n",
        "print(\"--seq1--\")\n",
        "seq1 = np.arange(10)\n",
        "print(seq1)                # Saída: [0 1 2 3 4 5 6 7 8 9]\n",
        "print(\"-----\")\n",
        "\n",
        "# Cria um vetor com elementos de 10 a 30 com passo 5.\n",
        "print(\"--seq2--\")\n",
        "seq2 = np.arange(10, 30, 5)\n",
        "print(seq2)               # Saída: [10 15 20 25]\n",
        "print(\"-----\")\n",
        "\n",
        "## Array com valores igualmente espaçados:\n",
        "print(\"--lin--\")\n",
        "lin_space = np.linspace(0, 1, 5)  # 5 valores igualmente espaçados entre 0 e 1\n",
        "print(lin_space)          # Saída: [0.   0.25 0.5  0.75 1.  ]\n",
        "print(\"-----\")"
      ],
      "metadata": {
        "id": "gHYpKMfRA50F",
        "colab": {
          "base_uri": "https://localhost:8080/"
        },
        "outputId": "a865d6bd-a50a-4da1-df40-61759dc6b69a"
      },
      "execution_count": null,
      "outputs": [
        {
          "output_type": "stream",
          "name": "stdout",
          "text": [
            "--seq1--\n",
            "[0 1 2 3 4 5 6 7 8 9]\n",
            "-----\n",
            "--seq2--\n",
            "[10 15 20 25]\n",
            "-----\n",
            "--lin--\n",
            "[0.   0.25 0.5  0.75 1.  ]\n",
            "-----\n"
          ]
        }
      ]
    },
    {
      "cell_type": "markdown",
      "source": [
        "Ao usar `arange()` com números não inteiros pode não ser possível predizer a quantidade de elementos obtidos devido à precisão do ponto flutuante. Melhor usar `linspace()` passando o número de elementos:"
      ],
      "metadata": {
        "id": "82TN58SYA5Mn"
      }
    },
    {
      "cell_type": "code",
      "source": [
        "import numpy as np\n",
        "\n",
        "x = np.linspace(0, 2 * np.pi, 30)  # Cria um vetor com 30 elementos entre 0 e 2pi.\n",
        "print(x)"
      ],
      "metadata": {
        "id": "_NYUTBMSBUk5",
        "colab": {
          "base_uri": "https://localhost:8080/"
        },
        "outputId": "483b1d20-e8eb-4a98-c29b-c9d2d652705b"
      },
      "execution_count": null,
      "outputs": [
        {
          "output_type": "stream",
          "name": "stdout",
          "text": [
            "[0.         0.21666156 0.43332312 0.64998469 0.86664625 1.08330781\n",
            " 1.29996937 1.51663094 1.7332925  1.94995406 2.16661562 2.38327719\n",
            " 2.59993875 2.81660031 3.03326187 3.24992343 3.466585   3.68324656\n",
            " 3.89990812 4.11656968 4.33323125 4.54989281 4.76655437 4.98321593\n",
            " 5.1998775  5.41653906 5.63320062 5.84986218 6.06652374 6.28318531]\n"
          ]
        }
      ]
    },
    {
      "cell_type": "markdown",
      "source": [
        "## Dimensão\n",
        "\n",
        "A dimensão de um array pode ser alterada utilizando o atributo `.reshape`. Veja o exemplo:"
      ],
      "metadata": {
        "id": "ymS47PlNswZr"
      }
    },
    {
      "cell_type": "code",
      "source": [
        "import numpy as np\n",
        "\n",
        "## vetor\n",
        "seq = np.arange(12)\n",
        "print(seq)  # Saída: [0 1 2 3 4 5 6 7 8 9 10 11]\n",
        "print(\"-----\")\n",
        "\n",
        "## matriz 3x4\n",
        "a = seq.reshape(3, 4)\n",
        "print(a)  # Saída: [[ 0  1  2  3] [ 4  5  6  7] [ 8  9 10 11]]\n",
        "print(\"-----\")\n",
        "\n",
        "## matriz 4x3\n",
        "b = seq.reshape(4, 3)\n",
        "print(b)  # Saída: [[ 0  1  2] [ 3  4  5] [ 6  7  8] [ 9 10 11]]"
      ],
      "metadata": {
        "id": "PetCK-bVs41_",
        "colab": {
          "base_uri": "https://localhost:8080/"
        },
        "outputId": "2713b2dd-65ad-44aa-fdb2-eb2713f69b95"
      },
      "execution_count": null,
      "outputs": [
        {
          "output_type": "stream",
          "name": "stdout",
          "text": [
            "[ 0  1  2  3  4  5  6  7  8  9 10 11]\n",
            "-----\n",
            "[[ 0  1  2  3]\n",
            " [ 4  5  6  7]\n",
            " [ 8  9 10 11]]\n",
            "-----\n",
            "[[ 0  1  2]\n",
            " [ 3  4  5]\n",
            " [ 6  7  8]\n",
            " [ 9 10 11]]\n"
          ]
        }
      ]
    },
    {
      "cell_type": "markdown",
      "source": [
        "Existem diversas formas de se criar matrizes:"
      ],
      "metadata": {
        "id": "MWQ3hdg69flQ"
      }
    },
    {
      "cell_type": "code",
      "source": [
        "# O tipo é deduzido dos elementos.\n",
        "\n",
        "import numpy as np\n",
        "a = np.array([2, 3, 4])\n",
        "print(a)\n",
        "print(a.dtype)     ## exibe: dtype('int64')\n",
        "\n",
        "print(\"-----\")\n",
        "\n",
        "b = np.array([1.2, 3.5, 5.1])\n",
        "print(b)\n",
        "print(b.dtype)    ## exibe: dtype('float64')"
      ],
      "metadata": {
        "id": "XktvaZAt-R04",
        "colab": {
          "base_uri": "https://localhost:8080/"
        },
        "outputId": "5027606d-06b0-47e5-e5af-462dd45840f8"
      },
      "execution_count": null,
      "outputs": [
        {
          "output_type": "stream",
          "name": "stdout",
          "text": [
            "[2 3 4]\n",
            "int64\n",
            "-----\n",
            "[1.2 3.5 5.1]\n",
            "float64\n"
          ]
        }
      ]
    },
    {
      "cell_type": "code",
      "source": [
        "# O tipo da matriz pode ser especificado explicitamente na criação:\n",
        "\n",
        "import numpy as np\n",
        "\n",
        "a = np.array([2, 3, 4], dtype= float)\n",
        "print(a)\n",
        "a.dtype     ## exibe: dtype('float64')\n",
        "\n",
        "print(\"-----\")\n",
        "\n",
        "c = np.array([[1, 2], [3, 4]], dtype= complex)\n",
        "c"
      ],
      "metadata": {
        "id": "xJYoVhVDCczj",
        "colab": {
          "base_uri": "https://localhost:8080/"
        },
        "outputId": "b396742c-f8c6-4865-b73c-586dfe25cc21"
      },
      "execution_count": null,
      "outputs": [
        {
          "output_type": "stream",
          "name": "stdout",
          "text": [
            "[2. 3. 4.]\n",
            "-----\n"
          ]
        },
        {
          "output_type": "execute_result",
          "data": {
            "text/plain": [
              "array([[1.+0.j, 2.+0.j],\n",
              "       [3.+0.j, 4.+0.j]])"
            ]
          },
          "metadata": {},
          "execution_count": 8
        }
      ]
    },
    {
      "cell_type": "markdown",
      "source": [
        "Um erro frequente consiste em chamar array com múltiplos argumentos, ao invés de uma sequência."
      ],
      "metadata": {
        "id": "J9mts1m9-SD_"
      }
    },
    {
      "cell_type": "code",
      "source": [
        "#a = np.array(1, 2, 3, 4)     # TypeError\n",
        "a = np.array([1, 2, 3, 4])   # CORRETO!"
      ],
      "metadata": {
        "id": "m84CUTVD-vfh"
      },
      "execution_count": null,
      "outputs": []
    },
    {
      "cell_type": "markdown",
      "source": [
        "O NumPy exibe a matriz de forma similar à listas aninhadas com o seguinte layout:\n",
        "\n",
        "- O último eixo é exibido da esquerda para a direita;\n",
        "\n",
        "- O penúltimo eixo é exibido de cima para baixo;\n",
        "\n",
        "- Os demais eixos são exibidos de cima para baixo separados por uma linha em branco;\n",
        "\n",
        "Vetores (unidimensional) são exibidos como vetorlinhas, matrizes bidimensionais como matrizes e matrizes tridimensionais como lista de matrizes."
      ],
      "metadata": {
        "id": "UnAroZ92BU3A"
      }
    },
    {
      "cell_type": "code",
      "source": [
        "a = np.arange(6)    # Cria um vetor com 6 elementos de 0 a 5.\n",
        "print(a)"
      ],
      "metadata": {
        "id": "qlldY-1eB3Yx",
        "colab": {
          "base_uri": "https://localhost:8080/"
        },
        "outputId": "8871ed87-dd52-4daf-f1d5-7173852d2b6e"
      },
      "execution_count": null,
      "outputs": [
        {
          "output_type": "stream",
          "name": "stdout",
          "text": [
            "[0 1 2 3 4 5]\n"
          ]
        }
      ]
    },
    {
      "cell_type": "code",
      "source": [
        "b = np.arange(12).reshape(4, 3)    # Cria uma matriz 4x3.\n",
        "print(b)"
      ],
      "metadata": {
        "id": "YEf7325YB5f_",
        "colab": {
          "base_uri": "https://localhost:8080/"
        },
        "outputId": "f5e19052-ce43-4358-a775-d40cbfaf0723"
      },
      "execution_count": null,
      "outputs": [
        {
          "output_type": "stream",
          "name": "stdout",
          "text": [
            "[[ 0  1  2]\n",
            " [ 3  4  5]\n",
            " [ 6  7  8]\n",
            " [ 9 10 11]]\n"
          ]
        }
      ]
    },
    {
      "cell_type": "code",
      "source": [
        "c = np.arange(24).reshape(2, 3, 4)  # Cria uma matriz tridimensional: 2x3x4.\n",
        "print(c)"
      ],
      "metadata": {
        "id": "QOvffrdMB6VH",
        "colab": {
          "base_uri": "https://localhost:8080/"
        },
        "outputId": "79fb69bb-c2a6-4c79-f0dc-f1d59f39d6ad"
      },
      "execution_count": null,
      "outputs": [
        {
          "output_type": "stream",
          "name": "stdout",
          "text": [
            "[[[ 0  1  2  3]\n",
            "  [ 4  5  6  7]\n",
            "  [ 8  9 10 11]]\n",
            "\n",
            " [[12 13 14 15]\n",
            "  [16 17 18 19]\n",
            "  [20 21 22 23]]]\n"
          ]
        }
      ]
    },
    {
      "cell_type": "markdown",
      "source": [
        "Se a matriz é muito grande o NumPy automaticamente omite a parte central da matriz:"
      ],
      "metadata": {
        "id": "i9I0NDwJB3pA"
      }
    },
    {
      "cell_type": "code",
      "source": [
        "print(np.arange(10000))"
      ],
      "metadata": {
        "id": "YQgXgUeUCV2w",
        "colab": {
          "base_uri": "https://localhost:8080/"
        },
        "outputId": "cca31cc9-57f2-4848-9819-f920b631dcd3"
      },
      "execution_count": null,
      "outputs": [
        {
          "output_type": "stream",
          "name": "stdout",
          "text": [
            "[   0    1    2 ... 9997 9998 9999]\n"
          ]
        }
      ]
    },
    {
      "cell_type": "code",
      "source": [
        "print(np.arange(1000).reshape(10, 100))"
      ],
      "metadata": {
        "id": "p8cvmrIyCb3_",
        "colab": {
          "base_uri": "https://localhost:8080/"
        },
        "outputId": "be2793e8-a4cc-43cc-e9a3-8645c48e22f2"
      },
      "execution_count": null,
      "outputs": [
        {
          "output_type": "stream",
          "name": "stdout",
          "text": [
            "[[  0   1   2   3   4   5   6   7   8   9  10  11  12  13  14  15  16  17\n",
            "   18  19  20  21  22  23  24  25  26  27  28  29  30  31  32  33  34  35\n",
            "   36  37  38  39  40  41  42  43  44  45  46  47  48  49  50  51  52  53\n",
            "   54  55  56  57  58  59  60  61  62  63  64  65  66  67  68  69  70  71\n",
            "   72  73  74  75  76  77  78  79  80  81  82  83  84  85  86  87  88  89\n",
            "   90  91  92  93  94  95  96  97  98  99]\n",
            " [100 101 102 103 104 105 106 107 108 109 110 111 112 113 114 115 116 117\n",
            "  118 119 120 121 122 123 124 125 126 127 128 129 130 131 132 133 134 135\n",
            "  136 137 138 139 140 141 142 143 144 145 146 147 148 149 150 151 152 153\n",
            "  154 155 156 157 158 159 160 161 162 163 164 165 166 167 168 169 170 171\n",
            "  172 173 174 175 176 177 178 179 180 181 182 183 184 185 186 187 188 189\n",
            "  190 191 192 193 194 195 196 197 198 199]\n",
            " [200 201 202 203 204 205 206 207 208 209 210 211 212 213 214 215 216 217\n",
            "  218 219 220 221 222 223 224 225 226 227 228 229 230 231 232 233 234 235\n",
            "  236 237 238 239 240 241 242 243 244 245 246 247 248 249 250 251 252 253\n",
            "  254 255 256 257 258 259 260 261 262 263 264 265 266 267 268 269 270 271\n",
            "  272 273 274 275 276 277 278 279 280 281 282 283 284 285 286 287 288 289\n",
            "  290 291 292 293 294 295 296 297 298 299]\n",
            " [300 301 302 303 304 305 306 307 308 309 310 311 312 313 314 315 316 317\n",
            "  318 319 320 321 322 323 324 325 326 327 328 329 330 331 332 333 334 335\n",
            "  336 337 338 339 340 341 342 343 344 345 346 347 348 349 350 351 352 353\n",
            "  354 355 356 357 358 359 360 361 362 363 364 365 366 367 368 369 370 371\n",
            "  372 373 374 375 376 377 378 379 380 381 382 383 384 385 386 387 388 389\n",
            "  390 391 392 393 394 395 396 397 398 399]\n",
            " [400 401 402 403 404 405 406 407 408 409 410 411 412 413 414 415 416 417\n",
            "  418 419 420 421 422 423 424 425 426 427 428 429 430 431 432 433 434 435\n",
            "  436 437 438 439 440 441 442 443 444 445 446 447 448 449 450 451 452 453\n",
            "  454 455 456 457 458 459 460 461 462 463 464 465 466 467 468 469 470 471\n",
            "  472 473 474 475 476 477 478 479 480 481 482 483 484 485 486 487 488 489\n",
            "  490 491 492 493 494 495 496 497 498 499]\n",
            " [500 501 502 503 504 505 506 507 508 509 510 511 512 513 514 515 516 517\n",
            "  518 519 520 521 522 523 524 525 526 527 528 529 530 531 532 533 534 535\n",
            "  536 537 538 539 540 541 542 543 544 545 546 547 548 549 550 551 552 553\n",
            "  554 555 556 557 558 559 560 561 562 563 564 565 566 567 568 569 570 571\n",
            "  572 573 574 575 576 577 578 579 580 581 582 583 584 585 586 587 588 589\n",
            "  590 591 592 593 594 595 596 597 598 599]\n",
            " [600 601 602 603 604 605 606 607 608 609 610 611 612 613 614 615 616 617\n",
            "  618 619 620 621 622 623 624 625 626 627 628 629 630 631 632 633 634 635\n",
            "  636 637 638 639 640 641 642 643 644 645 646 647 648 649 650 651 652 653\n",
            "  654 655 656 657 658 659 660 661 662 663 664 665 666 667 668 669 670 671\n",
            "  672 673 674 675 676 677 678 679 680 681 682 683 684 685 686 687 688 689\n",
            "  690 691 692 693 694 695 696 697 698 699]\n",
            " [700 701 702 703 704 705 706 707 708 709 710 711 712 713 714 715 716 717\n",
            "  718 719 720 721 722 723 724 725 726 727 728 729 730 731 732 733 734 735\n",
            "  736 737 738 739 740 741 742 743 744 745 746 747 748 749 750 751 752 753\n",
            "  754 755 756 757 758 759 760 761 762 763 764 765 766 767 768 769 770 771\n",
            "  772 773 774 775 776 777 778 779 780 781 782 783 784 785 786 787 788 789\n",
            "  790 791 792 793 794 795 796 797 798 799]\n",
            " [800 801 802 803 804 805 806 807 808 809 810 811 812 813 814 815 816 817\n",
            "  818 819 820 821 822 823 824 825 826 827 828 829 830 831 832 833 834 835\n",
            "  836 837 838 839 840 841 842 843 844 845 846 847 848 849 850 851 852 853\n",
            "  854 855 856 857 858 859 860 861 862 863 864 865 866 867 868 869 870 871\n",
            "  872 873 874 875 876 877 878 879 880 881 882 883 884 885 886 887 888 889\n",
            "  890 891 892 893 894 895 896 897 898 899]\n",
            " [900 901 902 903 904 905 906 907 908 909 910 911 912 913 914 915 916 917\n",
            "  918 919 920 921 922 923 924 925 926 927 928 929 930 931 932 933 934 935\n",
            "  936 937 938 939 940 941 942 943 944 945 946 947 948 949 950 951 952 953\n",
            "  954 955 956 957 958 959 960 961 962 963 964 965 966 967 968 969 970 971\n",
            "  972 973 974 975 976 977 978 979 980 981 982 983 984 985 986 987 988 989\n",
            "  990 991 992 993 994 995 996 997 998 999]]\n"
          ]
        }
      ]
    },
    {
      "cell_type": "markdown",
      "source": [
        "Para disabilitar, mude a opção usando:\n",
        "\n",
        "```python\n",
        "np.set_printoptions(threshold= sys.maxsize)\n",
        "```"
      ],
      "metadata": {
        "id": "DCc5iGzQCWFf"
      }
    },
    {
      "cell_type": "code",
      "source": [
        "## exemplo\n",
        "\n",
        "import sys\n",
        "\n",
        "np.set_printoptions(threshold= 5)\n",
        "\n",
        "print(np.arange(100).reshape(10, 10))"
      ],
      "metadata": {
        "id": "2OwsOKF_Qq2h",
        "colab": {
          "base_uri": "https://localhost:8080/"
        },
        "outputId": "e18060a9-88fa-4f1e-be2f-7d80a186efe1"
      },
      "execution_count": null,
      "outputs": [
        {
          "output_type": "stream",
          "name": "stdout",
          "text": [
            "[[ 0  1  2 ...  7  8  9]\n",
            " [10 11 12 ... 17 18 19]\n",
            " [20 21 22 ... 27 28 29]\n",
            " ...\n",
            " [70 71 72 ... 77 78 79]\n",
            " [80 81 82 ... 87 88 89]\n",
            " [90 91 92 ... 97 98 99]]\n"
          ]
        }
      ]
    },
    {
      "cell_type": "markdown",
      "source": [
        "## Exercício 1\n",
        "\n",
        "a) Crie um array de zeros com forma 3x3.\n",
        "\n",
        "b) Crie um array com números de 1 a 20, com passo de 3.\n"
      ],
      "metadata": {
        "id": "gxA0rbWh4cUi"
      }
    },
    {
      "cell_type": "code",
      "source": [
        "#a) Crie um array de zeros com forma 3x3.\n",
        "\n",
        "import numpy as np #Importa a biblioteca \"NumPy\" como \"np\"\n",
        "\n",
        "x = np.zeros((3,3)) #Cria um array de zeros na forma 3 linhas X 3 colunas\n",
        "print(x) #Saída: [[0. 0. 0.]\n",
        "         #       [0. 0. 0.]\n",
        "         #       [0. 0. 0.]]\n",
        "\n",
        "print(type(x)) #<class 'numpy.ndarray'>\n",
        "\n",
        "print(\"-----\")\n",
        "\n",
        "#b) Crie um array com números de 1 a 20, com passo de 3.\n",
        "\n",
        "y = np.arange(1, 21, 3)\n",
        "print(y) #Saída: [ 1  4  7 10 13 16 19]\n",
        "\n",
        "print(type(y)) #<class 'numpy.ndarray'>"
      ],
      "metadata": {
        "colab": {
          "base_uri": "https://localhost:8080/"
        },
        "id": "CHLqA6hecUQA",
        "outputId": "c1974f5b-c67b-4015-96d7-9cfd7320ef24"
      },
      "execution_count": null,
      "outputs": [
        {
          "output_type": "stream",
          "name": "stdout",
          "text": [
            "[[0. 0. 0.]\n",
            " [0. 0. 0.]\n",
            " [0. 0. 0.]]\n",
            "<class 'numpy.ndarray'>\n",
            "-----\n",
            "[ 1  4  7 10 13 16 19]\n",
            "<class 'numpy.ndarray'>\n"
          ]
        }
      ]
    },
    {
      "cell_type": "markdown",
      "source": [
        "## Operações básicas"
      ],
      "metadata": {
        "id": "OPcT67OACqKP"
      }
    },
    {
      "cell_type": "markdown",
      "source": [
        "Operadores aritméticos são aplicados em cada elemento. Uma nova matriz com o resultado é criada."
      ],
      "metadata": {
        "id": "08EEy92DCq1X"
      }
    },
    {
      "cell_type": "code",
      "source": [
        "import numpy as np\n",
        "\n",
        "a = np.array([2, 5, 4, 0])    # Cria um vetor com os vetores passados.\n",
        "b = np.arange(4)              # Cria um vetor com os valores 0, 1, 2, 3.\n",
        "\n",
        "print(a, \"\\n\")                # Exibe o vetor a.\n",
        "print(a+2, \"\\n\")              # Adição elemento a elemento.\n",
        "print(a+b, \"\\n\")              # Adição elemento a elemento.\n",
        "print(a-b, \"\\n\")              # Subtração elemento a elemento.\n",
        "print(b**2, \"\\n\")             # Exibe o vetor com os quadrados dos elementos de b.\n",
        "print(10 * np.sin(a), \"\\n\")   # Calcula 10 vezes seno dos elementos do vetor a.\n",
        "print(a < 3, \"\\n\")            # Retorna um vetor booleano com True para cada elemento menor que 35."
      ],
      "metadata": {
        "id": "4WondI1UDNc4",
        "colab": {
          "base_uri": "https://localhost:8080/"
        },
        "outputId": "9ebcaeb7-8e3c-475e-de01-bb28132f17ec"
      },
      "execution_count": null,
      "outputs": [
        {
          "output_type": "stream",
          "name": "stdout",
          "text": [
            "[2 5 4 0] \n",
            "\n",
            "[4 7 6 2] \n",
            "\n",
            "[2 6 6 3] \n",
            "\n",
            "[ 2  4  2 -3] \n",
            "\n",
            "[0 1 4 9] \n",
            "\n",
            "[ 9.09297427 -9.58924275 -7.56802495  0.        ] \n",
            "\n",
            "[ True False False  True] \n",
            "\n"
          ]
        }
      ]
    },
    {
      "cell_type": "markdown",
      "source": [
        "O operador produto `*` opera elemento-a-elemento. O produto matricial é feito com `@` (Python >=3.5) ou com `dot()`:"
      ],
      "metadata": {
        "id": "y_J3g0HbDNsY"
      }
    },
    {
      "cell_type": "code",
      "source": [
        "A = np.array([[1, 1], [0, 1]])\n",
        "B = np.array([[2, 0], [3, 4]])\n",
        "\n",
        "print(A * B, \"\\n\")       # Produto elemento a elemento\n",
        "print(A @ B, \"\\n\")       # Produto matricial\n",
        "print(A.dot(B), \"\\n\")    # Produto matricial"
      ],
      "metadata": {
        "id": "IWc_-piADswn",
        "colab": {
          "base_uri": "https://localhost:8080/"
        },
        "outputId": "3e7f5c7d-e854-4027-9d25-bda42fb72120"
      },
      "execution_count": null,
      "outputs": [
        {
          "output_type": "stream",
          "name": "stdout",
          "text": [
            "[[2 0]\n",
            " [0 4]] \n",
            "\n",
            "[[5 4]\n",
            " [3 4]] \n",
            "\n",
            "[[5 4]\n",
            " [3 4]] \n",
            "\n"
          ]
        }
      ]
    },
    {
      "cell_type": "markdown",
      "source": [
        "Operações como `+=` e `*=` modifica uma matriz existente ao invés de criar uma nova."
      ],
      "metadata": {
        "id": "WwFNFARyDtBH"
      }
    },
    {
      "cell_type": "code",
      "source": [
        "A = np.array([[1, 1], [0, 1]])\n",
        "B = np.array([[2, 0], [3, 4]])\n",
        "\n",
        "A *= 3\n",
        "print(A, \"\\n\")\n",
        "\n",
        "B += A\n",
        "print(B, \"\\n\")\n"
      ],
      "metadata": {
        "id": "vJSfhI3FEZQ4",
        "colab": {
          "base_uri": "https://localhost:8080/"
        },
        "outputId": "dbc236d3-c78b-4a9c-e33b-b9a8a0d2e4f6"
      },
      "execution_count": null,
      "outputs": [
        {
          "output_type": "stream",
          "name": "stdout",
          "text": [
            "[[3 3]\n",
            " [0 3]] \n",
            "\n",
            "[[5 3]\n",
            " [3 7]] \n",
            "\n"
          ]
        }
      ]
    },
    {
      "cell_type": "markdown",
      "source": [
        "Muitas operações são implementadas como métodos da classe `ndarray`."
      ],
      "metadata": {
        "id": "_7GmMiSuFTln"
      }
    },
    {
      "cell_type": "code",
      "source": [
        "A = np.array([[1, 1], [0, 1]])\n",
        "print(A)\n",
        "print(\"\\n\")\n",
        "print(A.sum())    # Exibe a soma dos elementos.\n",
        "print(A.min())    # Exibe o menor elemento.\n",
        "print(A.max())    # Exibe o maior elemento.\n",
        "print(A.mean())   # Exibe a média dos elementos.\n",
        "print(A.std())    # Exibe o desvio padrão dos elementos."
      ],
      "metadata": {
        "id": "_UElF5P4GBIB",
        "colab": {
          "base_uri": "https://localhost:8080/"
        },
        "outputId": "e9d4b5e9-6be1-4753-aacf-9591f19a87d8"
      },
      "execution_count": null,
      "outputs": [
        {
          "output_type": "stream",
          "name": "stdout",
          "text": [
            "[[1 1]\n",
            " [0 1]]\n",
            "\n",
            "\n",
            "3\n",
            "0\n",
            "1\n",
            "0.75\n",
            "0.4330127018922193\n"
          ]
        }
      ]
    },
    {
      "cell_type": "markdown",
      "source": [
        "Por padrão, estas operações tratam a matriz como uma lista de números. No entanto, é possível especificar o eixos para aplicar a operação:"
      ],
      "metadata": {
        "id": "4m5TpZdNGBpf"
      }
    },
    {
      "cell_type": "code",
      "source": [
        "B = np.arange(12).reshape(3, 4)\n",
        "print( B, \"\\n\" )\n",
        "\n",
        "print( B.sum(axis= 0), \"\\n\" )      # soma de cada coluna\n",
        "print( B.min(axis= 1), \"\\n\" )      # mínimo de cada linha\n",
        "print( B.cumsum(axis= 1), \"\\n\" )   # soma cumulativa em cada linha"
      ],
      "metadata": {
        "id": "OcyUXKBeGlhH",
        "colab": {
          "base_uri": "https://localhost:8080/"
        },
        "outputId": "90c1146b-21f5-40b6-de16-2adac788ed78"
      },
      "execution_count": null,
      "outputs": [
        {
          "output_type": "stream",
          "name": "stdout",
          "text": [
            "[[ 0  1  2  3]\n",
            " [ 4  5  6  7]\n",
            " [ 8  9 10 11]] \n",
            "\n",
            "[12 15 18 21] \n",
            "\n",
            "[0 4 8] \n",
            "\n",
            "[[ 0  1  3  6]\n",
            " [ 4  9 15 22]\n",
            " [ 8 17 27 38]] \n",
            "\n"
          ]
        }
      ]
    },
    {
      "cell_type": "markdown",
      "source": [
        "## Exercício 2\n",
        "\n",
        "* Crie um array com os valores `[10, 20, 30, 40, 50]`.\n",
        "* Subtraia `5` de cada elemento e, em seguida, eleve ao quadrado cada valor.\n",
        "* Apresente o vetor com a soma das colunas."
      ],
      "metadata": {
        "id": "y7zcg8589Eqj"
      }
    },
    {
      "cell_type": "code",
      "source": [
        "#Crie um array com os valores [10, 20, 30, 40, 50].\n",
        "\n",
        "import numpy as np #Importa a biblioteca \"NumPy\" como \"np\"\n",
        "\n",
        "a = np.array([10, 20, 30, 40, 50]) #Cria o ndarray da lista dada. Opção alternativa: np.arange(10, 60, 10)\n",
        "print(a) #Saída: [10 20 30 40 50]\n",
        "print(\"-----\")\n",
        "\n",
        "\n",
        "#Subtraia 5 de cada elemento e, em seguida, eleve ao quadrado cada valor.\n",
        "\n",
        "\n",
        "a -= 5 #Subtraí 5 de cada elemento da matriz \"a\", sem criar nova matriz\n",
        "print(a) #Saída: [ 5 15 25 35 45]\n",
        "\n",
        "\n",
        "a **= 2 #Eleva ao quadrado cada valor da matriz \"a\" (já subtraído 5 de cada elemento). Não cria nova matriz\n",
        "print(a)  #Saída: [  25  225  625 1225 2025]\n",
        "\n",
        "\n",
        "print(\"-----\")\n",
        "\n",
        "#Apresente o vetor com a soma das colunas\n",
        "\n",
        "print(a.sum(axis = 0))  #Vetor com a soma das colunas do ndarray - especificado o eixo coluna por \"axis = 0\"\n",
        "                              #Saída: 4125"
      ],
      "metadata": {
        "colab": {
          "base_uri": "https://localhost:8080/"
        },
        "id": "xqn7tDRZfq7Z",
        "outputId": "130af47e-c6d0-4199-cf2e-19f02a876c0e"
      },
      "execution_count": null,
      "outputs": [
        {
          "output_type": "stream",
          "name": "stdout",
          "text": [
            "[10 20 30 40 50]\n",
            "-----\n",
            "[ 5 15 25 35 45]\n",
            "[  25  225  625 1225 2025]\n",
            "-----\n",
            "4125\n"
          ]
        }
      ]
    },
    {
      "cell_type": "markdown",
      "source": [
        "## Funções universais"
      ],
      "metadata": {
        "id": "p6DNmB2Xqmtd"
      }
    },
    {
      "cell_type": "markdown",
      "source": [
        "Funções matemáticas como `sin()`, `cos()` e `exp()`, chamadas de *funções universais* (`ufunc`), operam emento-a-elemento."
      ],
      "metadata": {
        "id": "-hgjmFqTGlwv"
      }
    },
    {
      "cell_type": "code",
      "source": [
        "import numpy as np\n",
        "\n",
        "B = np.arange(3)               # Cria um vetor com 3 elementos.\n",
        "print(np.exp(B))               # Exibe o exponencial de cada elemento de B.\n",
        "print(np.sqrt(B))              # Exibe a raiz quadrada de cada elemento de B.\n",
        "C = np.array([2., -1., 4.])    # Cria um vetor com 3 elementos.\n",
        "print(np.add(B, C))            # Exibe a soma entre os vetores B e C."
      ],
      "metadata": {
        "id": "i0IPkDElHT0n",
        "colab": {
          "base_uri": "https://localhost:8080/"
        },
        "outputId": "7b908f3e-4e49-4fea-aa6f-22648413821b"
      },
      "execution_count": null,
      "outputs": [
        {
          "output_type": "stream",
          "name": "stdout",
          "text": [
            "[1.         2.71828183 7.3890561 ]\n",
            "[0.         1.         1.41421356]\n",
            "[2. 0. 6.]\n"
          ]
        }
      ]
    },
    {
      "cell_type": "markdown",
      "source": [
        "## Indexação, fatiamento e iteração"
      ],
      "metadata": {
        "id": "giZJn49PumjF"
      }
    },
    {
      "cell_type": "markdown",
      "source": [
        "Vetores unidimensionais podem ser indexados, fatiados e iterados como se fosse uma lista."
      ],
      "metadata": {
        "id": "nL5ijMJAHUCW"
      }
    },
    {
      "cell_type": "code",
      "source": [
        "import numpy as np\n",
        "\n",
        "a = np.arange(10)           # Gera um vetor dos cubos de 0 a 9.\n",
        "\n",
        "print(a, \"\\n\")              # Exibe o vetor 'a'.\n",
        "print(a[2], \"\\n\")           # Exibe o terceiro elemento do vetor 'a'.\n",
        "print(a[2:5], \"\\n\")         # Exibe os elementos nas posições 2, 3, 4."
      ],
      "metadata": {
        "id": "oI3i2Y6LKjmB",
        "colab": {
          "base_uri": "https://localhost:8080/"
        },
        "outputId": "20bb2c5b-9177-4944-cb12-3b9ba557e291"
      },
      "execution_count": null,
      "outputs": [
        {
          "output_type": "stream",
          "name": "stdout",
          "text": [
            "[0 1 2 3 4 5 6 7 8 9] \n",
            "\n",
            "2 \n",
            "\n",
            "[2 3 4] \n",
            "\n"
          ]
        }
      ]
    },
    {
      "cell_type": "code",
      "source": [
        "a = np.arange(10)           # Gera um vetor dos cubos de 0 a 9.\n",
        "\n",
        "print(a, \"\\n\")              # Exibe o vetor 'a'.\n",
        "\n",
        "a[:6:2] = 10              # Substitui os elementos nas posições 0, 2 e 4 por 10.\n",
        "\n",
        "print(a, \"\\n\")              # Exibe o vetor 'a'\n",
        "\n",
        "print(a[::-1], \"\\n\")        # Exibe o vetor 'a' invertido."
      ],
      "metadata": {
        "id": "tquGxVYEHy6H",
        "colab": {
          "base_uri": "https://localhost:8080/"
        },
        "outputId": "c84bdb14-9263-40c5-f3ca-95db4752f037"
      },
      "execution_count": null,
      "outputs": [
        {
          "output_type": "stream",
          "name": "stdout",
          "text": [
            "[0 1 2 3 4 5 6 7 8 9] \n",
            "\n",
            "[10  1 10  3 10  5  6  7  8  9] \n",
            "\n",
            "[ 9  8  7  6  5 10  3 10  1 10] \n",
            "\n"
          ]
        }
      ]
    },
    {
      "cell_type": "markdown",
      "source": [
        "Matrizes multidimensionais tem `1` índice por eixo:"
      ],
      "metadata": {
        "id": "QLNFLuujHzJO"
      }
    },
    {
      "cell_type": "code",
      "source": [
        "b = np.array([[1, 2, 3], [4, 5, 6], [7, 8, 9]])\n",
        "\n",
        "print( b,\"\\n\")\n",
        "\n",
        "print(\"Primeira linha:\", b[0, :], \"\\n\")\n",
        "\n",
        "print(\"Terceira linha:\", b[2, :], \"\\n\")\n",
        "\n",
        "print(\"Elemento (2,3):\", b[1, 2], \"\\n\")"
      ],
      "metadata": {
        "id": "wgx0DjMUIU-5",
        "colab": {
          "base_uri": "https://localhost:8080/"
        },
        "outputId": "d7266bd0-6313-40e0-e74a-f318a046c287"
      },
      "execution_count": null,
      "outputs": [
        {
          "output_type": "stream",
          "name": "stdout",
          "text": [
            "[[1 2 3]\n",
            " [4 5 6]\n",
            " [7 8 9]] \n",
            "\n",
            "Primeira linha: [1 2 3] \n",
            "\n",
            "Terceira linha: [7 8 9] \n",
            "\n",
            "Elemento (2,3): 6 \n",
            "\n"
          ]
        }
      ]
    },
    {
      "cell_type": "code",
      "source": [
        "b = np.array([[1, 2, 3], [4, 5, 6], [7, 8, 9]])\n",
        "\n",
        "print( b,\"\\n\")\n",
        "\n",
        "print(b[:, 1], \"\\n\")      # todas as linhas e 2a coluna\n",
        "\n",
        "print(b[:2, 1], \"\\n\")     # 1a e 2a linhas e 2a coluna.\n",
        "\n",
        "print(b[1:, 2], \"\\n\")     # 2a e 3a linhas e 3a coluna.\n",
        "\n",
        "print(b[1:3, :])          # 2a e 3a linhas e todas as colunas."
      ],
      "metadata": {
        "id": "hcsBcoIjL-cl",
        "colab": {
          "base_uri": "https://localhost:8080/"
        },
        "outputId": "afbea46f-6de5-4124-bbc0-0e5570bf0a8b"
      },
      "execution_count": null,
      "outputs": [
        {
          "output_type": "stream",
          "name": "stdout",
          "text": [
            "[[1 2 3]\n",
            " [4 5 6]\n",
            " [7 8 9]] \n",
            "\n",
            "[2 5 8] \n",
            "\n",
            "[2 5] \n",
            "\n",
            "[6 9] \n",
            "\n",
            "[[4 5 6]\n",
            " [7 8 9]]\n"
          ]
        }
      ]
    },
    {
      "cell_type": "markdown",
      "source": [
        "Se forem passados menos índices que o número de eixos, todos os demais estarão completos:"
      ],
      "metadata": {
        "id": "0AWgAv41IVPf"
      }
    },
    {
      "cell_type": "code",
      "source": [
        "b[-1]     # A última linha. Equivale a b[-1, :]"
      ],
      "metadata": {
        "id": "JLsv4a2DI-Yw",
        "colab": {
          "base_uri": "https://localhost:8080/"
        },
        "outputId": "7a2150b5-acc2-48d4-aaf8-41eba642dfe1"
      },
      "execution_count": null,
      "outputs": [
        {
          "output_type": "execute_result",
          "data": {
            "text/plain": [
              "array([7, 8, 9])"
            ]
          },
          "metadata": {},
          "execution_count": 10
        }
      ]
    },
    {
      "cell_type": "markdown",
      "source": [
        "## Exercício 3\n",
        "\n",
        "* Crie um array 3x3 com valores de 1 a 9.\n",
        "* Extraia a segunda linha.\n",
        "* Extraia o último elemento da primeira linha.\n"
      ],
      "metadata": {
        "id": "AX-QsGU4HRmm"
      }
    },
    {
      "cell_type": "code",
      "source": [
        "#Crie um array 3x3 com valores de 1 a 9.\n",
        "\n",
        "import numpy as np #Importa a bibliotca NumPy como \"np\"\n",
        "\n",
        "a = np.arange(1,10).reshape(3,3) #Cria uma array de 1 a 9 pelo arange e, depois, modifica as suas dimensões para 3 x 3\n",
        "#Opção alternativa: a = np.array([[1,2,3], [4,5,6], [7,8,9]])\n",
        "\n",
        "print(a) #Saída: [[1 2 3]\n",
        "         #        [4 5 6]\n",
        "         #        [7 8 9]]\n",
        "print(\"-----\")\n",
        "\n",
        "#Extraia a segunda linha\n",
        "\n",
        "print(a[1]) #Seleciona a linha com índice 1, ou seja, a segunda linha. Como foi dado apenas 1 índice, os demais estão completos\n",
        "            #Equivale à a[1,:]\n",
        "            #Saída: [4 5 6]\n",
        "\n",
        "print(\"-----\")\n",
        "\n",
        "\n",
        "#Extraia o último elemento da primeira linha\n",
        "\n",
        "print(a[0,2]) #Primeira linha (Índice 1) e terceiro elemento, último (Índice 2)\n",
        "              #Saída: 3"
      ],
      "metadata": {
        "colab": {
          "base_uri": "https://localhost:8080/"
        },
        "id": "-XlwWcAuE8Ic",
        "outputId": "635ea8cd-81c0-4d44-bc1c-c6ef15ff6c2f"
      },
      "execution_count": null,
      "outputs": [
        {
          "output_type": "stream",
          "name": "stdout",
          "text": [
            "[[1 2 3]\n",
            " [4 5 6]\n",
            " [7 8 9]]\n",
            "-----\n",
            "[4 5 6]\n",
            "-----\n",
            "3\n"
          ]
        }
      ]
    },
    {
      "cell_type": "markdown",
      "source": [
        "## Empilhamento e Desmembramento"
      ],
      "metadata": {
        "id": "A3m2Ce1b32HW"
      }
    },
    {
      "cell_type": "markdown",
      "source": [
        "Várias matrizes podem ser empilhadas em diferentes eixos:"
      ],
      "metadata": {
        "id": "xiogCceYNAZG"
      }
    },
    {
      "cell_type": "code",
      "source": [
        "import numpy as np\n",
        "\n",
        "a = np.zeros((3,3))\n",
        "b = np.ones((3,3))\n",
        "\n",
        "print(a, \"\\n\")                   # Exibe a matriz 'a'.\n",
        "print(b, \"\\n\")                   # Exibe a matriz 'b'.\n",
        "\n",
        "print(np.vstack((a, b)), \"\\n\")   # Empilha 'a' e 'b' na vertical.\n",
        "print(np.hstack((a, b)), \"\\n\")   # Empilha 'a' e 'b' na horizontal."
      ],
      "metadata": {
        "id": "z_mZqlj3NMLO",
        "colab": {
          "base_uri": "https://localhost:8080/"
        },
        "outputId": "040ecc13-315a-4203-beb0-129f1f8966a9"
      },
      "execution_count": null,
      "outputs": [
        {
          "output_type": "stream",
          "name": "stdout",
          "text": [
            "[[0. 0. 0.]\n",
            " [0. 0. 0.]\n",
            " [0. 0. 0.]] \n",
            "\n",
            "[[1. 1. 1.]\n",
            " [1. 1. 1.]\n",
            " [1. 1. 1.]] \n",
            "\n",
            "[[0. 0. 0.]\n",
            " [0. 0. 0.]\n",
            " [0. 0. 0.]\n",
            " [1. 1. 1.]\n",
            " [1. 1. 1.]\n",
            " [1. 1. 1.]] \n",
            "\n",
            "[[0. 0. 0. 1. 1. 1.]\n",
            " [0. 0. 0. 1. 1. 1.]\n",
            " [0. 0. 0. 1. 1. 1.]] \n",
            "\n"
          ]
        }
      ]
    },
    {
      "cell_type": "markdown",
      "source": [
        "`hsplit()` permite desmembrar no eixo horizontal:"
      ],
      "metadata": {
        "id": "zY-wcIPoPniI"
      }
    },
    {
      "cell_type": "code",
      "source": [
        "a = np.arange(18).reshape(3, 6)\n",
        "print(a, \"\\n\")\n",
        "\n",
        "# Desmembra 'a' por colunas em 3 partes iguais\n",
        "parte1, parte2, parte3 = np.hsplit( a, 3)\n",
        "print(\"Parte 1:\\n\", parte1)\n",
        "print(\"Parte 2:\\n\", parte2)\n",
        "print(\"Parte 3:\\n\", parte3)\n",
        "\n",
        "\n",
        "# Dividindo após a 2ª e a 5ª coluna\n",
        "print(\"\\n\")\n",
        "parte1, parte2, parte3 = np.hsplit(a, [1, 4])\n",
        "\n",
        "print(\"Parte 1:\\n\", parte1)\n",
        "print(\"Parte 2:\\n\", parte2)\n",
        "print(\"Parte 3:\\n\", parte3)"
      ],
      "metadata": {
        "id": "kTPHDOAIPuAf",
        "colab": {
          "base_uri": "https://localhost:8080/"
        },
        "outputId": "584c1e02-b0a9-4de4-f383-40e250c7661e"
      },
      "execution_count": null,
      "outputs": [
        {
          "output_type": "stream",
          "name": "stdout",
          "text": [
            "[[ 0  1  2  3  4  5]\n",
            " [ 6  7  8  9 10 11]\n",
            " [12 13 14 15 16 17]] \n",
            "\n",
            "Parte 1:\n",
            " [[ 0  1]\n",
            " [ 6  7]\n",
            " [12 13]]\n",
            "Parte 2:\n",
            " [[ 2  3]\n",
            " [ 8  9]\n",
            " [14 15]]\n",
            "Parte 3:\n",
            " [[ 4  5]\n",
            " [10 11]\n",
            " [16 17]]\n",
            "\n",
            "\n",
            "Parte 1:\n",
            " [[ 0]\n",
            " [ 6]\n",
            " [12]]\n",
            "Parte 2:\n",
            " [[ 1  2  3]\n",
            " [ 7  8  9]\n",
            " [13 14 15]]\n",
            "Parte 3:\n",
            " [[ 4  5]\n",
            " [10 11]\n",
            " [16 17]]\n"
          ]
        }
      ]
    },
    {
      "cell_type": "markdown",
      "source": [
        "`vsplit()` desmembra na vertical e `array_split()` permite escolher o eixo."
      ],
      "metadata": {
        "id": "lHJ5S7X-PuMf"
      }
    },
    {
      "cell_type": "markdown",
      "source": [
        "## Exercício 4\n",
        "\n",
        "1. Crie dois arrays 1D, `a` e `b`, com valores de 1 a 5 e de 6 a 10, respectivamente.\n",
        "1. Empilhe `a` e `b` verticalmente para formar um array 2D.\n",
        "1. Em seguida, empilhe `a` e `b` horizontalmente para formar um array 1x10.\n",
        "\n",
        "Dica: Use np.vstack() para empilhamento vertical e np.hstack() para empilhamento horizontal."
      ],
      "metadata": {
        "id": "51J12pDOF2tT"
      }
    },
    {
      "cell_type": "code",
      "source": [
        "#1. Crie dois arrays 1D, a e b, com valores de 1 a 5 e de 6 a 10, respectivamente.\n",
        "#Dica: Use np.vstack() para empilhamento vertical e np.hstack() para empilhamento horizontal.\n",
        "\n",
        "import numpy as np #Importa a biblioteca NumPy como \"np\"\n",
        "\n",
        "a = np.arange(1, 6) #Cria o array unidimensional \"a\" com valores de 1 a 5\n",
        "b = np.arange(6, 11) ##Cria o array unidimensional \"b\" com valores de 6 a 10\n",
        "\n",
        "print(\"A:\", a) #Saída: \"A: [1 2 3 4 5]\"\n",
        "print(\"B:\", b) #Saída: \"B: [ 6  7  8  9 10]\"\n",
        "print(\"-----\")\n",
        "\n",
        "\n",
        "\n",
        "#2. Empilhe a e b verticalmente para formar um array 2D.\n",
        "\n",
        "print(np.vstack((a,b))) #Empilha \"a\" e \"b\" na vertical, formando um array bidimensional\n",
        "print(\"-----\")\n",
        "\n",
        "#3. Em seguida, empilhe a e b horizontalmente para formar um array 1x10.\n",
        "\n",
        "print(np.hstack((a,b))) #Empilha \"a\" e \"b\" na horizontal, formando um array com 1 linha e 10 colunas"
      ],
      "metadata": {
        "colab": {
          "base_uri": "https://localhost:8080/"
        },
        "id": "9z9FwPFUJowU",
        "outputId": "b3103c9f-f493-4346-89b0-2abdccebb01c"
      },
      "execution_count": null,
      "outputs": [
        {
          "output_type": "stream",
          "name": "stdout",
          "text": [
            "A: [1 2 3 4 5]\n",
            "B: [ 6  7  8  9 10]\n",
            "-----\n",
            "[[ 1  2  3  4  5]\n",
            " [ 6  7  8  9 10]]\n",
            "-----\n",
            "[ 1  2  3  4  5  6  7  8  9 10]\n"
          ]
        }
      ]
    },
    {
      "cell_type": "markdown",
      "source": [
        "## Cópias e visualizações"
      ],
      "metadata": {
        "id": "HXMKSvne4hG5"
      }
    },
    {
      "cell_type": "markdown",
      "source": [
        "Algumas operações copiam a matriz outras não. Atribuições não fazem cópias de objetos ou dados.\n",
        "\n",
        "Veja os exemplos."
      ],
      "metadata": {
        "id": "G65uhbIHQNIP"
      }
    },
    {
      "cell_type": "code",
      "source": [
        "import numpy as np\n",
        "\n",
        "A = np.zeros((3,3))\n",
        "\n",
        "B = A          ## atribuição não é cópia\n",
        "\n",
        "A[:,1] = 100   ## note que ao alterar \"A\" a matriz \"B\" também será alterada\n",
        "\n",
        "print(\"A = \")\n",
        "print(A)\n",
        "\n",
        "print(\"\\nB = \")\n",
        "print(B)\n",
        "\n",
        "print(\"\\nA e B são o mesmo objeto?\")\n",
        "print(B is A)\n",
        "\n",
        "print(f\"\\nid(A): {id(A)}, id(B): {id(B)}\") ## A e B possuem o mesmo id"
      ],
      "metadata": {
        "id": "XQmeINJ7tpd_"
      },
      "execution_count": null,
      "outputs": []
    },
    {
      "cell_type": "code",
      "source": [
        "## No entanto, pode-se gerar uma cópia\n",
        "import numpy as np\n",
        "\n",
        "A = np.zeros((3,3))\n",
        "\n",
        "B = A.copy()    ## atribuição não é cópia\n",
        "\n",
        "A[:,1] = 100    ## note que ao alterar \"A\", a matriz \"B\" ainda será a mesma.\n",
        "\n",
        "print(\"A = \")\n",
        "print(A)\n",
        "\n",
        "print(\"\\nB = \")\n",
        "print(B)\n",
        "\n",
        "print(\"\\nA e B são o mesmo objeto?\")\n",
        "print(B is A)\n",
        "\n",
        "\n",
        "print(f\"\\nid(A): {id(A)}, id(B): {id(B)}\") ## A e B possuem id's diferentes"
      ],
      "metadata": {
        "id": "cjpdbROrxB2c"
      },
      "execution_count": null,
      "outputs": []
    },
    {
      "cell_type": "markdown",
      "source": [
        "O Python passa objetos mutáveis por referência para funções, de modo que a chamada de uma função não faz uma cópia.\n",
        "\n",
        ">  Se um objeto passado por referência for modificado dentro de uma função, ele também será modificado fora dela."
      ],
      "metadata": {
        "id": "6UiNZTlAQaLe"
      }
    },
    {
      "cell_type": "code",
      "source": [
        "def f(x):\n",
        "  return id(x)\n",
        "\n",
        "a = np.zeros((3,3))\n",
        "\n",
        "print(id(a))    # ID é o identificador único do objeto\n",
        "print(f(a))     # mesmo ID\n"
      ],
      "metadata": {
        "id": "OsJSuMcQRLBn"
      },
      "execution_count": null,
      "outputs": []
    },
    {
      "cell_type": "markdown",
      "source": [
        "Ou seja, se o objeto for alterado dentro da função, então ele será alterado também fora da função."
      ],
      "metadata": {
        "id": "1O8AzwXyzxGf"
      }
    },
    {
      "cell_type": "code",
      "source": [
        "def f(x):\n",
        "  x[:, 1] = 100\n",
        "  return;\n",
        "\n",
        "A = np.zeros((3,3))\n",
        "f(A)\n",
        "print(A)     # \"A\" foi modificada dentro da função"
      ],
      "metadata": {
        "id": "HCvyaj0Kz9Bg"
      },
      "execution_count": null,
      "outputs": []
    },
    {
      "cell_type": "markdown",
      "source": [
        "Para evitar este possível problema, pode-se passar um cópia."
      ],
      "metadata": {
        "id": "ccn2kgxK0uoA"
      }
    },
    {
      "cell_type": "code",
      "source": [
        "def f(x):\n",
        "  x[:, 1] = 100\n",
        "  return;\n",
        "\n",
        "A = np.zeros((3,3))\n",
        "\n",
        "f( A.copy() )  # A cópia de \"A\" é passada para a função\n",
        "\n",
        "print(A)       # A matriz \"A\" continua a mesma"
      ],
      "metadata": {
        "id": "REXGwGo_00OR"
      },
      "execution_count": null,
      "outputs": []
    },
    {
      "cell_type": "markdown",
      "source": [
        "Diferentes matrizes podem compartilhar o mesmo dado. O método `view` cria uma visualização da matriz."
      ],
      "metadata": {
        "id": "ZKnIy3FMRLM2"
      }
    },
    {
      "cell_type": "code",
      "source": [
        "import numpy as np\n",
        "\n",
        "a = np.arange(12).reshape(3, 4)\n",
        "print(a, \"\\n\")\n",
        "\n",
        "c = a.view()\n",
        "\n",
        "print(c is a, \"\\n\")      ## \"c\" é uma visualização de \"a\"\n",
        "\n",
        "c = c.reshape((2, 6))    ## Não muda a dimensão de 'a'\n",
        "print(a.shape, \"\\n\")\n",
        "\n",
        "c[0, 4] = 100            ## Muda os dados em 'a'\n",
        "print(a)"
      ],
      "metadata": {
        "id": "V5J0F-A4RpgO"
      },
      "execution_count": null,
      "outputs": []
    },
    {
      "cell_type": "markdown",
      "source": [
        "Fatiar uma matriz retorna uma visualização:"
      ],
      "metadata": {
        "id": "HI9rtZm3RptG"
      }
    },
    {
      "cell_type": "code",
      "source": [
        "import numpy as np\n",
        "\n",
        "a = np.arange(12).reshape(3, 4)\n",
        "\n",
        "print(\"a:\\n\",a,\"\\n\")\n",
        "\n",
        "s = a[:, 1:3]          # \"s\" é uma visualização de uma parte de \"a\".\n",
        "print(\"s:\\n\",s,\"\\n\")\n",
        "\n",
        "print(s is a, \"\\n\")\n",
        "\n",
        "s[:] = 10              # s[:] é uma visualização de 's'.\n",
        "print(\"s:\\n\",s,\"\\n\")\n",
        "\n",
        "print(\"a:\\n\",a,\"\\n\")   # ao alterar \"s\", o objeto \"a\" também foi alterado."
      ],
      "metadata": {
        "id": "Jt9kZGJBSMno"
      },
      "execution_count": null,
      "outputs": []
    },
    {
      "cell_type": "markdown",
      "source": [
        "## Exercício 5\n",
        "\n",
        "1. Crie uma matriz A de tamanho 4x3 de zeros.\n",
        "1. Faça `B=A` e `C=A.copy()`.\n",
        "1. Verifique se `B` e `C` são os mesmos objetos utilizando `is`.\n",
        "1. Mostre os id's de `A`, `B` e `C`.\n",
        "1. Altere um elemento de `A` e veja o que acontece com `B` e com `C`."
      ],
      "metadata": {
        "id": "V_lm3i7TG9nn"
      }
    }
  ]
}